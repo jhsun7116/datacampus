{
  "nbformat": 4,
  "nbformat_minor": 0,
  "metadata": {
    "colab": {
      "name": "0728_04_drop_the_overfitting_regularizer.ipynb",
      "provenance": []
    },
    "kernelspec": {
      "name": "python3",
      "display_name": "Python 3"
    }
  },
  "cells": [
    {
      "cell_type": "markdown",
      "metadata": {
        "id": "oxvA9boLCa4g",
        "colab_type": "text"
      },
      "source": [
        "데이터 준비하기"
      ]
    },
    {
      "cell_type": "code",
      "metadata": {
        "id": "s2Eos03u8UsC",
        "colab_type": "code",
        "colab": {
          "base_uri": "https://localhost:8080/",
          "height": 70
        },
        "outputId": "41e8eec0-a896-4036-faea-3e49027389c3"
      },
      "source": [
        "from tensorflow.keras.datasets import cifar10\n",
        "import numpy as np\n",
        "\n",
        "#데이터 다운로드\n",
        "(x_train, y_train), (x_test, y_test) = cifar10.load_data()\n",
        "\n",
        "# 평균과 표준편차는 채널별로 구해줍니다.\n",
        "x_mean = np.mean(x_train, axis = (0, 1, 2))\n",
        "x_std = np.std(x_train, axis = (0, 1, 2))\n",
        "\n",
        "x_train = (x_train - x_mean) / x_std\n",
        "x_test = (x_test - x_mean) / x_std\n",
        "\n",
        "\n",
        "#학습데이터 검증 데이터 나누기\n",
        "from sklearn.model_selection import train_test_split\n",
        "\n",
        "x_train, x_val, y_train, y_val = train_test_split(x_train, y_train, test_size = 0.3)\n",
        "print('data ready~')"
      ],
      "execution_count": null,
      "outputs": [
        {
          "output_type": "stream",
          "text": [
            "Downloading data from https://www.cs.toronto.edu/~kriz/cifar-10-python.tar.gz\n",
            "170500096/170498071 [==============================] - 11s 0us/step\n",
            "data ready~\n"
          ],
          "name": "stdout"
        }
      ]
    },
    {
      "cell_type": "markdown",
      "metadata": {
        "id": "-nTyPDnaC_7R",
        "colab_type": "text"
      },
      "source": [
        "규제화 함수 사용하여 모델 구성"
      ]
    },
    {
      "cell_type": "code",
      "metadata": {
        "id": "xs62KdV7DB5g",
        "colab_type": "code",
        "colab": {}
      },
      "source": [
        "from tensorflow.keras.models import Sequential\n",
        "from tensorflow.keras.layers import Conv2D, MaxPool2D, Dense, Flatten\n",
        "from tensorflow.keras.optimizers import Adam\n",
        "from tensorflow.keras.regularizers import l2\n",
        "\n",
        "model = Sequential()\n",
        "# 입력 데이터는 (32, 32, 3)의 형태를 가집니다.\n",
        "model.add(Conv2D(filters = 32, kernel_size = 3, padding = 'same', activation = 'relu', input_shape = (32, 32, 3)))\n",
        "model.add(Conv2D(filters = 32, kernel_size = 3, padding = 'same', activation = 'relu', kernel_regularizer = l2(0.001)))\n",
        "model.add(MaxPool2D(pool_size = (2, 2), strides = 2, padding = 'same'))\n",
        "model.add(Conv2D(filters = 64, kernel_size = 3, padding = 'same', activation = 'relu'))\n",
        "model.add(Conv2D(filters = 64, kernel_size = 3, padding = 'same', activation = 'relu', kernel_regularizer = l2(0.001)))\n",
        "model.add(MaxPool2D(pool_size = (2, 2), strides = 2, padding = 'same'))\n",
        "model.add(Conv2D(filters = 128, kernel_size = 3, padding = 'same', activation = 'relu'))\n",
        "model.add(Conv2D(filters = 128, kernel_size = 3, padding = 'same', activation = 'relu', kernel_regularizer = l2(0.001)))\n",
        "model.add(MaxPool2D(pool_size = (2, 2), strides = 2, padding = 'same'))\n",
        "model.add(Flatten())\n",
        "model.add(Dense(256, activation = 'relu', kernel_regularizer = l2(0.001)))\n",
        "model.add(Dense(10, activation = 'softmax'))"
      ],
      "execution_count": null,
      "outputs": []
    },
    {
      "cell_type": "markdown",
      "metadata": {
        "id": "nAEO21SIDYoE",
        "colab_type": "text"
      },
      "source": [
        "모델 설정하기"
      ]
    },
    {
      "cell_type": "code",
      "metadata": {
        "id": "QFKEU_VcDZSg",
        "colab_type": "code",
        "colab": {}
      },
      "source": [
        "model.compile(optimizer = Adam(1e-4),\n",
        "             loss = 'sparse_categorical_crossentropy',\n",
        "             metrics = ['acc'])"
      ],
      "execution_count": null,
      "outputs": []
    },
    {
      "cell_type": "markdown",
      "metadata": {
        "id": "bmpHi9vhDgnU",
        "colab_type": "text"
      },
      "source": [
        "모델 학습하기"
      ]
    },
    {
      "cell_type": "code",
      "metadata": {
        "id": "SG7QMw3iDhT0",
        "colab_type": "code",
        "colab": {
          "base_uri": "https://localhost:8080/",
          "height": 1000
        },
        "outputId": "8bb14136-bfab-4f5a-9347-e3fe82b157e6"
      },
      "source": [
        "history = model.fit(x_train, y_train,\n",
        "                    epochs = 30,\n",
        "                    batch_size = 32,\n",
        "                    validation_data = (x_val, y_val))"
      ],
      "execution_count": null,
      "outputs": [
        {
          "output_type": "stream",
          "text": [
            "Epoch 1/30\n",
            "1094/1094 [==============================] - 17s 15ms/step - loss: 2.0965 - acc: 0.4122 - val_loss: 1.8476 - val_acc: 0.4788\n",
            "Epoch 2/30\n",
            "1094/1094 [==============================] - 16s 15ms/step - loss: 1.6639 - acc: 0.5471 - val_loss: 1.5814 - val_acc: 0.5754\n",
            "Epoch 3/30\n",
            "1094/1094 [==============================] - 16s 15ms/step - loss: 1.4681 - acc: 0.6111 - val_loss: 1.4608 - val_acc: 0.6053\n",
            "Epoch 4/30\n",
            "1094/1094 [==============================] - 16s 14ms/step - loss: 1.3189 - acc: 0.6613 - val_loss: 1.3343 - val_acc: 0.6473\n",
            "Epoch 5/30\n",
            "1094/1094 [==============================] - 16s 15ms/step - loss: 1.2036 - acc: 0.6944 - val_loss: 1.2895 - val_acc: 0.6719\n",
            "Epoch 6/30\n",
            "1094/1094 [==============================] - 16s 15ms/step - loss: 1.1104 - acc: 0.7233 - val_loss: 1.2099 - val_acc: 0.6887\n",
            "Epoch 7/30\n",
            "1094/1094 [==============================] - 16s 15ms/step - loss: 1.0285 - acc: 0.7507 - val_loss: 1.1629 - val_acc: 0.7069\n",
            "Epoch 8/30\n",
            "1094/1094 [==============================] - 16s 14ms/step - loss: 0.9533 - acc: 0.7741 - val_loss: 1.1553 - val_acc: 0.7045\n",
            "Epoch 9/30\n",
            "1094/1094 [==============================] - 16s 14ms/step - loss: 0.8844 - acc: 0.7954 - val_loss: 1.1558 - val_acc: 0.7115\n",
            "Epoch 10/30\n",
            "1094/1094 [==============================] - 16s 14ms/step - loss: 0.8135 - acc: 0.8186 - val_loss: 1.1079 - val_acc: 0.7267\n",
            "Epoch 11/30\n",
            "1094/1094 [==============================] - 16s 15ms/step - loss: 0.7563 - acc: 0.8361 - val_loss: 1.1346 - val_acc: 0.7205\n",
            "Epoch 12/30\n",
            "1094/1094 [==============================] - 16s 15ms/step - loss: 0.6921 - acc: 0.8599 - val_loss: 1.1599 - val_acc: 0.7212\n",
            "Epoch 13/30\n",
            "1094/1094 [==============================] - 16s 14ms/step - loss: 0.6370 - acc: 0.8778 - val_loss: 1.1669 - val_acc: 0.7299\n",
            "Epoch 14/30\n",
            "1094/1094 [==============================] - 16s 14ms/step - loss: 0.5820 - acc: 0.8965 - val_loss: 1.2046 - val_acc: 0.7267\n",
            "Epoch 15/30\n",
            "1094/1094 [==============================] - 16s 14ms/step - loss: 0.5313 - acc: 0.9121 - val_loss: 1.2612 - val_acc: 0.7191\n",
            "Epoch 16/30\n",
            "1094/1094 [==============================] - 16s 15ms/step - loss: 0.4887 - acc: 0.9286 - val_loss: 1.3174 - val_acc: 0.7252\n",
            "Epoch 17/30\n",
            "1094/1094 [==============================] - 16s 14ms/step - loss: 0.4518 - acc: 0.9397 - val_loss: 1.3496 - val_acc: 0.7307\n",
            "Epoch 18/30\n",
            "1094/1094 [==============================] - 16s 14ms/step - loss: 0.4207 - acc: 0.9505 - val_loss: 1.3840 - val_acc: 0.7266\n",
            "Epoch 19/30\n",
            "1094/1094 [==============================] - 16s 14ms/step - loss: 0.4019 - acc: 0.9561 - val_loss: 1.4627 - val_acc: 0.7251\n",
            "Epoch 20/30\n",
            "1094/1094 [==============================] - 16s 14ms/step - loss: 0.3765 - acc: 0.9643 - val_loss: 1.5262 - val_acc: 0.7281\n",
            "Epoch 21/30\n",
            "1094/1094 [==============================] - 16s 14ms/step - loss: 0.3666 - acc: 0.9668 - val_loss: 1.5358 - val_acc: 0.7235\n",
            "Epoch 22/30\n",
            "1094/1094 [==============================] - 16s 14ms/step - loss: 0.3574 - acc: 0.9690 - val_loss: 1.5683 - val_acc: 0.7257\n",
            "Epoch 23/30\n",
            "1094/1094 [==============================] - 16s 14ms/step - loss: 0.3522 - acc: 0.9695 - val_loss: 1.6076 - val_acc: 0.7273\n",
            "Epoch 24/30\n",
            "1094/1094 [==============================] - 16s 14ms/step - loss: 0.3313 - acc: 0.9757 - val_loss: 1.6653 - val_acc: 0.7191\n",
            "Epoch 25/30\n",
            "1094/1094 [==============================] - 16s 14ms/step - loss: 0.3318 - acc: 0.9753 - val_loss: 1.8220 - val_acc: 0.7155\n",
            "Epoch 26/30\n",
            "1094/1094 [==============================] - 16s 15ms/step - loss: 0.3246 - acc: 0.9761 - val_loss: 1.6077 - val_acc: 0.7335\n",
            "Epoch 27/30\n",
            "1094/1094 [==============================] - 16s 15ms/step - loss: 0.3139 - acc: 0.9791 - val_loss: 1.6999 - val_acc: 0.7195\n",
            "Epoch 28/30\n",
            "1094/1094 [==============================] - 16s 14ms/step - loss: 0.3102 - acc: 0.9791 - val_loss: 1.6848 - val_acc: 0.7255\n",
            "Epoch 29/30\n",
            "1094/1094 [==============================] - 16s 14ms/step - loss: 0.3045 - acc: 0.9809 - val_loss: 1.6989 - val_acc: 0.7264\n",
            "Epoch 30/30\n",
            "1094/1094 [==============================] - 16s 14ms/step - loss: 0.2978 - acc: 0.9813 - val_loss: 1.7588 - val_acc: 0.7215\n"
          ],
          "name": "stdout"
        }
      ]
    },
    {
      "cell_type": "markdown",
      "metadata": {
        "id": "bewZLHBIFtx1",
        "colab_type": "text"
      },
      "source": [
        "학습 과정 그려보기"
      ]
    },
    {
      "cell_type": "code",
      "metadata": {
        "id": "_ZNlRLuYFugQ",
        "colab_type": "code",
        "colab": {
          "base_uri": "https://localhost:8080/",
          "height": 350
        },
        "outputId": "688b0015-66f9-49a7-c035-2929a00b3923"
      },
      "source": [
        "import matplotlib.pyplot as plt\n",
        "\n",
        "his_dict = history.history\n",
        "loss = his_dict['loss']\n",
        "val_loss = his_dict['val_loss'] \n",
        "\n",
        "epochs = range(1, len(loss) + 1)\n",
        "fig = plt.figure(figsize = (10, 5))\n",
        "\n",
        "# 훈련 및 검증 손실 그리기\n",
        "ax1 = fig.add_subplot(1, 2, 1)\n",
        "ax1.plot(epochs, loss, color = 'blue', label = 'train_loss')\n",
        "ax1.plot(epochs, val_loss, color = 'orange', label = 'val_loss')\n",
        "ax1.set_title('train and val loss')\n",
        "ax1.set_xlabel('epochs')\n",
        "ax1.set_ylabel('loss')\n",
        "ax1.legend()\n",
        "\n",
        "acc = his_dict['acc']\n",
        "val_acc = his_dict['val_acc']\n",
        "\n",
        "# 훈련 및 검증 정확도 그리기\n",
        "ax2 = fig.add_subplot(1, 2, 2)\n",
        "ax2.plot(epochs, acc, color = 'blue', label = 'train_acc')\n",
        "ax2.plot(epochs, val_acc, color = 'orange', label = 'val_acc')\n",
        "ax2.set_title('train and val acc')\n",
        "ax2.set_xlabel('epochs')\n",
        "ax2.set_ylabel('acc')\n",
        "ax2.legend()\n",
        "\n",
        "plt.show()"
      ],
      "execution_count": null,
      "outputs": [
        {
          "output_type": "display_data",
          "data": {
            "image/png": "[encoded data removed]",
            "text/plain": [
              "<Figure size 720x360 with 2 Axes>"
            ]
          },
          "metadata": {
            "tags": [],
            "needs_background": "light"
          }
        }
      ]
    },
    {
      "cell_type": "markdown",
      "metadata": {
        "id": "E5DA06zpGlEC",
        "colab_type": "text"
      },
      "source": [
        "모델 평가하기"
      ]
    },
    {
      "cell_type": "code",
      "metadata": {
        "id": "fV5ifqBnGlsP",
        "colab_type": "code",
        "colab": {
          "base_uri": "https://localhost:8080/",
          "height": 52
        },
        "outputId": "a991887c-03dd-4dc8-e4db-904bc72d1804"
      },
      "source": [
        "model.evaluate(x_test, y_test)"
      ],
      "execution_count": null,
      "outputs": [
        {
          "output_type": "stream",
          "text": [
            "313/313 [==============================] - 2s 7ms/step - loss: 1.7656 - acc: 0.7288\n"
          ],
          "name": "stdout"
        },
        {
          "output_type": "execute_result",
          "data": {
            "text/plain": [
              "[1.765614628791809, 0.7287999987602234]"
            ]
          },
          "metadata": {
            "tags": []
          },
          "execution_count": 11
        }
      ]
    }
  ]
}