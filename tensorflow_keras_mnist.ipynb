{
  "nbformat": 4,
  "nbformat_minor": 0,
  "metadata": {
    "colab": {
      "name": "0724_02mnist.ipynb",
      "provenance": []
    },
    "kernelspec": {
      "name": "python3",
      "display_name": "Python 3"
    }
  },
  "cells": [
    {
      "cell_type": "markdown",
      "metadata": {
        "id": "COt29o-RDJjM",
        "colab_type": "text"
      },
      "source": [
        "MNIST 데이터셋 다운로드\n",
        "- 케라스에서 제공하는 데이터 셋은 전부 tf.keras.datasets를 통해 접근 가능\n",
        "- load_data() 함수는 (x_train, y_train), (x_test, y_test) 형태로 분할해서 제공"
      ]
    },
    {
      "cell_type": "code",
      "metadata": {
        "id": "NJFwH-f6DEIR",
        "colab_type": "code",
        "colab": {
          "base_uri": "https://localhost:8080/",
          "height": 53
        },
        "outputId": "73af10e3-0574-4804-8f5e-fab60a9283d6"
      },
      "source": [
        "from tensorflow.keras.datasets.mnist import load_data\n",
        "\n",
        "# 텐서플로우 저장소에서 데이터를 다운받습니다.\n",
        "(x_train, y_train), (x_test, y_test) = load_data(path='mnist.npz')\n"
      ],
      "execution_count": null,
      "outputs": [
        {
          "output_type": "stream",
          "text": [
            "Downloading data from https://storage.googleapis.com/tensorflow/tf-keras-datasets/mnist.npz\n",
            "11493376/11490434 [==============================] - 0s 0us/step\n"
          ],
          "name": "stdout"
        }
      ]
    },
    {
      "cell_type": "markdown",
      "metadata": {
        "id": "EIicQ2SCEcff",
        "colab_type": "text"
      },
      "source": [
        "데이터의 형태 확인하기"
      ]
    },
    {
      "cell_type": "code",
      "metadata": {
        "id": "UgPmSdn4EeiK",
        "colab_type": "code",
        "colab": {
          "base_uri": "https://localhost:8080/",
          "height": 971
        },
        "outputId": "363e367b-fefb-4c42-d28a-329bb4bce75e"
      },
      "source": [
        "# 훈련 데이터\n",
        "print(x_train.shape, y_train.shape)\n",
        "print(x_train)\n",
        "print(y_train)\n",
        "\n",
        "# 테스트 데이터\n",
        "print(x_test.shape, y_test.shape)\n",
        "print(y_test)\n"
      ],
      "execution_count": null,
      "outputs": [
        {
          "output_type": "stream",
          "text": [
            "(60000, 28, 28) (60000,)\n",
            "[[[0 0 0 ... 0 0 0]\n",
            "  [0 0 0 ... 0 0 0]\n",
            "  [0 0 0 ... 0 0 0]\n",
            "  ...\n",
            "  [0 0 0 ... 0 0 0]\n",
            "  [0 0 0 ... 0 0 0]\n",
            "  [0 0 0 ... 0 0 0]]\n",
            "\n",
            " [[0 0 0 ... 0 0 0]\n",
            "  [0 0 0 ... 0 0 0]\n",
            "  [0 0 0 ... 0 0 0]\n",
            "  ...\n",
            "  [0 0 0 ... 0 0 0]\n",
            "  [0 0 0 ... 0 0 0]\n",
            "  [0 0 0 ... 0 0 0]]\n",
            "\n",
            " [[0 0 0 ... 0 0 0]\n",
            "  [0 0 0 ... 0 0 0]\n",
            "  [0 0 0 ... 0 0 0]\n",
            "  ...\n",
            "  [0 0 0 ... 0 0 0]\n",
            "  [0 0 0 ... 0 0 0]\n",
            "  [0 0 0 ... 0 0 0]]\n",
            "\n",
            " ...\n",
            "\n",
            " [[0 0 0 ... 0 0 0]\n",
            "  [0 0 0 ... 0 0 0]\n",
            "  [0 0 0 ... 0 0 0]\n",
            "  ...\n",
            "  [0 0 0 ... 0 0 0]\n",
            "  [0 0 0 ... 0 0 0]\n",
            "  [0 0 0 ... 0 0 0]]\n",
            "\n",
            " [[0 0 0 ... 0 0 0]\n",
            "  [0 0 0 ... 0 0 0]\n",
            "  [0 0 0 ... 0 0 0]\n",
            "  ...\n",
            "  [0 0 0 ... 0 0 0]\n",
            "  [0 0 0 ... 0 0 0]\n",
            "  [0 0 0 ... 0 0 0]]\n",
            "\n",
            " [[0 0 0 ... 0 0 0]\n",
            "  [0 0 0 ... 0 0 0]\n",
            "  [0 0 0 ... 0 0 0]\n",
            "  ...\n",
            "  [0 0 0 ... 0 0 0]\n",
            "  [0 0 0 ... 0 0 0]\n",
            "  [0 0 0 ... 0 0 0]]]\n",
            "[5 0 4 ... 5 6 8]\n",
            "(10000, 28, 28) (10000,)\n",
            "[7 2 1 ... 4 5 6]\n"
          ],
          "name": "stdout"
        }
      ]
    },
    {
      "cell_type": "markdown",
      "metadata": {
        "id": "7uMzSe4BFBJx",
        "colab_type": "text"
      },
      "source": [
        "데이터 그려보기"
      ]
    },
    {
      "cell_type": "code",
      "metadata": {
        "id": "cTohKh3QFCUF",
        "colab_type": "code",
        "colab": {
          "base_uri": "https://localhost:8080/",
          "height": 809
        },
        "outputId": "0cc92764-ca09-423e-aa65-1f231fe520d3"
      },
      "source": [
        "import matplotlib.pyplot as plt\n",
        "import numpy as np\n",
        "np.random.seed(777)\n",
        "\n",
        "sample_size = 3\n",
        "\n",
        "# 0~59999의 범위에서 무작위로 3개의 정수를 뽑습니다.\n",
        "random_idx = np.random.randint(60000, size=sample_size) \n",
        "\n",
        "for idx in random_idx:\n",
        "    img = x_train[idx, :]\n",
        "    label = y_train[idx]\n",
        "    plt.figure()\n",
        "    plt.imshow(img)\n",
        "    plt.title('%d-th data, label is %d' % (idx,label))\n"
      ],
      "execution_count": null,
      "outputs": [
        {
          "output_type": "display_data",
          "data": {
            "image/png": "[encoded data removed]",
            "text/plain": [
              "<Figure size 432x288 with 1 Axes>"
            ]
          },
          "metadata": {
            "tags": [],
            "needs_background": "light"
          }
        },
        {
          "output_type": "display_data",
          "data": {
            "image/png": "[encoded data removed]",
            "text/plain": [
              "<Figure size 432x288 with 1 Axes>"
            ]
          },
          "metadata": {
            "tags": [],
            "needs_background": "light"
          }
        },
        {
          "output_type": "display_data",
          "data": {
            "image/png": "[encoded data removed]",
            "text/plain": [
              "<Figure size 432x288 with 1 Axes>"
            ]
          },
          "metadata": {
            "tags": [],
            "needs_background": "light"
          }
        }
      ]
    },
    {
      "cell_type": "markdown",
      "metadata": {
        "id": "UfBR4CBSFs-l",
        "colab_type": "text"
      },
      "source": [
        "검증 데이터 만들기"
      ]
    },
    {
      "cell_type": "code",
      "metadata": {
        "id": "eGX8s4kxFxk7",
        "colab_type": "code",
        "colab": {
          "base_uri": "https://localhost:8080/",
          "height": 53
        },
        "outputId": "fc308cc6-8ca2-4554-e033-5c43d2e15ee9"
      },
      "source": [
        "from sklearn.model_selection import train_test_split\n",
        "\n",
        "# 훈련/테스트 데이터를 0.7/0.3의 비율로 분리합니다.\n",
        "x_train, x_val, y_train, y_val = train_test_split(x_train, y_train, \n",
        "                                                  test_size = 0.3, \n",
        "                                                  random_state = 777)\n",
        "print(f'훈련 데이터 {x_train.shape} 레이블 {y_train.shape}')\n",
        "print(f'검증 데이터 {x_val.shape} 레이블 {y_val.shape}')\n",
        "\n"
      ],
      "execution_count": null,
      "outputs": [
        {
          "output_type": "stream",
          "text": [
            "훈련 데이터 (42000, 28, 28) 레이블 (42000,)\n",
            "검증 데이터 (18000, 28, 28) 레이블 (18000,)\n"
          ],
          "name": "stdout"
        }
      ]
    },
    {
      "cell_type": "markdown",
      "metadata": {
        "id": "WeYtRGylIC3G",
        "colab_type": "text"
      },
      "source": [
        "모델 입력을 위한 데이터 전처리\n",
        "- 0 ~ 225 사이의 값을 0 ~ 1사이 값으로 전처리\n",
        "- 제일 좋은 방법은 모든 값을 225로 나눠준다."
      ]
    },
    {
      "cell_type": "code",
      "metadata": {
        "id": "sSCssZY1ICQH",
        "colab_type": "code",
        "colab": {
          "base_uri": "https://localhost:8080/",
          "height": 161
        },
        "outputId": "cc44aec3-f24e-44de-e7c0-352f3dd166bc"
      },
      "source": [
        "num_x_train = x_train.shape[0]    # 트레이닝 데이터\n",
        "num_x_val = x_val.shape[0]        # 검증데이터\n",
        "num_x_test = x_test.shape[0]      # 테스트 데이터\n",
        "\n",
        "# 모델의 입력으로 사용하기 위한 전처리 과정입니다.\n",
        "x_train = (x_train.reshape((num_x_train, 28 * 28))) / 255\n",
        "x_val = (x_val.reshape((num_x_val, 28 * 28))) / 255\n",
        "x_test = (x_test.reshape((num_x_test, 28 * 28))) / 255\n",
        "\n",
        "print(x_train.shape) # 모델 입력을 위해 데이터를 784차원으로 변경합니다\n",
        "print(x_train)"
      ],
      "execution_count": null,
      "outputs": [
        {
          "output_type": "stream",
          "text": [
            "(42000, 784)\n",
            "[[0. 0. 0. ... 0. 0. 0.]\n",
            " [0. 0. 0. ... 0. 0. 0.]\n",
            " [0. 0. 0. ... 0. 0. 0.]\n",
            " ...\n",
            " [0. 0. 0. ... 0. 0. 0.]\n",
            " [0. 0. 0. ... 0. 0. 0.]\n",
            " [0. 0. 0. ... 0. 0. 0.]]\n"
          ],
          "name": "stdout"
        }
      ]
    },
    {
      "cell_type": "markdown",
      "metadata": {
        "id": "L_uzV6euNEO0",
        "colab_type": "text"
      },
      "source": [
        "모델 입력을 위한 레이블 전처리"
      ]
    },
    {
      "cell_type": "code",
      "metadata": {
        "id": "18wJsiTRNF1y",
        "colab_type": "code",
        "colab": {
          "base_uri": "https://localhost:8080/",
          "height": 143
        },
        "outputId": "caab2439-de35-4b8c-fa65-4703211682be"
      },
      "source": [
        "from tensorflow.keras.utils import to_categorical\n",
        "\n",
        "# 각 데이터의 레이블을 범주형 형태로 변경합니다.\n",
        "y_train = to_categorical(y_train)\n",
        "y_val = to_categorical(y_val)\n",
        "y_test = to_categorical(y_test)\n",
        "\n",
        "print(y_train)\n"
      ],
      "execution_count": null,
      "outputs": [
        {
          "output_type": "stream",
          "text": [
            "[[0. 0. 1. ... 0. 0. 0.]\n",
            " [0. 0. 0. ... 1. 0. 0.]\n",
            " [0. 0. 0. ... 0. 0. 0.]\n",
            " ...\n",
            " [0. 0. 0. ... 0. 0. 0.]\n",
            " [0. 0. 0. ... 0. 0. 0.]\n",
            " [0. 0. 0. ... 0. 0. 0.]]\n"
          ],
          "name": "stdout"
        }
      ]
    },
    {
      "cell_type": "markdown",
      "metadata": {
        "id": "QazjqL4bNwfX",
        "colab_type": "text"
      },
      "source": [
        "모델 구성하기"
      ]
    },
    {
      "cell_type": "code",
      "metadata": {
        "id": "aU4ZG1_oNxXl",
        "colab_type": "code",
        "colab": {}
      },
      "source": [
        "from tensorflow.keras.models import Sequential\n",
        "from tensorflow.keras.layers import Dense\n",
        "\n",
        "model = Sequential()\n",
        "\n",
        "# 입력 데이터의 형태를 꼭 명시해야 합니다.\n",
        "# 784차원의 데이터를 입력으로 받고, 64개의 출력을 가지는 첫 번째 Dense 층\n",
        "\n",
        "model.add(Dense(64, activation = 'relu', input_shape = (784, )))\n",
        "model.add(Dense(32, activation = 'relu')) # 32개의 출력을 가지는 Dense 층\n",
        "model.add(Dense(10, activation = 'softmax')) # 10개의 출력을 가지는 신경망\n",
        "# 우리가 최종 출력을 10개로 뽑아낸 것은 정해져있다. 64와 32는 연구자가 정하는 것 (답이 정해져있진 않다.) 신경망을 작게 뽑으면 \n"
      ],
      "execution_count": null,
      "outputs": []
    },
    {
      "cell_type": "markdown",
      "metadata": {
        "id": "UP4LksrXQOEF",
        "colab_type": "text"
      },
      "source": [
        "소프트맥스와 시그모이드 값의 비교"
      ]
    },
    {
      "cell_type": "code",
      "metadata": {
        "id": "u0ffQ6SZQOth",
        "colab_type": "code",
        "colab": {
          "base_uri": "https://localhost:8080/",
          "height": 53
        },
        "outputId": "fb2b449d-b07c-47c1-ca10-b1211155f033"
      },
      "source": [
        "# 소프트맥스 함수\n",
        "def softmax(arr):\n",
        "    m = np.max(arr)\n",
        "    arr = arr - m # exp의 오버플로우 방지\n",
        "    arr = np.exp(arr)\n",
        "    return arr / np.sum(arr)\n",
        "\n",
        "# 시그모이드 함수\n",
        "def sigmoid(x):\n",
        "    return 1 / (1 + np.exp(-x))\n",
        "\n",
        "case_1 = np.array([3.1, 3.0, 2.9])\n",
        "case_2 = np.array([2.0, 1.0, 0.7])\n",
        "\n",
        "np.set_printoptions(precision=3) # numpy 소수점 제한\n",
        "print(f'sigmoid {sigmoid(case_1)}, softmax {softmax(case_1)}')\n",
        "print(f'sigmoid {sigmoid(case_2)}, softmax {softmax(case_2)}')\n"
      ],
      "execution_count": null,
      "outputs": [
        {
          "output_type": "stream",
          "text": [
            "sigmoid [0.957 0.953 0.948], softmax [0.367 0.332 0.301]\n",
            "sigmoid [0.881 0.731 0.668], softmax [0.61  0.224 0.166]\n"
          ],
          "name": "stdout"
        }
      ]
    },
    {
      "cell_type": "markdown",
      "metadata": {
        "id": "_rEwjrKEQ_hs",
        "colab_type": "text"
      },
      "source": [
        "학습과정 설정하기"
      ]
    },
    {
      "cell_type": "code",
      "metadata": {
        "id": "b10eMlhwRAeA",
        "colab_type": "code",
        "colab": {}
      },
      "source": [
        "model.compile(optimizer='adam', # 옵티마이저 : Adam\n",
        "              loss = 'categorical_crossentropy', # 손실 함수 : categorical_crossentropy 다중선택을 하기 때문에 선택\n",
        "              metrics=['acc']) # 모니터링 할 평가지표 : acc"
      ],
      "execution_count": null,
      "outputs": []
    },
    {
      "cell_type": "markdown",
      "metadata": {
        "id": "udewdxfgR2bV",
        "colab_type": "text"
      },
      "source": [
        "모델 학습 시키기"
      ]
    },
    {
      "cell_type": "code",
      "metadata": {
        "id": "k67PbuuuR3pw",
        "colab_type": "code",
        "colab": {
          "base_uri": "https://localhost:8080/",
          "height": 1000
        },
        "outputId": "84d4a096-cc7c-4134-aa02-48f8c886c917"
      },
      "source": [
        "history = model.fit(x_train, y_train, \n",
        "                    epochs = 30, \n",
        "                    batch_size = 128, \n",
        "                    validation_data = (x_val, y_val))\n",
        "\n",
        "# 학습데이터와 검증데이트(val)가 동시에 나온다.\n",
        "# 329 : 42000데이터 / 128 = 328.125"
      ],
      "execution_count": null,
      "outputs": [
        {
          "output_type": "stream",
          "text": [
            "Epoch 1/30\n",
            "329/329 [==============================] - 1s 4ms/step - loss: 0.5026 - acc: 0.8622 - val_loss: 0.2551 - val_acc: 0.9284\n",
            "Epoch 2/30\n",
            "329/329 [==============================] - 1s 3ms/step - loss: 0.2159 - acc: 0.9386 - val_loss: 0.1927 - val_acc: 0.9443\n",
            "Epoch 3/30\n",
            "329/329 [==============================] - 1s 4ms/step - loss: 0.1637 - acc: 0.9522 - val_loss: 0.1639 - val_acc: 0.9515\n",
            "Epoch 4/30\n",
            "329/329 [==============================] - 1s 3ms/step - loss: 0.1313 - acc: 0.9619 - val_loss: 0.1446 - val_acc: 0.9572\n",
            "Epoch 5/30\n",
            "329/329 [==============================] - 1s 3ms/step - loss: 0.1111 - acc: 0.9678 - val_loss: 0.1425 - val_acc: 0.9580\n",
            "Epoch 6/30\n",
            "329/329 [==============================] - 1s 4ms/step - loss: 0.0951 - acc: 0.9720 - val_loss: 0.1248 - val_acc: 0.9634\n",
            "Epoch 7/30\n",
            "329/329 [==============================] - 1s 3ms/step - loss: 0.0800 - acc: 0.9763 - val_loss: 0.1164 - val_acc: 0.9636\n",
            "Epoch 8/30\n",
            "329/329 [==============================] - 1s 3ms/step - loss: 0.0702 - acc: 0.9795 - val_loss: 0.1142 - val_acc: 0.9666\n",
            "Epoch 9/30\n",
            "329/329 [==============================] - 1s 3ms/step - loss: 0.0624 - acc: 0.9817 - val_loss: 0.1094 - val_acc: 0.9678\n",
            "Epoch 10/30\n",
            "329/329 [==============================] - 1s 3ms/step - loss: 0.0560 - acc: 0.9830 - val_loss: 0.1088 - val_acc: 0.9680\n",
            "Epoch 11/30\n",
            "329/329 [==============================] - 1s 3ms/step - loss: 0.0493 - acc: 0.9852 - val_loss: 0.1095 - val_acc: 0.9680\n",
            "Epoch 12/30\n",
            "329/329 [==============================] - 1s 3ms/step - loss: 0.0441 - acc: 0.9869 - val_loss: 0.1070 - val_acc: 0.9684\n",
            "Epoch 13/30\n",
            "329/329 [==============================] - 1s 3ms/step - loss: 0.0378 - acc: 0.9889 - val_loss: 0.1158 - val_acc: 0.9662\n",
            "Epoch 14/30\n",
            "329/329 [==============================] - 1s 3ms/step - loss: 0.0345 - acc: 0.9900 - val_loss: 0.1064 - val_acc: 0.9695\n",
            "Epoch 15/30\n",
            "329/329 [==============================] - 1s 3ms/step - loss: 0.0304 - acc: 0.9913 - val_loss: 0.1078 - val_acc: 0.9696\n",
            "Epoch 16/30\n",
            "329/329 [==============================] - 1s 3ms/step - loss: 0.0261 - acc: 0.9928 - val_loss: 0.1195 - val_acc: 0.9671\n",
            "Epoch 17/30\n",
            "329/329 [==============================] - 1s 3ms/step - loss: 0.0263 - acc: 0.9925 - val_loss: 0.1122 - val_acc: 0.9695\n",
            "Epoch 18/30\n",
            "329/329 [==============================] - 1s 3ms/step - loss: 0.0206 - acc: 0.9945 - val_loss: 0.1133 - val_acc: 0.9697\n",
            "Epoch 19/30\n",
            "329/329 [==============================] - 1s 3ms/step - loss: 0.0178 - acc: 0.9955 - val_loss: 0.1245 - val_acc: 0.9676\n",
            "Epoch 20/30\n",
            "329/329 [==============================] - 1s 3ms/step - loss: 0.0156 - acc: 0.9961 - val_loss: 0.1254 - val_acc: 0.9682\n",
            "Epoch 21/30\n",
            "329/329 [==============================] - 1s 3ms/step - loss: 0.0145 - acc: 0.9963 - val_loss: 0.1319 - val_acc: 0.9673\n",
            "Epoch 22/30\n",
            "329/329 [==============================] - 1s 3ms/step - loss: 0.0152 - acc: 0.9961 - val_loss: 0.1274 - val_acc: 0.9674\n",
            "Epoch 23/30\n",
            "329/329 [==============================] - 1s 3ms/step - loss: 0.0122 - acc: 0.9971 - val_loss: 0.1256 - val_acc: 0.9695\n",
            "Epoch 24/30\n",
            "329/329 [==============================] - 1s 3ms/step - loss: 0.0092 - acc: 0.9980 - val_loss: 0.1227 - val_acc: 0.9704\n",
            "Epoch 25/30\n",
            "329/329 [==============================] - 1s 3ms/step - loss: 0.0081 - acc: 0.9984 - val_loss: 0.1280 - val_acc: 0.9699\n",
            "Epoch 26/30\n",
            "329/329 [==============================] - 1s 3ms/step - loss: 0.0117 - acc: 0.9966 - val_loss: 0.1345 - val_acc: 0.9694\n",
            "Epoch 27/30\n",
            "329/329 [==============================] - 1s 3ms/step - loss: 0.0093 - acc: 0.9977 - val_loss: 0.1339 - val_acc: 0.9701\n",
            "Epoch 28/30\n",
            "329/329 [==============================] - 1s 3ms/step - loss: 0.0054 - acc: 0.9990 - val_loss: 0.1342 - val_acc: 0.9708\n",
            "Epoch 29/30\n",
            "329/329 [==============================] - 1s 3ms/step - loss: 0.0098 - acc: 0.9971 - val_loss: 0.1418 - val_acc: 0.9698\n",
            "Epoch 30/30\n",
            "329/329 [==============================] - 1s 3ms/step - loss: 0.0099 - acc: 0.9972 - val_loss: 0.1428 - val_acc: 0.9684\n"
          ],
          "name": "stdout"
        }
      ]
    },
    {
      "cell_type": "markdown",
      "metadata": {
        "id": "C1QbgnoJU84p",
        "colab_type": "text"
      },
      "source": [
        "history를 통해 확인해볼 수 있는 값 출력하기"
      ]
    },
    {
      "cell_type": "code",
      "metadata": {
        "id": "msWgHVjuVAe8",
        "colab_type": "code",
        "colab": {
          "base_uri": "https://localhost:8080/",
          "height": 35
        },
        "outputId": "c9a14471-7e70-40cb-f110-23e23e313956"
      },
      "source": [
        "history.history.keys()"
      ],
      "execution_count": null,
      "outputs": [
        {
          "output_type": "execute_result",
          "data": {
            "text/plain": [
              "dict_keys(['loss', 'acc', 'val_loss', 'val_acc'])"
            ]
          },
          "metadata": {
            "tags": []
          },
          "execution_count": 11
        }
      ]
    },
    {
      "cell_type": "markdown",
      "metadata": {
        "id": "IWU1cF_-VVdh",
        "colab_type": "text"
      },
      "source": [
        "학습 결과 그려보기"
      ]
    },
    {
      "cell_type": "code",
      "metadata": {
        "id": "fvxpl9v5VKyJ",
        "colab_type": "code",
        "colab": {
          "base_uri": "https://localhost:8080/",
          "height": 350
        },
        "outputId": "47d7f24a-3137-40fa-a423-e3010877fde4"
      },
      "source": [
        "import matplotlib.pyplot as plt\n",
        "\n",
        "his_dict = history.history\n",
        "loss = his_dict['loss']\n",
        "val_loss = his_dict['val_loss'] # 검증 데이터가 있는 경우 ‘val_’ 수식어가 붙습니다.\n",
        "\n",
        "epochs = range(1, len(loss) + 1)\n",
        "fig = plt.figure(figsize = (10, 5))\n",
        "\n",
        "# 훈련 및 검증 손실 그리기\n",
        "ax1 = fig.add_subplot(1, 2, 1)\n",
        "ax1.plot(epochs, loss, color = 'blue', label = 'train_loss')\n",
        "ax1.plot(epochs, val_loss, color = 'orange', label = 'val_loss')\n",
        "ax1.set_title('train and val loss')\n",
        "ax1.set_xlabel('epochs')\n",
        "ax1.set_ylabel('loss')\n",
        "ax1.legend()\n",
        "\n",
        "acc = his_dict['acc']\n",
        "val_acc = his_dict['val_acc']\n",
        "\n",
        "# 훈련 및 검증 정확도 그리기\n",
        "ax2 = fig.add_subplot(1, 2, 2)\n",
        "ax2.plot(epochs, acc, color = 'blue', label = 'train_acc')\n",
        "ax2.plot(epochs, val_acc, color = 'orange', label = 'val_acc')\n",
        "ax2.set_title('train and val loss')\n",
        "ax2.set_xlabel('epochs')\n",
        "ax2.set_ylabel('acc')\n",
        "ax2.legend()\n",
        "\n",
        "plt.show()\n",
        "\n",
        "# 검증 데이터와 점점 멀어진다는 것은 우리 학습데이터가 오버피팅(과적합)학습하고 있다는 뜻."
      ],
      "execution_count": null,
      "outputs": [
        {
          "output_type": "display_data",
          "data": {
            "image/png": "[encoded data removed]",
            "text/plain": [
              "<Figure size 720x360 with 2 Axes>"
            ]
          },
          "metadata": {
            "tags": [],
            "needs_background": "light"
          }
        }
      ]
    },
    {
      "cell_type": "markdown",
      "metadata": {
        "id": "bDXJpss1XJAI",
        "colab_type": "text"
      },
      "source": [
        "모델평가"
      ]
    },
    {
      "cell_type": "code",
      "metadata": {
        "id": "3FqekpDNXJd5",
        "colab_type": "code",
        "colab": {
          "base_uri": "https://localhost:8080/",
          "height": 53
        },
        "outputId": "db0f250e-0b65-4228-ecfc-ad3d2135a3ee"
      },
      "source": [
        "model.evaluate(x_test, y_test)"
      ],
      "execution_count": null,
      "outputs": [
        {
          "output_type": "stream",
          "text": [
            "313/313 [==============================] - 0s 1ms/step - loss: 0.1394 - acc: 0.9707\n"
          ],
          "name": "stdout"
        },
        {
          "output_type": "execute_result",
          "data": {
            "text/plain": [
              "[0.13936948776245117, 0.9707000255584717]"
            ]
          },
          "metadata": {
            "tags": []
          },
          "execution_count": 14
        }
      ]
    },
    {
      "cell_type": "markdown",
      "metadata": {
        "id": "DlSPscR1WkrB",
        "colab_type": "text"
      },
      "source": [
        "학습된 모델을 통해 값 예측하기"
      ]
    },
    {
      "cell_type": "code",
      "metadata": {
        "id": "MWuGsC0AWl_9",
        "colab_type": "code",
        "colab": {
          "base_uri": "https://localhost:8080/",
          "height": 89
        },
        "outputId": "d076554f-3cfb-4d26-f2e3-a636a0800587"
      },
      "source": [
        "import numpy as np\n",
        "\n",
        "results = model.predict(x_test)\n",
        "print(results.shape)\n",
        "np.set_printoptions(precision=7) # numpy 소수점 제한\n",
        "print(f'각 클래스에 속할 확률 : \\n{results[0]}')\n"
      ],
      "execution_count": null,
      "outputs": [
        {
          "output_type": "stream",
          "text": [
            "(10000, 10)\n",
            "각 클래스에 속할 확률 : \n",
            "[1.3442701e-09 1.8522139e-12 1.9172134e-07 2.1470123e-06 3.6587177e-15\n",
            " 5.3018755e-13 2.0357004e-22 9.9999738e-01 9.7531400e-11 2.3815502e-07]\n"
          ],
          "name": "stdout"
        }
      ]
    },
    {
      "cell_type": "markdown",
      "metadata": {
        "id": "KnU4611UXqDS",
        "colab_type": "text"
      },
      "source": [
        "예측값 그려서 확인해보기"
      ]
    },
    {
      "cell_type": "code",
      "metadata": {
        "id": "jBfLzex3XsQ-",
        "colab_type": "code",
        "colab": {
          "base_uri": "https://localhost:8080/",
          "height": 281
        },
        "outputId": "bf67014a-4c8f-41f7-d342-fb75dc5eb736"
      },
      "source": [
        "import matplotlib.pyplot as plt\n",
        "\n",
        "arg_results = np.argmax(results, axis = -1) # 가장 큰 값의 인덱스를 가져옵니다.\n",
        "plt.imshow(x_test[0].reshape(28, 28))\n",
        "plt.title('Predicted value of the first image : ' + str(arg_results[0]))\n",
        "plt.show()\n"
      ],
      "execution_count": null,
      "outputs": [
        {
          "output_type": "display_data",
          "data": {
            "image/png": "[encoded data removed]",
            "text/plain": [
              "<Figure size 432x288 with 1 Axes>"
            ]
          },
          "metadata": {
            "tags": [],
            "needs_background": "light"
          }
        }
      ]
    },
    {
      "cell_type": "markdown",
      "metadata": {
        "id": "tfv0MFNGa2zm",
        "colab_type": "text"
      },
      "source": [
        "모델 평가 방법 1 - 혼동 행렬"
      ]
    },
    {
      "cell_type": "code",
      "metadata": {
        "id": "RIHw6BWoXxJc",
        "colab_type": "code",
        "colab": {
          "base_uri": "https://localhost:8080/",
          "height": 478
        },
        "outputId": "00e75d57-f2e6-4256-e2ef-748050a292ca"
      },
      "source": [
        "# sklearn.metrics 모듈은 여러가지 평가 지표에 관한 기능을 제공합니다.\n",
        "from sklearn.metrics import classification_report, confusion_matrix\n",
        "import matplotlib.pyplot as plt\n",
        "import seaborn as sns\n",
        "\n",
        "# 혼동 행렬을 만듭니다.\n",
        "plt.figure(figsize = (7, 7))\n",
        "cm = confusion_matrix(np.argmax(y_test, axis = -1), np.argmax(results, axis = -1))\n",
        "sns.heatmap(cm, annot = True, fmt = 'd',cmap = 'Blues')\n",
        "plt.xlabel('predicted label')\n",
        "plt.ylabel('true label')\n",
        "plt.show()\n"
      ],
      "execution_count": null,
      "outputs": [
        {
          "output_type": "stream",
          "text": [
            "/usr/local/lib/python3.6/dist-packages/statsmodels/tools/_testing.py:19: FutureWarning: pandas.util.testing is deprecated. Use the functions in the public API at pandas.testing instead.\n",
            "  import pandas.util.testing as tm\n"
          ],
          "name": "stderr"
        },
        {
          "output_type": "display_data",
          "data": {
            "image/png": "[encoded data removed]",
            "text/plain": [
              "<Figure size 504x504 with 2 Axes>"
            ]
          },
          "metadata": {
            "tags": [],
            "needs_background": "light"
          }
        }
      ]
    },
    {
      "cell_type": "markdown",
      "metadata": {
        "id": "eA9K0BJBb2CB",
        "colab_type": "text"
      },
      "source": [
        "모델 평가 방법 2 - 분류 보고서"
      ]
    },
    {
      "cell_type": "code",
      "metadata": {
        "id": "DiKnMNOab4cj",
        "colab_type": "code",
        "colab": {
          "base_uri": "https://localhost:8080/",
          "height": 341
        },
        "outputId": "a797ed3e-1434-4007-a917-8d63db3897e3"
      },
      "source": [
        "print('\\n', classification_report(np.argmax(y_test, axis = -1), np.argmax(results, axis = -1)))"
      ],
      "execution_count": null,
      "outputs": [
        {
          "output_type": "stream",
          "text": [
            "\n",
            "               precision    recall  f1-score   support\n",
            "\n",
            "           0       0.98      0.98      0.98       980\n",
            "           1       0.98      0.99      0.99      1135\n",
            "           2       0.97      0.96      0.97      1032\n",
            "           3       0.96      0.97      0.97      1010\n",
            "           4       0.97      0.97      0.97       982\n",
            "           5       0.97      0.96      0.96       892\n",
            "           6       0.97      0.98      0.97       958\n",
            "           7       0.98      0.97      0.97      1028\n",
            "           8       0.98      0.95      0.96       974\n",
            "           9       0.95      0.97      0.96      1009\n",
            "\n",
            "    accuracy                           0.97     10000\n",
            "   macro avg       0.97      0.97      0.97     10000\n",
            "weighted avg       0.97      0.97      0.97     10000\n",
            "\n"
          ],
          "name": "stdout"
        }
      ]
    }
  ]
}