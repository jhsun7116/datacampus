{
  "nbformat": 4,
  "nbformat_minor": 0,
  "metadata": {
    "colab": {
      "name": "0724_01_thoraric_surgery.ipynb",
      "provenance": [],
      "collapsed_sections": []
    },
    "kernelspec": {
      "name": "python3",
      "display_name": "Python 3"
    }
  },
  "cells": [
    {
      "cell_type": "markdown",
      "metadata": {
        "id": "LvwlvaoPa33w",
        "colab_type": "text"
      },
      "source": [
        "문제제기\n",
        "- 이진 분류예제에 적합한 데이터셋은 17개 변수(종양의 유형, 폐활량, 호흡곤란여부,기침, 흡연, 천식 여부 등의 17가지 환자 상태), 18번째는 수술후 생존결과로 1이면 생존, 0이면 사망 폐암환자 수술 예측 데이터셋\n",
        "- 17개변수를 독립변수로 보고 생존유무를 예측하는 이진 분류 문제로 정의"
      ]
    },
    {
      "cell_type": "markdown",
      "metadata": {
        "id": "zA9m7-u_bHgx",
        "colab_type": "text"
      },
      "source": [
        "데이터 준비하기"
      ]
    },
    {
      "cell_type": "code",
      "metadata": {
        "id": "sJ5iQcN6yOvF",
        "colab_type": "code",
        "colab": {
          "base_uri": "https://localhost:8080/",
          "height": 35
        },
        "outputId": "27779c26-5c5b-4184-99c7-cf194d8f9e32"
      },
      "source": [
        "import numpy as np\n",
        "import tensorflow as tf\n",
        "from keras.models import Sequential\n",
        "from keras.layers import Dense\n",
        "\n",
        "# 랜덤시드 고정시키기\n",
        "np.random.seed(5)\n",
        "\n",
        "#데이터 load\n",
        "dataset = np.loadtxt(\"/content/drive/My Drive/Colab Notebooks/ThoraricSurgery.csv\", delimiter=\",\")\n",
        "\n",
        "dataset.shape"
      ],
      "execution_count": null,
      "outputs": [
        {
          "output_type": "execute_result",
          "data": {
            "text/plain": [
              "(470, 18)"
            ]
          },
          "metadata": {
            "tags": []
          },
          "execution_count": 65
        }
      ]
    },
    {
      "cell_type": "markdown",
      "metadata": {
        "id": "wdhj_1XbT9jX",
        "colab_type": "text"
      },
      "source": [
        "데이터셋 생성하기 - 입력(속성값 17개)와 출력(판정결과 1개) 변수로 분리"
      ]
    },
    {
      "cell_type": "code",
      "metadata": {
        "id": "VmfFuDHOT-Yw",
        "colab_type": "code",
        "colab": {}
      },
      "source": [
        "# 입력(속성값 17개)와 출력(판정결과1개) 변수 학습 데이터: 420건, 테스트 데이터: 50건→ 총 데이터 470건\n",
        "x_train = dataset[:420,0:17]\n",
        "y_train = dataset[:420,17]\n",
        "x_test = dataset[420:,0:17]\n",
        "y_test = dataset[420:,17]"
      ],
      "execution_count": null,
      "outputs": []
    },
    {
      "cell_type": "markdown",
      "metadata": {
        "id": "mHBI53WJUnw4",
        "colab_type": "text"
      },
      "source": [
        "모델 구성하기"
      ]
    },
    {
      "cell_type": "code",
      "metadata": {
        "id": "Ih3NpdobUpVH",
        "colab_type": "code",
        "colab": {
          "base_uri": "https://localhost:8080/",
          "height": 821
        },
        "outputId": "c9cf344c-e697-4ba5-e5b1-5711ed10f172"
      },
      "source": [
        "# Dense 레이어만을 사용하여 다층 퍼셉트론 모델을 구성 데이터 준비하기\n",
        "# 속성이 17개이기 때문에 입력뉴런을 17개이고, 퍼셉트론의 개수 30, 활성화함수 relu,\n",
        "# 두번째 Dense 레이어 뉴런 퍼셉트론의 개수 20, 활성화함수relu,\n",
        "# 세번째 Dense 레이어 뉴런 퍼셉트론의 개수 10, 활성화함수relu,\n",
        "# 마지막 출력 Dense 레이어 이진 분류이기 때문에 0~1사이의 값을 나타내는 출력 뉴런이 1개\n",
        "\n",
        "model = Sequential()\n",
        "\n",
        "# 3개의 층으로 만듬\n",
        "model.add(Dense(30, input_dim=17, activation='relu'))\n",
        "model.add(Dense(20, activation='relu'))\n",
        "model.add(Dense(10, activation='relu'))\n",
        "model.add(Dense(1, activation='sigmoid'))\n",
        "\n",
        "model.summary()\n",
        "tf.keras.utils.plot_model(model, show_shapes=True, show_layer_names=True,rankdir='TB', expand_nested=False, dpi=96)"
      ],
      "execution_count": null,
      "outputs": [
        {
          "output_type": "stream",
          "text": [
            "Model: \"sequential_9\"\n",
            "_________________________________________________________________\n",
            "Layer (type)                 Output Shape              Param #   \n",
            "=================================================================\n",
            "dense_29 (Dense)             (None, 30)                540       \n",
            "_________________________________________________________________\n",
            "dense_30 (Dense)             (None, 20)                620       \n",
            "_________________________________________________________________\n",
            "dense_31 (Dense)             (None, 10)                210       \n",
            "_________________________________________________________________\n",
            "dense_32 (Dense)             (None, 1)                 11        \n",
            "=================================================================\n",
            "Total params: 1,381\n",
            "Trainable params: 1,381\n",
            "Non-trainable params: 0\n",
            "_________________________________________________________________\n"
          ],
          "name": "stdout"
        },
        {
          "output_type": "execute_result",
          "data": {
            "image/png": "[encoded data removed]",
            "text/plain": [
              "<IPython.core.display.Image object>"
            ]
          },
          "metadata": {
            "tags": []
          },
          "execution_count": 68
        }
      ]
    },
    {
      "cell_type": "markdown",
      "metadata": {
        "id": "uIk0eXvBUv27",
        "colab_type": "text"
      },
      "source": [
        "모델 학습과정 설정하기"
      ]
    },
    {
      "cell_type": "code",
      "metadata": {
        "id": "o-N6vB5eUwON",
        "colab_type": "code",
        "colab": {}
      },
      "source": [
        "model.compile(loss='binary_crossentropy', optimizer='adam', metrics=['accuracy'])"
      ],
      "execution_count": null,
      "outputs": []
    },
    {
      "cell_type": "markdown",
      "metadata": {
        "id": "8bGXZt6XUyb_",
        "colab_type": "text"
      },
      "source": [
        "모델 학습시키기"
      ]
    },
    {
      "cell_type": "code",
      "metadata": {
        "id": "bfS_OZe7WDS4",
        "colab_type": "code",
        "colab": {
          "base_uri": "https://localhost:8080/",
          "height": 1000
        },
        "outputId": "90992dc1-67ac-473a-f041-5baa7d238120"
      },
      "source": [
        "# epochs : 전체 훈련 데이터셋에 대해 학습 반복횟수를 지정; 1500번을 반복적으로 학습\n",
        "# batch_size : 가중치를 업데이트 할 배치 크기를 의미하며, 64개로 지정(700데이터 나눠서 학습)\n",
        "# 64개씩 짤라서 100번 학습시키겠다.\n",
        "\n",
        "history =  model.fit(x_train, y_train, epochs=200, batch_size=64)"
      ],
      "execution_count": null,
      "outputs": [
        {
          "output_type": "stream",
          "text": [
            "Epoch 1/200\n",
            "420/420 [==============================] - 0s 304us/step - loss: 9.9286 - accuracy: 0.1429\n",
            "Epoch 2/200\n",
            "420/420 [==============================] - 0s 43us/step - loss: 4.9688 - accuracy: 0.1429\n",
            "Epoch 3/200\n",
            "420/420 [==============================] - 0s 32us/step - loss: 1.4013 - accuracy: 0.4452\n",
            "Epoch 4/200\n",
            "420/420 [==============================] - 0s 33us/step - loss: 0.8358 - accuracy: 0.6524\n",
            "Epoch 5/200\n",
            "420/420 [==============================] - 0s 29us/step - loss: 0.6488 - accuracy: 0.7595\n",
            "Epoch 6/200\n",
            "420/420 [==============================] - 0s 32us/step - loss: 0.5553 - accuracy: 0.7810\n",
            "Epoch 7/200\n",
            "420/420 [==============================] - 0s 31us/step - loss: 0.4826 - accuracy: 0.8000\n",
            "Epoch 8/200\n",
            "420/420 [==============================] - 0s 28us/step - loss: 0.4619 - accuracy: 0.8095\n",
            "Epoch 9/200\n",
            "420/420 [==============================] - 0s 29us/step - loss: 0.4522 - accuracy: 0.8143\n",
            "Epoch 10/200\n",
            "420/420 [==============================] - 0s 32us/step - loss: 0.4365 - accuracy: 0.8333\n",
            "Epoch 11/200\n",
            "420/420 [==============================] - 0s 28us/step - loss: 0.4416 - accuracy: 0.8452\n",
            "Epoch 12/200\n",
            "420/420 [==============================] - 0s 29us/step - loss: 0.4342 - accuracy: 0.8548\n",
            "Epoch 13/200\n",
            "420/420 [==============================] - 0s 29us/step - loss: 0.4286 - accuracy: 0.8548\n",
            "Epoch 14/200\n",
            "420/420 [==============================] - 0s 29us/step - loss: 0.4291 - accuracy: 0.8571\n",
            "Epoch 15/200\n",
            "420/420 [==============================] - 0s 29us/step - loss: 0.4180 - accuracy: 0.8571\n",
            "Epoch 16/200\n",
            "420/420 [==============================] - 0s 27us/step - loss: 0.4168 - accuracy: 0.8571\n",
            "Epoch 17/200\n",
            "420/420 [==============================] - 0s 32us/step - loss: 0.4152 - accuracy: 0.8571\n",
            "Epoch 18/200\n",
            "420/420 [==============================] - 0s 33us/step - loss: 0.4207 - accuracy: 0.8571\n",
            "Epoch 19/200\n",
            "420/420 [==============================] - 0s 32us/step - loss: 0.4282 - accuracy: 0.8571\n",
            "Epoch 20/200\n",
            "420/420 [==============================] - 0s 31us/step - loss: 0.4111 - accuracy: 0.8571\n",
            "Epoch 21/200\n",
            "420/420 [==============================] - 0s 58us/step - loss: 0.4164 - accuracy: 0.8571\n",
            "Epoch 22/200\n",
            "420/420 [==============================] - 0s 28us/step - loss: 0.4284 - accuracy: 0.8571\n",
            "Epoch 23/200\n",
            "420/420 [==============================] - 0s 32us/step - loss: 0.4235 - accuracy: 0.8571\n",
            "Epoch 24/200\n",
            "420/420 [==============================] - 0s 29us/step - loss: 0.4114 - accuracy: 0.8571\n",
            "Epoch 25/200\n",
            "420/420 [==============================] - 0s 30us/step - loss: 0.4135 - accuracy: 0.8571\n",
            "Epoch 26/200\n",
            "420/420 [==============================] - 0s 32us/step - loss: 0.4162 - accuracy: 0.8571\n",
            "Epoch 27/200\n",
            "420/420 [==============================] - 0s 29us/step - loss: 0.4196 - accuracy: 0.8571\n",
            "Epoch 28/200\n",
            "420/420 [==============================] - 0s 40us/step - loss: 0.4471 - accuracy: 0.8571\n",
            "Epoch 29/200\n",
            "420/420 [==============================] - 0s 30us/step - loss: 0.4257 - accuracy: 0.8571\n",
            "Epoch 30/200\n",
            "420/420 [==============================] - 0s 31us/step - loss: 0.4131 - accuracy: 0.8571\n",
            "Epoch 31/200\n",
            "420/420 [==============================] - 0s 32us/step - loss: 0.4113 - accuracy: 0.8571\n",
            "Epoch 32/200\n",
            "420/420 [==============================] - 0s 29us/step - loss: 0.4089 - accuracy: 0.8571\n",
            "Epoch 33/200\n",
            "420/420 [==============================] - 0s 30us/step - loss: 0.4130 - accuracy: 0.8571\n",
            "Epoch 34/200\n",
            "420/420 [==============================] - 0s 28us/step - loss: 0.4085 - accuracy: 0.8571\n",
            "Epoch 35/200\n",
            "420/420 [==============================] - 0s 30us/step - loss: 0.4104 - accuracy: 0.8571\n",
            "Epoch 36/200\n",
            "420/420 [==============================] - 0s 33us/step - loss: 0.4157 - accuracy: 0.8571\n",
            "Epoch 37/200\n",
            "420/420 [==============================] - 0s 35us/step - loss: 0.4106 - accuracy: 0.8571\n",
            "Epoch 38/200\n",
            "420/420 [==============================] - 0s 32us/step - loss: 0.4083 - accuracy: 0.8571\n",
            "Epoch 39/200\n",
            "420/420 [==============================] - 0s 31us/step - loss: 0.4144 - accuracy: 0.8571\n",
            "Epoch 40/200\n",
            "420/420 [==============================] - 0s 33us/step - loss: 0.4066 - accuracy: 0.8571\n",
            "Epoch 41/200\n",
            "420/420 [==============================] - 0s 36us/step - loss: 0.4069 - accuracy: 0.8571\n",
            "Epoch 42/200\n",
            "420/420 [==============================] - 0s 32us/step - loss: 0.4104 - accuracy: 0.8571\n",
            "Epoch 43/200\n",
            "420/420 [==============================] - 0s 30us/step - loss: 0.4060 - accuracy: 0.8571\n",
            "Epoch 44/200\n",
            "420/420 [==============================] - 0s 29us/step - loss: 0.4069 - accuracy: 0.8571\n",
            "Epoch 45/200\n",
            "420/420 [==============================] - 0s 28us/step - loss: 0.4059 - accuracy: 0.8571\n",
            "Epoch 46/200\n",
            "420/420 [==============================] - 0s 28us/step - loss: 0.4083 - accuracy: 0.8571\n",
            "Epoch 47/200\n",
            "420/420 [==============================] - 0s 32us/step - loss: 0.4079 - accuracy: 0.8571\n",
            "Epoch 48/200\n",
            "420/420 [==============================] - 0s 31us/step - loss: 0.4060 - accuracy: 0.8571\n",
            "Epoch 49/200\n",
            "420/420 [==============================] - 0s 30us/step - loss: 0.4043 - accuracy: 0.8571\n",
            "Epoch 50/200\n",
            "420/420 [==============================] - 0s 32us/step - loss: 0.4050 - accuracy: 0.8571\n",
            "Epoch 51/200\n",
            "420/420 [==============================] - 0s 29us/step - loss: 0.4074 - accuracy: 0.8571\n",
            "Epoch 52/200\n",
            "420/420 [==============================] - 0s 34us/step - loss: 0.4057 - accuracy: 0.8571\n",
            "Epoch 53/200\n",
            "420/420 [==============================] - 0s 29us/step - loss: 0.4073 - accuracy: 0.8571\n",
            "Epoch 54/200\n",
            "420/420 [==============================] - 0s 32us/step - loss: 0.4062 - accuracy: 0.8571\n",
            "Epoch 55/200\n",
            "420/420 [==============================] - 0s 43us/step - loss: 0.4098 - accuracy: 0.8571\n",
            "Epoch 56/200\n",
            "420/420 [==============================] - 0s 30us/step - loss: 0.4060 - accuracy: 0.8571\n",
            "Epoch 57/200\n",
            "420/420 [==============================] - 0s 32us/step - loss: 0.4099 - accuracy: 0.8571\n",
            "Epoch 58/200\n",
            "420/420 [==============================] - 0s 29us/step - loss: 0.4028 - accuracy: 0.8571\n",
            "Epoch 59/200\n",
            "420/420 [==============================] - 0s 30us/step - loss: 0.4072 - accuracy: 0.8571\n",
            "Epoch 60/200\n",
            "420/420 [==============================] - 0s 29us/step - loss: 0.4215 - accuracy: 0.8571\n",
            "Epoch 61/200\n",
            "420/420 [==============================] - 0s 32us/step - loss: 0.4098 - accuracy: 0.8571\n",
            "Epoch 62/200\n",
            "420/420 [==============================] - 0s 31us/step - loss: 0.4090 - accuracy: 0.8571\n",
            "Epoch 63/200\n",
            "420/420 [==============================] - 0s 29us/step - loss: 0.4032 - accuracy: 0.8571\n",
            "Epoch 64/200\n",
            "420/420 [==============================] - 0s 31us/step - loss: 0.4016 - accuracy: 0.8571\n",
            "Epoch 65/200\n",
            "420/420 [==============================] - 0s 34us/step - loss: 0.4042 - accuracy: 0.8571\n",
            "Epoch 66/200\n",
            "420/420 [==============================] - 0s 29us/step - loss: 0.4077 - accuracy: 0.8571\n",
            "Epoch 67/200\n",
            "420/420 [==============================] - 0s 39us/step - loss: 0.4008 - accuracy: 0.8571\n",
            "Epoch 68/200\n",
            "420/420 [==============================] - 0s 33us/step - loss: 0.4095 - accuracy: 0.8571\n",
            "Epoch 69/200\n",
            "420/420 [==============================] - 0s 35us/step - loss: 0.4057 - accuracy: 0.8571\n",
            "Epoch 70/200\n",
            "420/420 [==============================] - 0s 30us/step - loss: 0.3989 - accuracy: 0.8571\n",
            "Epoch 71/200\n",
            "420/420 [==============================] - 0s 31us/step - loss: 0.4078 - accuracy: 0.8571\n",
            "Epoch 72/200\n",
            "420/420 [==============================] - 0s 30us/step - loss: 0.4006 - accuracy: 0.8571\n",
            "Epoch 73/200\n",
            "420/420 [==============================] - 0s 30us/step - loss: 0.4000 - accuracy: 0.8571\n",
            "Epoch 74/200\n",
            "420/420 [==============================] - 0s 29us/step - loss: 0.4027 - accuracy: 0.8571\n",
            "Epoch 75/200\n",
            "420/420 [==============================] - 0s 31us/step - loss: 0.4033 - accuracy: 0.8571\n",
            "Epoch 76/200\n",
            "420/420 [==============================] - 0s 29us/step - loss: 0.3993 - accuracy: 0.8571\n",
            "Epoch 77/200\n",
            "420/420 [==============================] - 0s 32us/step - loss: 0.4014 - accuracy: 0.8571\n",
            "Epoch 78/200\n",
            "420/420 [==============================] - 0s 29us/step - loss: 0.4024 - accuracy: 0.8571\n",
            "Epoch 79/200\n",
            "420/420 [==============================] - 0s 28us/step - loss: 0.4016 - accuracy: 0.8571\n",
            "Epoch 80/200\n",
            "420/420 [==============================] - 0s 28us/step - loss: 0.3995 - accuracy: 0.8571\n",
            "Epoch 81/200\n",
            "420/420 [==============================] - 0s 39us/step - loss: 0.3990 - accuracy: 0.8571\n",
            "Epoch 82/200\n",
            "420/420 [==============================] - 0s 33us/step - loss: 0.4073 - accuracy: 0.8571\n",
            "Epoch 83/200\n",
            "420/420 [==============================] - 0s 29us/step - loss: 0.4050 - accuracy: 0.8571\n",
            "Epoch 84/200\n",
            "420/420 [==============================] - 0s 33us/step - loss: 0.3986 - accuracy: 0.8571\n",
            "Epoch 85/200\n",
            "420/420 [==============================] - 0s 35us/step - loss: 0.3979 - accuracy: 0.8571\n",
            "Epoch 86/200\n",
            "420/420 [==============================] - 0s 34us/step - loss: 0.3983 - accuracy: 0.8571\n",
            "Epoch 87/200\n",
            "420/420 [==============================] - 0s 29us/step - loss: 0.3984 - accuracy: 0.8571\n",
            "Epoch 88/200\n",
            "420/420 [==============================] - 0s 29us/step - loss: 0.3962 - accuracy: 0.8571\n",
            "Epoch 89/200\n",
            "420/420 [==============================] - 0s 55us/step - loss: 0.3970 - accuracy: 0.8571\n",
            "Epoch 90/200\n",
            "420/420 [==============================] - 0s 40us/step - loss: 0.4005 - accuracy: 0.8571\n",
            "Epoch 91/200\n",
            "420/420 [==============================] - 0s 33us/step - loss: 0.3979 - accuracy: 0.8571\n",
            "Epoch 92/200\n",
            "420/420 [==============================] - 0s 30us/step - loss: 0.3966 - accuracy: 0.8571\n",
            "Epoch 93/200\n",
            "420/420 [==============================] - 0s 34us/step - loss: 0.3954 - accuracy: 0.8571\n",
            "Epoch 94/200\n",
            "420/420 [==============================] - 0s 31us/step - loss: 0.3957 - accuracy: 0.8571\n",
            "Epoch 95/200\n",
            "420/420 [==============================] - 0s 30us/step - loss: 0.3962 - accuracy: 0.8571\n",
            "Epoch 96/200\n",
            "420/420 [==============================] - 0s 30us/step - loss: 0.3995 - accuracy: 0.8571\n",
            "Epoch 97/200\n",
            "420/420 [==============================] - 0s 34us/step - loss: 0.4022 - accuracy: 0.8571\n",
            "Epoch 98/200\n",
            "420/420 [==============================] - 0s 31us/step - loss: 0.3944 - accuracy: 0.8571\n",
            "Epoch 99/200\n",
            "420/420 [==============================] - 0s 31us/step - loss: 0.3938 - accuracy: 0.8571\n",
            "Epoch 100/200\n",
            "420/420 [==============================] - 0s 29us/step - loss: 0.3994 - accuracy: 0.8571\n",
            "Epoch 101/200\n",
            "420/420 [==============================] - 0s 31us/step - loss: 0.3965 - accuracy: 0.8571\n",
            "Epoch 102/200\n",
            "420/420 [==============================] - 0s 33us/step - loss: 0.3959 - accuracy: 0.8571\n",
            "Epoch 103/200\n",
            "420/420 [==============================] - 0s 33us/step - loss: 0.3940 - accuracy: 0.8571\n",
            "Epoch 104/200\n",
            "420/420 [==============================] - 0s 31us/step - loss: 0.3952 - accuracy: 0.8571\n",
            "Epoch 105/200\n",
            "420/420 [==============================] - 0s 31us/step - loss: 0.3941 - accuracy: 0.8571\n",
            "Epoch 106/200\n",
            "420/420 [==============================] - 0s 32us/step - loss: 0.3959 - accuracy: 0.8571\n",
            "Epoch 107/200\n",
            "420/420 [==============================] - 0s 29us/step - loss: 0.3997 - accuracy: 0.8571\n",
            "Epoch 108/200\n",
            "420/420 [==============================] - 0s 29us/step - loss: 0.3978 - accuracy: 0.8571\n",
            "Epoch 109/200\n",
            "420/420 [==============================] - 0s 28us/step - loss: 0.3962 - accuracy: 0.8571\n",
            "Epoch 110/200\n",
            "420/420 [==============================] - 0s 28us/step - loss: 0.3921 - accuracy: 0.8571\n",
            "Epoch 111/200\n",
            "420/420 [==============================] - 0s 31us/step - loss: 0.3919 - accuracy: 0.8571\n",
            "Epoch 112/200\n",
            "420/420 [==============================] - 0s 32us/step - loss: 0.3975 - accuracy: 0.8571\n",
            "Epoch 113/200\n",
            "420/420 [==============================] - 0s 32us/step - loss: 0.3932 - accuracy: 0.8571\n",
            "Epoch 114/200\n",
            "420/420 [==============================] - 0s 31us/step - loss: 0.4005 - accuracy: 0.8595\n",
            "Epoch 115/200\n",
            "420/420 [==============================] - 0s 28us/step - loss: 0.4039 - accuracy: 0.8571\n",
            "Epoch 116/200\n",
            "420/420 [==============================] - 0s 37us/step - loss: 0.3985 - accuracy: 0.8571\n",
            "Epoch 117/200\n",
            "420/420 [==============================] - 0s 32us/step - loss: 0.3893 - accuracy: 0.8571\n",
            "Epoch 118/200\n",
            "420/420 [==============================] - 0s 29us/step - loss: 0.3965 - accuracy: 0.8571\n",
            "Epoch 119/200\n",
            "420/420 [==============================] - 0s 29us/step - loss: 0.3988 - accuracy: 0.8595\n",
            "Epoch 120/200\n",
            "420/420 [==============================] - 0s 29us/step - loss: 0.4222 - accuracy: 0.8595\n",
            "Epoch 121/200\n",
            "420/420 [==============================] - 0s 32us/step - loss: 0.3947 - accuracy: 0.8595\n",
            "Epoch 122/200\n",
            "420/420 [==============================] - 0s 28us/step - loss: 0.3956 - accuracy: 0.8571\n",
            "Epoch 123/200\n",
            "420/420 [==============================] - 0s 30us/step - loss: 0.3971 - accuracy: 0.8571\n",
            "Epoch 124/200\n",
            "420/420 [==============================] - 0s 27us/step - loss: 0.3930 - accuracy: 0.8595\n",
            "Epoch 125/200\n",
            "420/420 [==============================] - 0s 27us/step - loss: 0.3888 - accuracy: 0.8595\n",
            "Epoch 126/200\n",
            "420/420 [==============================] - 0s 26us/step - loss: 0.3878 - accuracy: 0.8595\n",
            "Epoch 127/200\n",
            "420/420 [==============================] - 0s 35us/step - loss: 0.3918 - accuracy: 0.8595\n",
            "Epoch 128/200\n",
            "420/420 [==============================] - 0s 38us/step - loss: 0.3886 - accuracy: 0.8595\n",
            "Epoch 129/200\n",
            "420/420 [==============================] - 0s 32us/step - loss: 0.3885 - accuracy: 0.8595\n",
            "Epoch 130/200\n",
            "420/420 [==============================] - 0s 33us/step - loss: 0.3904 - accuracy: 0.8595\n",
            "Epoch 131/200\n",
            "420/420 [==============================] - 0s 34us/step - loss: 0.3920 - accuracy: 0.8571\n",
            "Epoch 132/200\n",
            "420/420 [==============================] - 0s 33us/step - loss: 0.3879 - accuracy: 0.8595\n",
            "Epoch 133/200\n",
            "420/420 [==============================] - 0s 32us/step - loss: 0.3869 - accuracy: 0.8595\n",
            "Epoch 134/200\n",
            "420/420 [==============================] - 0s 34us/step - loss: 0.4050 - accuracy: 0.8595\n",
            "Epoch 135/200\n",
            "420/420 [==============================] - 0s 33us/step - loss: 0.3896 - accuracy: 0.8595\n",
            "Epoch 136/200\n",
            "420/420 [==============================] - 0s 31us/step - loss: 0.4106 - accuracy: 0.8595\n",
            "Epoch 137/200\n",
            "420/420 [==============================] - 0s 33us/step - loss: 0.3854 - accuracy: 0.8595\n",
            "Epoch 138/200\n",
            "420/420 [==============================] - 0s 28us/step - loss: 0.3861 - accuracy: 0.8595\n",
            "Epoch 139/200\n",
            "420/420 [==============================] - 0s 35us/step - loss: 0.3867 - accuracy: 0.8595\n",
            "Epoch 140/200\n",
            "420/420 [==============================] - 0s 31us/step - loss: 0.3870 - accuracy: 0.8595\n",
            "Epoch 141/200\n",
            "420/420 [==============================] - 0s 32us/step - loss: 0.3855 - accuracy: 0.8595\n",
            "Epoch 142/200\n",
            "420/420 [==============================] - 0s 28us/step - loss: 0.3894 - accuracy: 0.8595\n",
            "Epoch 143/200\n",
            "420/420 [==============================] - 0s 31us/step - loss: 0.3839 - accuracy: 0.8595\n",
            "Epoch 144/200\n",
            "420/420 [==============================] - 0s 28us/step - loss: 0.3910 - accuracy: 0.8595\n",
            "Epoch 145/200\n",
            "420/420 [==============================] - 0s 30us/step - loss: 0.3890 - accuracy: 0.8595\n",
            "Epoch 146/200\n",
            "420/420 [==============================] - 0s 26us/step - loss: 0.3881 - accuracy: 0.8595\n",
            "Epoch 147/200\n",
            "420/420 [==============================] - 0s 27us/step - loss: 0.3935 - accuracy: 0.8595\n",
            "Epoch 148/200\n",
            "420/420 [==============================] - 0s 29us/step - loss: 0.3858 - accuracy: 0.8595\n",
            "Epoch 149/200\n",
            "420/420 [==============================] - 0s 41us/step - loss: 0.3853 - accuracy: 0.8595\n",
            "Epoch 150/200\n",
            "420/420 [==============================] - 0s 44us/step - loss: 0.3899 - accuracy: 0.8595\n",
            "Epoch 151/200\n",
            "420/420 [==============================] - 0s 35us/step - loss: 0.3925 - accuracy: 0.8595\n",
            "Epoch 152/200\n",
            "420/420 [==============================] - 0s 34us/step - loss: 0.3898 - accuracy: 0.8619\n",
            "Epoch 153/200\n",
            "420/420 [==============================] - 0s 30us/step - loss: 0.3883 - accuracy: 0.8595\n",
            "Epoch 154/200\n",
            "420/420 [==============================] - 0s 43us/step - loss: 0.4011 - accuracy: 0.8595\n",
            "Epoch 155/200\n",
            "420/420 [==============================] - 0s 37us/step - loss: 0.3856 - accuracy: 0.8595\n",
            "Epoch 156/200\n",
            "420/420 [==============================] - 0s 48us/step - loss: 0.3850 - accuracy: 0.8619\n",
            "Epoch 157/200\n",
            "420/420 [==============================] - 0s 43us/step - loss: 0.3916 - accuracy: 0.8595\n",
            "Epoch 158/200\n",
            "420/420 [==============================] - 0s 32us/step - loss: 0.4036 - accuracy: 0.8595\n",
            "Epoch 159/200\n",
            "420/420 [==============================] - 0s 35us/step - loss: 0.4107 - accuracy: 0.8595\n",
            "Epoch 160/200\n",
            "420/420 [==============================] - 0s 42us/step - loss: 0.4092 - accuracy: 0.8595\n",
            "Epoch 161/200\n",
            "420/420 [==============================] - 0s 39us/step - loss: 0.4129 - accuracy: 0.8595\n",
            "Epoch 162/200\n",
            "420/420 [==============================] - 0s 28us/step - loss: 0.3941 - accuracy: 0.8619\n",
            "Epoch 163/200\n",
            "420/420 [==============================] - 0s 30us/step - loss: 0.4138 - accuracy: 0.8595\n",
            "Epoch 164/200\n",
            "420/420 [==============================] - 0s 31us/step - loss: 0.3914 - accuracy: 0.8595\n",
            "Epoch 165/200\n",
            "420/420 [==============================] - 0s 28us/step - loss: 0.3969 - accuracy: 0.8595\n",
            "Epoch 166/200\n",
            "420/420 [==============================] - 0s 30us/step - loss: 0.4057 - accuracy: 0.8595\n",
            "Epoch 167/200\n",
            "420/420 [==============================] - 0s 30us/step - loss: 0.3958 - accuracy: 0.8595\n",
            "Epoch 168/200\n",
            "420/420 [==============================] - 0s 28us/step - loss: 0.3792 - accuracy: 0.8595\n",
            "Epoch 169/200\n",
            "420/420 [==============================] - 0s 31us/step - loss: 0.3784 - accuracy: 0.8595\n",
            "Epoch 170/200\n",
            "420/420 [==============================] - 0s 34us/step - loss: 0.3778 - accuracy: 0.8595\n",
            "Epoch 171/200\n",
            "420/420 [==============================] - 0s 32us/step - loss: 0.3783 - accuracy: 0.8595\n",
            "Epoch 172/200\n",
            "420/420 [==============================] - 0s 29us/step - loss: 0.3799 - accuracy: 0.8619\n",
            "Epoch 173/200\n",
            "420/420 [==============================] - 0s 28us/step - loss: 0.3834 - accuracy: 0.8595\n",
            "Epoch 174/200\n",
            "420/420 [==============================] - 0s 28us/step - loss: 0.3879 - accuracy: 0.8595\n",
            "Epoch 175/200\n",
            "420/420 [==============================] - 0s 33us/step - loss: 0.3785 - accuracy: 0.8619\n",
            "Epoch 176/200\n",
            "420/420 [==============================] - 0s 28us/step - loss: 0.3840 - accuracy: 0.8619\n",
            "Epoch 177/200\n",
            "420/420 [==============================] - 0s 28us/step - loss: 0.3853 - accuracy: 0.8595\n",
            "Epoch 178/200\n",
            "420/420 [==============================] - 0s 28us/step - loss: 0.3972 - accuracy: 0.8643\n",
            "Epoch 179/200\n",
            "420/420 [==============================] - 0s 32us/step - loss: 0.3885 - accuracy: 0.8595\n",
            "Epoch 180/200\n",
            "420/420 [==============================] - 0s 29us/step - loss: 0.3842 - accuracy: 0.8595\n",
            "Epoch 181/200\n",
            "420/420 [==============================] - 0s 34us/step - loss: 0.3861 - accuracy: 0.8595\n",
            "Epoch 182/200\n",
            "420/420 [==============================] - 0s 42us/step - loss: 0.3937 - accuracy: 0.8619\n",
            "Epoch 183/200\n",
            "420/420 [==============================] - 0s 29us/step - loss: 0.3816 - accuracy: 0.8619\n",
            "Epoch 184/200\n",
            "420/420 [==============================] - 0s 35us/step - loss: 0.3775 - accuracy: 0.8643\n",
            "Epoch 185/200\n",
            "420/420 [==============================] - 0s 33us/step - loss: 0.3718 - accuracy: 0.8643\n",
            "Epoch 186/200\n",
            "420/420 [==============================] - 0s 30us/step - loss: 0.3731 - accuracy: 0.8619\n",
            "Epoch 187/200\n",
            "420/420 [==============================] - 0s 33us/step - loss: 0.3724 - accuracy: 0.8619\n",
            "Epoch 188/200\n",
            "420/420 [==============================] - 0s 30us/step - loss: 0.3725 - accuracy: 0.8595\n",
            "Epoch 189/200\n",
            "420/420 [==============================] - 0s 28us/step - loss: 0.3705 - accuracy: 0.8619\n",
            "Epoch 190/200\n",
            "420/420 [==============================] - 0s 28us/step - loss: 0.3701 - accuracy: 0.8595\n",
            "Epoch 191/200\n",
            "420/420 [==============================] - 0s 27us/step - loss: 0.3752 - accuracy: 0.8595\n",
            "Epoch 192/200\n",
            "420/420 [==============================] - 0s 29us/step - loss: 0.3771 - accuracy: 0.8619\n",
            "Epoch 193/200\n",
            "420/420 [==============================] - 0s 27us/step - loss: 0.3735 - accuracy: 0.8619\n",
            "Epoch 194/200\n",
            "420/420 [==============================] - 0s 27us/step - loss: 0.3703 - accuracy: 0.8595\n",
            "Epoch 195/200\n",
            "420/420 [==============================] - 0s 32us/step - loss: 0.3712 - accuracy: 0.8619\n",
            "Epoch 196/200\n",
            "420/420 [==============================] - 0s 34us/step - loss: 0.3690 - accuracy: 0.8619\n",
            "Epoch 197/200\n",
            "420/420 [==============================] - 0s 30us/step - loss: 0.3699 - accuracy: 0.8643\n",
            "Epoch 198/200\n",
            "420/420 [==============================] - 0s 28us/step - loss: 0.3677 - accuracy: 0.8595\n",
            "Epoch 199/200\n",
            "420/420 [==============================] - 0s 29us/step - loss: 0.3671 - accuracy: 0.8619\n",
            "Epoch 200/200\n",
            "420/420 [==============================] - 0s 35us/step - loss: 0.3793 - accuracy: 0.8619\n"
          ],
          "name": "stdout"
        }
      ]
    },
    {
      "cell_type": "code",
      "metadata": {
        "id": "mEF13UG5Xxrm",
        "colab_type": "code",
        "colab": {
          "base_uri": "https://localhost:8080/",
          "height": 35
        },
        "outputId": "68d68bc9-58b5-4427-fb61-ffd8c2fd989b"
      },
      "source": [
        "history.history.keys()"
      ],
      "execution_count": null,
      "outputs": [
        {
          "output_type": "execute_result",
          "data": {
            "text/plain": [
              "dict_keys(['loss', 'accuracy'])"
            ]
          },
          "metadata": {
            "tags": []
          },
          "execution_count": 71
        }
      ]
    },
    {
      "cell_type": "markdown",
      "metadata": {
        "id": "H3lXrJ77X9zo",
        "colab_type": "text"
      },
      "source": [
        "학습결과 그려보기"
      ]
    },
    {
      "cell_type": "code",
      "metadata": {
        "id": "2M_NTgHCX9RQ",
        "colab_type": "code",
        "colab": {
          "base_uri": "https://localhost:8080/",
          "height": 350
        },
        "outputId": "b5ce850e-848f-4a40-b075-dcf5d871c353"
      },
      "source": [
        "import matplotlib.pyplot as plt\n",
        "\n",
        "his_dict = history.history\n",
        "loss = his_dict['loss']\n",
        "\n",
        "epochs = range(1, len(loss) + 1)\n",
        "fig = plt.figure(figsize = (10, 5))\n",
        "\n",
        "# 훈련 및 검증 손실 그리기\n",
        "ax1 = fig.add_subplot(1, 2, 1)\n",
        "ax1.plot(epochs, loss, color = 'red', label = 'train_loss')\n",
        "ax1.set_title('train loss')\n",
        "ax1.set_xlabel('epochs')\n",
        "ax1.set_ylabel('loss')\n",
        "ax1.legend()\n",
        "\n",
        "acc = his_dict['accuracy']\n",
        "\n",
        "# 훈련 및 검증 정확도 그리기\n",
        "ax2 = fig.add_subplot(1, 2, 2)\n",
        "ax2.plot(epochs, acc, color = 'blue', label = 'train_accuracy')\n",
        "ax2.set_title('train accuracy')\n",
        "ax2.set_xlabel('epochs')\n",
        "ax2.set_ylabel('accuracy')\n",
        "ax2.legend()\n",
        "\n",
        "plt.show()\n",
        "\n",
        "# loss는 줄고 acc는 증가해야함"
      ],
      "execution_count": null,
      "outputs": [
        {
          "output_type": "display_data",
          "data": {
            "image/png": "[encoded data removed]",
            "text/plain": [
              "<Figure size 720x360 with 2 Axes>"
            ]
          },
          "metadata": {
            "tags": [],
            "needs_background": "light"
          }
        }
      ]
    },
    {
      "cell_type": "markdown",
      "metadata": {
        "id": "3Hx_8oBFYKH5",
        "colab_type": "text"
      },
      "source": [
        "모델 평가하기"
      ]
    },
    {
      "cell_type": "code",
      "metadata": {
        "id": "e8kNwMnkXyOg",
        "colab_type": "code",
        "colab": {
          "base_uri": "https://localhost:8080/",
          "height": 53
        },
        "outputId": "1e426f17-5469-4410-b7f7-7f8d0a121e0e"
      },
      "source": [
        "scores = model.evaluate(x_test, y_test)\n",
        "print(\"%s: %.2f%%\" %(model.metrics_names[1], scores[1]*100))"
      ],
      "execution_count": null,
      "outputs": [
        {
          "output_type": "stream",
          "text": [
            "50/50 [==============================] - 0s 368us/step\n",
            "accuracy: 80.00%\n"
          ],
          "name": "stdout"
        }
      ]
    },
    {
      "cell_type": "code",
      "metadata": {
        "id": "zPwW41IqtZKs",
        "colab_type": "code",
        "colab": {
          "base_uri": "https://localhost:8080/",
          "height": 35
        },
        "outputId": "8d3b16c3-340f-49e3-eb29-a0e5f1b3c720"
      },
      "source": [
        "person1 = np.array([217,2,3.24,1.88,1,0,0,0,1,0,12,0,0,0,1,0,21]).reshape(1,17)\n",
        "model.predict(person1)"
      ],
      "execution_count": null,
      "outputs": [
        {
          "output_type": "execute_result",
          "data": {
            "text/plain": [
              "array([[0.3885935]], dtype=float32)"
            ]
          },
          "metadata": {
            "tags": []
          },
          "execution_count": 76
        }
      ]
    },
    {
      "cell_type": "code",
      "metadata": {
        "id": "pnIKxPIEuBbp",
        "colab_type": "code",
        "colab": {
          "base_uri": "https://localhost:8080/",
          "height": 35
        },
        "outputId": "2d1f4f4f-80b1-423a-ffb7-3d508da00613"
      },
      "source": [
        "person2 = np.array([464,4,3.44,2.16,1,0,0,0,1,1,12,1,0,0,1,0,57]).reshape(1,17)\n",
        "model.predict(person2)\n"
      ],
      "execution_count": null,
      "outputs": [
        {
          "output_type": "execute_result",
          "data": {
            "text/plain": [
              "array([[0.28702465]], dtype=float32)"
            ]
          },
          "metadata": {
            "tags": []
          },
          "execution_count": 82
        }
      ]
    }
  ]
}