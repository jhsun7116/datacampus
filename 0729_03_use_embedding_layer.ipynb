{
  "nbformat": 4,
  "nbformat_minor": 0,
  "metadata": {
    "colab": {
      "name": "0729_03_use_embedding_layer.ipynb",
      "provenance": []
    },
    "kernelspec": {
      "name": "python3",
      "display_name": "Python 3"
    }
  },
  "cells": [
    {
      "cell_type": "markdown",
      "metadata": {
        "id": "LFeSby-7duyC",
        "colab_type": "text"
      },
      "source": [
        "토큰화 작업 수행하기"
      ]
    },
    {
      "cell_type": "code",
      "metadata": {
        "id": "m_Q50QrLdi2F",
        "colab_type": "code",
        "colab": {
          "base_uri": "https://localhost:8080/",
          "height": 337
        },
        "outputId": "9bf7ced5-6d95-4d14-c0b9-5d05a6f13b09"
      },
      "source": [
        "from tensorflow.keras.preprocessing.text import Tokenizer\n",
        "from tensorflow.keras.utils import to_categorical\n",
        "\n",
        "texts = ['You are the Best', \n",
        "         'You are the Nice']\n",
        "\n",
        "tokenizer = Tokenizer(num_words = 10, oov_token = '<OOV>')#OOV : out of vocabulary -> 사전에 없는 단어일 경우 1로 인코딩\n",
        "tokenizer.fit_on_texts(texts)\n",
        "\n",
        "# 텍스트 데이터를 정수 인덱스 형태로 변환합니다.\n",
        "sequences = tokenizer.texts_to_sequences(texts)\n",
        "\n",
        "# 이진 형태로 인코딩합니다.\n",
        "binary_results = tokenizer.sequences_to_matrix(sequences, mode = 'binary')\n",
        "\n",
        "print(tokenizer.word_index)\n",
        "print('--------------------')\n",
        "\n",
        "print(f'sequences: {sequences}\\n')\n",
        "print(f'binary_vectors:\\n {binary_results}\\n')\n",
        "\n",
        "# 원-핫 형태로 인코딩합니다.\n",
        "\n",
        "print(to_categorical(sequences))\n",
        "\n",
        "test_text = ['You are the One']\n",
        "test_seq = tokenizer.texts_to_sequences(test_text)\n",
        "\n",
        "print(f'test sequences: {test_seq}')"
      ],
      "execution_count": null,
      "outputs": [
        {
          "output_type": "stream",
          "text": [
            "{'<OOV>': 1, 'you': 2, 'are': 3, 'the': 4, 'best': 5, 'nice': 6}\n",
            "--------------------\n",
            "sequences: [[2, 3, 4, 5], [2, 3, 4, 6]]\n",
            "\n",
            "binary_vectors:\n",
            " [[0. 0. 1. 1. 1. 1. 0. 0. 0. 0.]\n",
            " [0. 0. 1. 1. 1. 0. 1. 0. 0. 0.]]\n",
            "\n",
            "[[[0. 0. 1. 0. 0. 0. 0.]\n",
            "  [0. 0. 0. 1. 0. 0. 0.]\n",
            "  [0. 0. 0. 0. 1. 0. 0.]\n",
            "  [0. 0. 0. 0. 0. 1. 0.]]\n",
            "\n",
            " [[0. 0. 1. 0. 0. 0. 0.]\n",
            "  [0. 0. 0. 1. 0. 0. 0.]\n",
            "  [0. 0. 0. 0. 1. 0. 0.]\n",
            "  [0. 0. 0. 0. 0. 0. 1.]]]\n",
            "test sequences: [[2, 3, 4, 1]]\n"
          ],
          "name": "stdout"
        }
      ]
    },
    {
      "cell_type": "markdown",
      "metadata": {
        "id": "15NW3gShzh3D",
        "colab_type": "text"
      },
      "source": [
        "데이터셋 다운받기"
      ]
    },
    {
      "cell_type": "code",
      "metadata": {
        "id": "4QskUyZrzjha",
        "colab_type": "code",
        "colab": {}
      },
      "source": [
        "from tensorflow.keras.datasets import imdb\n",
        "\n",
        "num_words = 10000\n",
        "(x_train, y_train), (x_test, y_test) = imdb.load_data(num_words=num_words)#5:5로 가져오기"
      ],
      "execution_count": null,
      "outputs": []
    },
    {
      "cell_type": "markdown",
      "metadata": {
        "id": "t2EJooLa0O0l",
        "colab_type": "text"
      },
      "source": [
        "데이터 형태 확인하기"
      ]
    },
    {
      "cell_type": "code",
      "metadata": {
        "id": "hcrpGNeO0IZx",
        "colab_type": "code",
        "colab": {
          "base_uri": "https://localhost:8080/",
          "height": 52
        },
        "outputId": "c9e1b4b1-46b9-42a9-cc47-ebd9294313e7"
      },
      "source": [
        "print(x_train.shape, y_train.shape)\n",
        "print(x_test.shape, y_test.shape)"
      ],
      "execution_count": null,
      "outputs": [
        {
          "output_type": "stream",
          "text": [
            "(25000,) (25000,)\n",
            "(25000,) (25000,)\n"
          ],
          "name": "stdout"
        }
      ]
    },
    {
      "cell_type": "markdown",
      "metadata": {
        "id": "ShLWf1pQ0cJE",
        "colab_type": "text"
      },
      "source": [
        "첫 번째 데이터 확인하기"
      ]
    },
    {
      "cell_type": "code",
      "metadata": {
        "id": "irpk2NiP0d6i",
        "colab_type": "code",
        "colab": {
          "base_uri": "https://localhost:8080/",
          "height": 90
        },
        "outputId": "7ac9b2b9-ce49-4e39-9e6a-33842483c0b2"
      },
      "source": [
        "print(x_train[0]) # 리뷰 글 데이터 -> 빈번하게 사용되는 단어 순위\n",
        "print('-------')\n",
        "print(y_train[0]) # 라벨 -> 1 :긍정, 0 :부정"
      ],
      "execution_count": null,
      "outputs": [
        {
          "output_type": "stream",
          "text": [
            "[1, 14, 22, 16, 43, 530, 973, 1622, 1385, 65, 458, 4468, 66, 3941, 4, 173, 36, 256, 5, 25, 100, 43, 838, 112, 50, 670, 2, 9, 35, 480, 284, 5, 150, 4, 172, 112, 167, 2, 336, 385, 39, 4, 172, 4536, 1111, 17, 546, 38, 13, 447, 4, 192, 50, 16, 6, 147, 2025, 19, 14, 22, 4, 1920, 4613, 469, 4, 22, 71, 87, 12, 16, 43, 530, 38, 76, 15, 13, 1247, 4, 22, 17, 515, 17, 12, 16, 626, 18, 2, 5, 62, 386, 12, 8, 316, 8, 106, 5, 4, 2223, 5244, 16, 480, 66, 3785, 33, 4, 130, 12, 16, 38, 619, 5, 25, 124, 51, 36, 135, 48, 25, 1415, 33, 6, 22, 12, 215, 28, 77, 52, 5, 14, 407, 16, 82, 2, 8, 4, 107, 117, 5952, 15, 256, 4, 2, 7, 3766, 5, 723, 36, 71, 43, 530, 476, 26, 400, 317, 46, 7, 4, 2, 1029, 13, 104, 88, 4, 381, 15, 297, 98, 32, 2071, 56, 26, 141, 6, 194, 7486, 18, 4, 226, 22, 21, 134, 476, 26, 480, 5, 144, 30, 5535, 18, 51, 36, 28, 224, 92, 25, 104, 4, 226, 65, 16, 38, 1334, 88, 12, 16, 283, 5, 16, 4472, 113, 103, 32, 15, 16, 5345, 19, 178, 32]\n",
            "-------\n",
            "1\n"
          ],
          "name": "stdout"
        }
      ]
    },
    {
      "cell_type": "markdown",
      "metadata": {
        "id": "JYwx9U8p1DCf",
        "colab_type": "text"
      },
      "source": [
        "IMDB 데이터셋에서 가장 빈번하게 사용되는 3개의 단어"
      ]
    },
    {
      "cell_type": "code",
      "metadata": {
        "id": "ViDFrn5b1LfI",
        "colab_type": "code",
        "colab": {
          "base_uri": "https://localhost:8080/",
          "height": 372
        },
        "outputId": "26cb94dd-8bc7-4ce7-8607-18d58b44bd3d"
      },
      "source": [
        "imdb_get_word_index = {}\n",
        "\n",
        "for key, value in imdb.get_word_index().items():\n",
        "    imdb_get_word_index[value] = key\n",
        "    \n",
        "for i in range(20, 40):\n",
        "    print('{}번째로 가장 많이 쓰인 단어 = {}'.format(i, imdb_get_word_index[i]))"
      ],
      "execution_count": null,
      "outputs": [
        {
          "output_type": "stream",
          "text": [
            "20번째로 가장 많이 쓰인 단어 = on\n",
            "21번째로 가장 많이 쓰인 단어 = not\n",
            "22번째로 가장 많이 쓰인 단어 = you\n",
            "23번째로 가장 많이 쓰인 단어 = are\n",
            "24번째로 가장 많이 쓰인 단어 = his\n",
            "25번째로 가장 많이 쓰인 단어 = have\n",
            "26번째로 가장 많이 쓰인 단어 = he\n",
            "27번째로 가장 많이 쓰인 단어 = be\n",
            "28번째로 가장 많이 쓰인 단어 = one\n",
            "29번째로 가장 많이 쓰인 단어 = all\n",
            "30번째로 가장 많이 쓰인 단어 = at\n",
            "31번째로 가장 많이 쓰인 단어 = by\n",
            "32번째로 가장 많이 쓰인 단어 = an\n",
            "33번째로 가장 많이 쓰인 단어 = they\n",
            "34번째로 가장 많이 쓰인 단어 = who\n",
            "35번째로 가장 많이 쓰인 단어 = so\n",
            "36번째로 가장 많이 쓰인 단어 = from\n",
            "37번째로 가장 많이 쓰인 단어 = like\n",
            "38번째로 가장 많이 쓰인 단어 = her\n",
            "39번째로 가장 많이 쓰인 단어 = or\n"
          ],
          "name": "stdout"
        }
      ]
    },
    {
      "cell_type": "markdown",
      "metadata": {
        "id": "uvfwdS7h1uyf",
        "colab_type": "text"
      },
      "source": [
        "데이터를 동일한 길이로 맞추기\n",
        "- 기준하는 것에 맞춰서 모자라면 맞춰주고 넘치면 자른다."
      ]
    },
    {
      "cell_type": "code",
      "metadata": {
        "id": "IhW2bmu91mbH",
        "colab_type": "code",
        "colab": {
          "base_uri": "https://localhost:8080/",
          "height": 52
        },
        "outputId": "cdece60f-d1d7-418a-831b-5c568c2cac02"
      },
      "source": [
        "from tensorflow.keras.preprocessing.sequence import pad_sequences\n",
        "\n",
        "max_len = 500\n",
        "\n",
        "print('Before pad_sequences: ', len(x_train[0]))\n",
        "\n",
        "pad_x_train = pad_sequences(x_train, maxlen=max_len, padding = 'pre')\n",
        "pad_x_test = pad_sequences(x_test, maxlen=max_len, padding = 'pre')\n",
        "\n",
        "print('After pad_sequences: ', len(pad_x_train[0]))"
      ],
      "execution_count": null,
      "outputs": [
        {
          "output_type": "stream",
          "text": [
            "Before pad_sequences:  218\n",
            "After pad_sequences:  500\n"
          ],
          "name": "stdout"
        }
      ]
    },
    {
      "cell_type": "markdown",
      "metadata": {
        "id": "kT0Tj_Kd2Pti",
        "colab_type": "text"
      },
      "source": [
        "Embedding 층을 사용하여 모델 구성하기"
      ]
    },
    {
      "cell_type": "code",
      "metadata": {
        "id": "c1iNAQPv2TX8",
        "colab_type": "code",
        "colab": {}
      },
      "source": [
        "from tensorflow.keras.models import Sequential\n",
        "from tensorflow.keras.layers import Dense, Embedding, Flatten\n",
        "\n",
        "model = Sequential()\n",
        "# 이 층은 모델의 제일 첫 번째 층으로만 사용할 수 있습니다.\n",
        "# Flatten 층을 사용하기 위해 input_length를 전달합니다.\n",
        "model.add(Embedding(input_dim = num_words, output_dim = 32, input_length = max_len))#Embedding은 무조건 input을 넣을 수 있는 첫번째 증에서만 입력할 수 있다.\n",
        "model.add(Flatten())\n",
        "model.add(Dense(1, activation = 'sigmoid'))\n",
        "# 타겟변수를 찾는 형태\n",
        "\n",
        "model.compile(optimizer='adam',\n",
        "             loss = 'binary_crossentropy',\n",
        "             metrics = ['acc'])"
      ],
      "execution_count": null,
      "outputs": []
    },
    {
      "cell_type": "code",
      "metadata": {
        "id": "lRZ9Zjig3Mfu",
        "colab_type": "code",
        "colab": {
          "base_uri": "https://localhost:8080/",
          "height": 266
        },
        "outputId": "cc4a3fba-358d-4444-dd1f-9d3a9980ac34"
      },
      "source": [
        "model.summary()"
      ],
      "execution_count": null,
      "outputs": [
        {
          "output_type": "stream",
          "text": [
            "Model: \"sequential\"\n",
            "_________________________________________________________________\n",
            "Layer (type)                 Output Shape              Param #   \n",
            "=================================================================\n",
            "embedding (Embedding)        (None, 500, 32)           320000    \n",
            "_________________________________________________________________\n",
            "flatten (Flatten)            (None, 16000)             0         \n",
            "_________________________________________________________________\n",
            "dense (Dense)                (None, 1)                 16001     \n",
            "=================================================================\n",
            "Total params: 336,001\n",
            "Trainable params: 336,001\n",
            "Non-trainable params: 0\n",
            "_________________________________________________________________\n"
          ],
          "name": "stdout"
        }
      ]
    },
    {
      "cell_type": "markdown",
      "metadata": {
        "id": "5Ofr1C2i3Rsg",
        "colab_type": "text"
      },
      "source": [
        "모델 학습시키기"
      ]
    },
    {
      "cell_type": "code",
      "metadata": {
        "id": "6UnzDWP33TKQ",
        "colab_type": "code",
        "colab": {
          "base_uri": "https://localhost:8080/",
          "height": 1000
        },
        "outputId": "49d194b2-6d57-40e4-808e-31ad0d46dc81"
      },
      "source": [
        "history = model.fit(pad_x_train, y_train, \n",
        "                    batch_size = 32, \n",
        "                    epochs = 30, \n",
        "                    validation_split = 0.2) # validation_split : 자동으로 지정한 수치만큼 val를 만들어준다. 랜덤이 아니라 뒤에서 몇퍼센트 이렇게 잘라서 사용한다.\n"
      ],
      "execution_count": null,
      "outputs": [
        {
          "output_type": "stream",
          "text": [
            "Epoch 1/30\n",
            "625/625 [==============================] - 7s 11ms/step - loss: 0.4639 - acc: 0.7707 - val_loss: 0.2969 - val_acc: 0.8796\n",
            "Epoch 2/30\n",
            "625/625 [==============================] - 7s 11ms/step - loss: 0.2011 - acc: 0.9250 - val_loss: 0.2782 - val_acc: 0.8824\n",
            "Epoch 3/30\n",
            "625/625 [==============================] - 7s 11ms/step - loss: 0.1071 - acc: 0.9692 - val_loss: 0.2910 - val_acc: 0.8846\n",
            "Epoch 4/30\n",
            "625/625 [==============================] - 7s 11ms/step - loss: 0.0500 - acc: 0.9913 - val_loss: 0.3086 - val_acc: 0.8846\n",
            "Epoch 5/30\n",
            "625/625 [==============================] - 6s 10ms/step - loss: 0.0233 - acc: 0.9977 - val_loss: 0.3315 - val_acc: 0.8840\n",
            "Epoch 6/30\n",
            "625/625 [==============================] - 6s 10ms/step - loss: 0.0113 - acc: 0.9997 - val_loss: 0.3604 - val_acc: 0.8826\n",
            "Epoch 7/30\n",
            "625/625 [==============================] - 7s 11ms/step - loss: 0.0063 - acc: 0.9998 - val_loss: 0.3835 - val_acc: 0.8814\n",
            "Epoch 8/30\n",
            "625/625 [==============================] - 7s 11ms/step - loss: 0.0037 - acc: 0.9999 - val_loss: 0.4036 - val_acc: 0.8830\n",
            "Epoch 9/30\n",
            "625/625 [==============================] - 7s 11ms/step - loss: 0.0022 - acc: 1.0000 - val_loss: 0.4230 - val_acc: 0.8828\n",
            "Epoch 10/30\n",
            "625/625 [==============================] - 6s 10ms/step - loss: 0.0014 - acc: 1.0000 - val_loss: 0.4429 - val_acc: 0.8800\n",
            "Epoch 11/30\n",
            "625/625 [==============================] - 7s 11ms/step - loss: 9.2315e-04 - acc: 1.0000 - val_loss: 0.4620 - val_acc: 0.8802\n",
            "Epoch 12/30\n",
            "625/625 [==============================] - 7s 11ms/step - loss: 6.1927e-04 - acc: 1.0000 - val_loss: 0.4833 - val_acc: 0.8806\n",
            "Epoch 13/30\n",
            "625/625 [==============================] - 7s 11ms/step - loss: 4.2689e-04 - acc: 1.0000 - val_loss: 0.5053 - val_acc: 0.8804\n",
            "Epoch 14/30\n",
            "625/625 [==============================] - 6s 10ms/step - loss: 2.8228e-04 - acc: 1.0000 - val_loss: 0.5194 - val_acc: 0.8784\n",
            "Epoch 15/30\n",
            "625/625 [==============================] - 7s 11ms/step - loss: 1.9192e-04 - acc: 1.0000 - val_loss: 0.5388 - val_acc: 0.8786\n",
            "Epoch 16/30\n",
            "625/625 [==============================] - 7s 11ms/step - loss: 1.3611e-04 - acc: 1.0000 - val_loss: 0.5573 - val_acc: 0.8782\n",
            "Epoch 17/30\n",
            "625/625 [==============================] - 7s 11ms/step - loss: 9.2967e-05 - acc: 1.0000 - val_loss: 0.5750 - val_acc: 0.8782\n",
            "Epoch 18/30\n",
            "625/625 [==============================] - 7s 11ms/step - loss: 6.4631e-05 - acc: 1.0000 - val_loss: 0.5929 - val_acc: 0.8788\n",
            "Epoch 19/30\n",
            "625/625 [==============================] - 6s 10ms/step - loss: 4.6358e-05 - acc: 1.0000 - val_loss: 0.6106 - val_acc: 0.8784\n",
            "Epoch 20/30\n",
            "625/625 [==============================] - 7s 11ms/step - loss: 3.2107e-05 - acc: 1.0000 - val_loss: 0.6286 - val_acc: 0.8772\n",
            "Epoch 21/30\n",
            "625/625 [==============================] - 7s 11ms/step - loss: 2.2665e-05 - acc: 1.0000 - val_loss: 0.6455 - val_acc: 0.8780\n",
            "Epoch 22/30\n",
            "625/625 [==============================] - 8s 12ms/step - loss: 1.6130e-05 - acc: 1.0000 - val_loss: 0.6629 - val_acc: 0.8774\n",
            "Epoch 23/30\n",
            "625/625 [==============================] - 11s 17ms/step - loss: 1.1481e-05 - acc: 1.0000 - val_loss: 0.6805 - val_acc: 0.8770\n",
            "Epoch 24/30\n",
            "625/625 [==============================] - 9s 15ms/step - loss: 8.1476e-06 - acc: 1.0000 - val_loss: 0.6981 - val_acc: 0.8760\n",
            "Epoch 25/30\n",
            "625/625 [==============================] - 6s 10ms/step - loss: 5.8640e-06 - acc: 1.0000 - val_loss: 0.7163 - val_acc: 0.8760\n",
            "Epoch 26/30\n",
            "625/625 [==============================] - 6s 10ms/step - loss: 4.2716e-06 - acc: 1.0000 - val_loss: 0.7329 - val_acc: 0.8766\n",
            "Epoch 27/30\n",
            "625/625 [==============================] - 7s 11ms/step - loss: 3.0629e-06 - acc: 1.0000 - val_loss: 0.7505 - val_acc: 0.8752\n",
            "Epoch 28/30\n",
            "625/625 [==============================] - 7s 11ms/step - loss: 2.2421e-06 - acc: 1.0000 - val_loss: 0.7651 - val_acc: 0.8766\n",
            "Epoch 29/30\n",
            "625/625 [==============================] - 6s 10ms/step - loss: 1.6686e-06 - acc: 1.0000 - val_loss: 0.7819 - val_acc: 0.8754\n",
            "Epoch 30/30\n",
            "625/625 [==============================] - 6s 10ms/step - loss: 1.2248e-06 - acc: 1.0000 - val_loss: 0.7984 - val_acc: 0.8746\n"
          ],
          "name": "stdout"
        }
      ]
    },
    {
      "cell_type": "markdown",
      "metadata": {
        "id": "v7SOSOEi4Ahj",
        "colab_type": "text"
      },
      "source": [
        "학습과정 확인하기"
      ]
    },
    {
      "cell_type": "code",
      "metadata": {
        "id": "i19bb_SG4Cxk",
        "colab_type": "code",
        "colab": {
          "base_uri": "https://localhost:8080/",
          "height": 350
        },
        "outputId": "15b4be15-8b71-43c4-d9f6-9ba73688df6f"
      },
      "source": [
        "import matplotlib.pyplot as plt\n",
        "\n",
        "his_dict = history.history\n",
        "loss = his_dict['loss']\n",
        "val_loss = his_dict['val_loss'] \n",
        "\n",
        "epochs = range(1, len(loss) + 1)\n",
        "fig = plt.figure(figsize = (10, 5))\n",
        "\n",
        "# 훈련 및 검증 손실 그리기\n",
        "ax1 = fig.add_subplot(1, 2, 1)\n",
        "ax1.plot(epochs, loss, color = 'blue', label = 'train_loss')\n",
        "ax1.plot(epochs, val_loss, color = 'orange', label = 'val_loss')\n",
        "ax1.set_title('train and val loss')\n",
        "ax1.set_xlabel('epochs')\n",
        "ax1.set_ylabel('loss')\n",
        "ax1.legend()\n",
        "\n",
        "acc = his_dict['acc']\n",
        "val_acc = his_dict['val_acc']\n",
        "\n",
        "# 훈련 및 검증 정확도 그리기\n",
        "ax2 = fig.add_subplot(1, 2, 2)\n",
        "ax2.plot(epochs, acc, color = 'blue', label = 'train_acc')\n",
        "ax2.plot(epochs, val_acc, color = 'orange', label = 'val_acc')\n",
        "ax2.set_title('train and val acc')\n",
        "ax2.set_xlabel('epochs')\n",
        "ax2.set_ylabel('acc')\n",
        "ax2.legend()\n",
        "\n",
        "plt.show()"
      ],
      "execution_count": null,
      "outputs": [
        {
          "output_type": "display_data",
          "data": {
            "image/png": "[encoded data removed]",
            "text/plain": [
              "<Figure size 720x360 with 2 Axes>"
            ]
          },
          "metadata": {
            "tags": [],
            "needs_background": "light"
          }
        }
      ]
    },
    {
      "cell_type": "markdown",
      "metadata": {
        "id": "O7mStOou4SDJ",
        "colab_type": "text"
      },
      "source": [
        "모델 평가하기"
      ]
    },
    {
      "cell_type": "code",
      "metadata": {
        "id": "GpjlLZnc4djT",
        "colab_type": "code",
        "colab": {
          "base_uri": "https://localhost:8080/",
          "height": 52
        },
        "outputId": "0220b8e1-9773-4e83-abd4-69d6d1eedde9"
      },
      "source": [
        "model.evaluate(pad_x_test, y_test) # 정확도는 괜찮은데 5번정도만 학습시켜도 된다. 그 이상 시키면 외워버려서 과적합."
      ],
      "execution_count": null,
      "outputs": [
        {
          "output_type": "stream",
          "text": [
            "782/782 [==============================] - 2s 2ms/step - loss: 0.8124 - acc: 0.8722\n"
          ],
          "name": "stdout"
        },
        {
          "output_type": "execute_result",
          "data": {
            "text/plain": [
              "[0.8124492168426514, 0.8722400069236755]"
            ]
          },
          "metadata": {
            "tags": []
          },
          "execution_count": 19
        }
      ]
    }
  ]
}