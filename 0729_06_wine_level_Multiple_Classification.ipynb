{
  "nbformat": 4,
  "nbformat_minor": 0,
  "metadata": {
    "colab": {
      "name": "0729_06_wine_level_Multiple Classification.ipynb",
      "provenance": [],
      "collapsed_sections": []
    },
    "kernelspec": {
      "name": "python3",
      "display_name": "Python 3"
    }
  },
  "cells": [
    {
      "cell_type": "markdown",
      "metadata": {
        "id": "3jXNTMLCHgom",
        "colab_type": "text"
      },
      "source": [
        "와인등급 다중 분류 신경망 만들기\n",
        "- 와인의 맛 예측하기 : 11개 변수를 독립변수로 보고 와인의 맛(0~10등급 → 실제 6 등급)을 분류하는 다중 분류 문제로 정의\n",
        "\n",
        "-"
      ]
    },
    {
      "cell_type": "code",
      "metadata": {
        "id": "aRYTFnvEHa-_",
        "colab_type": "code",
        "colab": {
          "base_uri": "https://localhost:8080/",
          "height": 70
        },
        "outputId": "9ab9ad55-fde1-4d48-c228-b2121398f230"
      },
      "source": [
        "import pathlib\n",
        "\n",
        "import matplotlib.pyplot as plt\n",
        "import pandas as pd\n",
        "import numpy as np\n",
        "import seaborn as sns\n",
        "\n",
        "import tensorflow as tf\n",
        "import keras\n",
        "from keras.models import Sequential\n",
        "from keras.layers.core import Dense"
      ],
      "execution_count": null,
      "outputs": [
        {
          "output_type": "stream",
          "text": [
            "/usr/local/lib/python3.6/dist-packages/statsmodels/tools/_testing.py:19: FutureWarning: pandas.util.testing is deprecated. Use the functions in the public API at pandas.testing instead.\n",
            "  import pandas.util.testing as tm\n",
            "Using TensorFlow backend.\n"
          ],
          "name": "stderr"
        }
      ]
    },
    {
      "cell_type": "markdown",
      "metadata": {
        "id": "x-ufV7ZCKOxa",
        "colab_type": "text"
      },
      "source": [
        "데이터 준비하기"
      ]
    },
    {
      "cell_type": "code",
      "metadata": {
        "id": "DMOugp3KKPsH",
        "colab_type": "code",
        "colab": {
          "base_uri": "https://localhost:8080/",
          "height": 141
        },
        "outputId": "a25fd4d4-4303-4e20-b0bb-5452ae282507"
      },
      "source": [
        "data = pd.read_csv(\"/content/drive/My Drive/Colab Notebooks/machinlaur/0729/winequality_red.csv\", header=None)\n",
        "print(data.head())\n",
        "data.shape"
      ],
      "execution_count": null,
      "outputs": [
        {
          "output_type": "stream",
          "text": [
            "     0     1     2    3      4     5     6       7     8     9    10  11\n",
            "0   7.4  0.70  0.00  1.9  0.076  11.0  34.0  0.9978  3.51  0.56  9.4   5\n",
            "1   7.8  0.88  0.00  2.6  0.098  25.0  67.0  0.9968  3.20  0.68  9.8   5\n",
            "2   7.8  0.76  0.04  2.3  0.092  15.0  54.0  0.9970  3.26  0.65  9.8   5\n",
            "3  11.2  0.28  0.56  1.9  0.075  17.0  60.0  0.9980  3.16  0.58  9.8   6\n",
            "4   7.4  0.70  0.00  1.9  0.076  11.0  34.0  0.9978  3.51  0.56  9.4   5\n"
          ],
          "name": "stdout"
        },
        {
          "output_type": "execute_result",
          "data": {
            "text/plain": [
              "(1599, 12)"
            ]
          },
          "metadata": {
            "tags": []
          },
          "execution_count": 7
        }
      ]
    },
    {
      "cell_type": "markdown",
      "metadata": {
        "id": "HrIZ-b59K4En",
        "colab_type": "text"
      },
      "source": [
        "데이터셋 생성하기- 입력(속성값 11개)와 출력(판정결과 1개) 변수 분리"
      ]
    },
    {
      "cell_type": "code",
      "metadata": {
        "id": "dIXQ9irBK5Q0",
        "colab_type": "code",
        "colab": {
          "base_uri": "https://localhost:8080/",
          "height": 88
        },
        "outputId": "58fce22d-1d7e-4e37-cc39-13d545d0b42e"
      },
      "source": [
        "# 변수 분리 -> 입력 11개, 출력 1개\n",
        "x = data.iloc[:, 0:11].values\n",
        "y = data.iloc[:, 11].values\n",
        "\n",
        "#학습/테스트 8:2 비율로 분리\n",
        "from sklearn.model_selection import train_test_split\n",
        "x_train, x_test, y_train, y_test = train_test_split(x, Y, test_size=0.2)\n",
        "\n",
        "print(x_train.shape)\n",
        "print(x_test.shape)\n",
        "print(y_train.shape)\n",
        "print(y_test.shape)"
      ],
      "execution_count": null,
      "outputs": [
        {
          "output_type": "stream",
          "text": [
            "(1279, 11)\n",
            "(320, 11)\n",
            "(1279, 6)\n",
            "(320, 6)\n"
          ],
          "name": "stdout"
        }
      ]
    },
    {
      "cell_type": "code",
      "metadata": {
        "id": "vzZbjs1_gYOu",
        "colab_type": "code",
        "colab": {
          "base_uri": "https://localhost:8080/",
          "height": 35
        },
        "outputId": "10e06cce-ea22-45f6-9e1b-382e04d98ec1"
      },
      "source": [
        "# 레이블을 범주형태로 변경\n",
        "from sklearn.preprocessing import LabelEncoder\n",
        "from keras.utils import np_utils\n",
        "\n",
        "encoder = LabelEncoder()\n",
        "encoder.fit(y)\n",
        "Y_encodered = encoder.transform(y)\n",
        "\n",
        "print(Y_encodered)\n",
        "Y = np_utils.to_categorical(Y_encodered)"
      ],
      "execution_count": null,
      "outputs": [
        {
          "output_type": "stream",
          "text": [
            "[2 2 2 ... 3 2 3]\n"
          ],
          "name": "stdout"
        }
      ]
    },
    {
      "cell_type": "markdown",
      "metadata": {
        "id": "KGeoYP5bMKtU",
        "colab_type": "text"
      },
      "source": [
        "데이터셋 전처리하기"
      ]
    },
    {
      "cell_type": "code",
      "metadata": {
        "id": "hVM1IIruMLpu",
        "colab_type": "code",
        "colab": {}
      },
      "source": [
        "x_mean = np.mean(x_train, axis = 0)\n",
        "x_std = np.std(x_train, axis = 0)\n",
        "\n",
        "x_train = (x_train - x_mean) / x_std\n",
        "x_test = (x_test - x_mean) / x_std"
      ],
      "execution_count": null,
      "outputs": []
    },
    {
      "cell_type": "code",
      "metadata": {
        "id": "6ieFxEqPdkFS",
        "colab_type": "code",
        "colab": {
          "base_uri": "https://localhost:8080/",
          "height": 52
        },
        "outputId": "202c9533-5597-447a-d904-84453c80d34b"
      },
      "source": [
        "print(x_train[0])"
      ],
      "execution_count": null,
      "outputs": [
        {
          "output_type": "stream",
          "text": [
            "[ 0.92482267 -1.00364119  0.72646912 -0.17576208 -0.08162583 -0.46336172\n",
            "  0.42735915  0.77955288 -0.66688351 -0.92792652 -0.87046345]\n"
          ],
          "name": "stdout"
        }
      ]
    },
    {
      "cell_type": "markdown",
      "metadata": {
        "id": "WoqEniY9PYKL",
        "colab_type": "text"
      },
      "source": [
        "모델 구성하기"
      ]
    },
    {
      "cell_type": "code",
      "metadata": {
        "id": "kLGEGu7XPmuk",
        "colab_type": "code",
        "colab": {
          "base_uri": "https://localhost:8080/",
          "height": 266
        },
        "outputId": "1f0ab4c6-7b72-4e52-b7e9-2e43af860259"
      },
      "source": [
        "np.random.seed(7)\n",
        "\n",
        "model = Sequential()\n",
        "\n",
        "model.add(Dense(64, input_shape=(11,), activation='relu'))\n",
        "model.add(Dense(12, activation='relu'))\n",
        "model.add(Dense(6, activation='softmax'))\n",
        "\n",
        "model.summary()"
      ],
      "execution_count": null,
      "outputs": [
        {
          "output_type": "stream",
          "text": [
            "Model: \"sequential_1\"\n",
            "_________________________________________________________________\n",
            "Layer (type)                 Output Shape              Param #   \n",
            "=================================================================\n",
            "dense_1 (Dense)              (None, 64)                768       \n",
            "_________________________________________________________________\n",
            "dense_2 (Dense)              (None, 12)                780       \n",
            "_________________________________________________________________\n",
            "dense_3 (Dense)              (None, 6)                 78        \n",
            "=================================================================\n",
            "Total params: 1,626\n",
            "Trainable params: 1,626\n",
            "Non-trainable params: 0\n",
            "_________________________________________________________________\n"
          ],
          "name": "stdout"
        }
      ]
    },
    {
      "cell_type": "markdown",
      "metadata": {
        "id": "BZJZpy8RQUsV",
        "colab_type": "text"
      },
      "source": [
        "모델 학습과정 설정하기"
      ]
    },
    {
      "cell_type": "code",
      "metadata": {
        "id": "ofmKhpxdQV1Z",
        "colab_type": "code",
        "colab": {}
      },
      "source": [
        "model.compile(loss='categorical_crossentropy', optimizer='adam',\n",
        "              metrics=['accuracy'])"
      ],
      "execution_count": null,
      "outputs": []
    },
    {
      "cell_type": "markdown",
      "metadata": {
        "id": "oCRyZ0BqQoMz",
        "colab_type": "text"
      },
      "source": [
        "모델 학습시키기"
      ]
    },
    {
      "cell_type": "code",
      "metadata": {
        "id": "M8H63q97QpO4",
        "colab_type": "code",
        "colab": {
          "base_uri": "https://localhost:8080/",
          "height": 1000
        },
        "outputId": "d55f43f5-9e99-40b5-a15f-b3715606a471"
      },
      "source": [
        "history = model.fit(x_train, y_train,\n",
        "                    epochs=200, \n",
        "                    batch_size=10,\n",
        "                    validation_data = (x_test, y_test))"
      ],
      "execution_count": null,
      "outputs": [
        {
          "output_type": "stream",
          "text": [
            "Train on 1279 samples, validate on 320 samples\n",
            "Epoch 1/200\n",
            "1279/1279 [==============================] - 1s 397us/step - loss: 1.3561 - accuracy: 0.4808 - val_loss: 1.1838 - val_accuracy: 0.5594\n",
            "Epoch 2/200\n",
            "1279/1279 [==============================] - 0s 127us/step - loss: 1.0516 - accuracy: 0.5817 - val_loss: 1.0980 - val_accuracy: 0.5875\n",
            "Epoch 3/200\n",
            "1279/1279 [==============================] - 0s 142us/step - loss: 0.9882 - accuracy: 0.5997 - val_loss: 1.0612 - val_accuracy: 0.5906\n",
            "Epoch 4/200\n",
            "1279/1279 [==============================] - 0s 139us/step - loss: 0.9543 - accuracy: 0.6130 - val_loss: 1.0495 - val_accuracy: 0.6031\n",
            "Epoch 5/200\n",
            "1279/1279 [==============================] - 0s 132us/step - loss: 0.9356 - accuracy: 0.6130 - val_loss: 1.0216 - val_accuracy: 0.6125\n",
            "Epoch 6/200\n",
            "1279/1279 [==============================] - 0s 139us/step - loss: 0.9171 - accuracy: 0.6271 - val_loss: 1.0141 - val_accuracy: 0.6125\n",
            "Epoch 7/200\n",
            "1279/1279 [==============================] - 0s 132us/step - loss: 0.9074 - accuracy: 0.6099 - val_loss: 1.0061 - val_accuracy: 0.6062\n",
            "Epoch 8/200\n",
            "1279/1279 [==============================] - 0s 162us/step - loss: 0.8936 - accuracy: 0.6286 - val_loss: 1.0081 - val_accuracy: 0.6125\n",
            "Epoch 9/200\n",
            "1279/1279 [==============================] - 0s 128us/step - loss: 0.8846 - accuracy: 0.6278 - val_loss: 1.0039 - val_accuracy: 0.6094\n",
            "Epoch 10/200\n",
            "1279/1279 [==============================] - 0s 131us/step - loss: 0.8755 - accuracy: 0.6317 - val_loss: 0.9963 - val_accuracy: 0.6125\n",
            "Epoch 11/200\n",
            "1279/1279 [==============================] - 0s 131us/step - loss: 0.8639 - accuracy: 0.6450 - val_loss: 0.9995 - val_accuracy: 0.6219\n",
            "Epoch 12/200\n",
            "1279/1279 [==============================] - 0s 148us/step - loss: 0.8625 - accuracy: 0.6310 - val_loss: 0.9918 - val_accuracy: 0.6344\n",
            "Epoch 13/200\n",
            "1279/1279 [==============================] - 0s 135us/step - loss: 0.8516 - accuracy: 0.6450 - val_loss: 1.0000 - val_accuracy: 0.6219\n",
            "Epoch 14/200\n",
            "1279/1279 [==============================] - 0s 153us/step - loss: 0.8457 - accuracy: 0.6474 - val_loss: 0.9963 - val_accuracy: 0.6219\n",
            "Epoch 15/200\n",
            "1279/1279 [==============================] - 0s 133us/step - loss: 0.8374 - accuracy: 0.6450 - val_loss: 0.9950 - val_accuracy: 0.6156\n",
            "Epoch 16/200\n",
            "1279/1279 [==============================] - 0s 129us/step - loss: 0.8305 - accuracy: 0.6560 - val_loss: 1.0029 - val_accuracy: 0.6219\n",
            "Epoch 17/200\n",
            "1279/1279 [==============================] - 0s 137us/step - loss: 0.8305 - accuracy: 0.6513 - val_loss: 0.9825 - val_accuracy: 0.6313\n",
            "Epoch 18/200\n",
            "1279/1279 [==============================] - 0s 138us/step - loss: 0.8208 - accuracy: 0.6607 - val_loss: 0.9720 - val_accuracy: 0.6469\n",
            "Epoch 19/200\n",
            "1279/1279 [==============================] - 0s 138us/step - loss: 0.8135 - accuracy: 0.6544 - val_loss: 0.9817 - val_accuracy: 0.6500\n",
            "Epoch 20/200\n",
            "1279/1279 [==============================] - 0s 136us/step - loss: 0.8098 - accuracy: 0.6622 - val_loss: 0.9821 - val_accuracy: 0.6438\n",
            "Epoch 21/200\n",
            "1279/1279 [==============================] - 0s 130us/step - loss: 0.8029 - accuracy: 0.6669 - val_loss: 0.9837 - val_accuracy: 0.6406\n",
            "Epoch 22/200\n",
            "1279/1279 [==============================] - 0s 129us/step - loss: 0.7999 - accuracy: 0.6607 - val_loss: 0.9774 - val_accuracy: 0.6531\n",
            "Epoch 23/200\n",
            "1279/1279 [==============================] - 0s 123us/step - loss: 0.7971 - accuracy: 0.6677 - val_loss: 0.9845 - val_accuracy: 0.6469\n",
            "Epoch 24/200\n",
            "1279/1279 [==============================] - 0s 136us/step - loss: 0.7912 - accuracy: 0.6677 - val_loss: 0.9887 - val_accuracy: 0.6344\n",
            "Epoch 25/200\n",
            "1279/1279 [==============================] - 0s 129us/step - loss: 0.7854 - accuracy: 0.6669 - val_loss: 0.9894 - val_accuracy: 0.6187\n",
            "Epoch 26/200\n",
            "1279/1279 [==============================] - 0s 130us/step - loss: 0.7798 - accuracy: 0.6701 - val_loss: 0.9760 - val_accuracy: 0.6687\n",
            "Epoch 27/200\n",
            "1279/1279 [==============================] - 0s 132us/step - loss: 0.7803 - accuracy: 0.6701 - val_loss: 0.9848 - val_accuracy: 0.6344\n",
            "Epoch 28/200\n",
            "1279/1279 [==============================] - 0s 128us/step - loss: 0.7751 - accuracy: 0.6732 - val_loss: 0.9862 - val_accuracy: 0.6531\n",
            "Epoch 29/200\n",
            "1279/1279 [==============================] - 0s 133us/step - loss: 0.7668 - accuracy: 0.6747 - val_loss: 0.9913 - val_accuracy: 0.6625\n",
            "Epoch 30/200\n",
            "1279/1279 [==============================] - 0s 142us/step - loss: 0.7655 - accuracy: 0.6747 - val_loss: 0.9928 - val_accuracy: 0.6469\n",
            "Epoch 31/200\n",
            "1279/1279 [==============================] - 0s 129us/step - loss: 0.7605 - accuracy: 0.6833 - val_loss: 0.9952 - val_accuracy: 0.6531\n",
            "Epoch 32/200\n",
            "1279/1279 [==============================] - 0s 133us/step - loss: 0.7543 - accuracy: 0.6888 - val_loss: 0.9907 - val_accuracy: 0.6625\n",
            "Epoch 33/200\n",
            "1279/1279 [==============================] - 0s 129us/step - loss: 0.7503 - accuracy: 0.6919 - val_loss: 0.9944 - val_accuracy: 0.6469\n",
            "Epoch 34/200\n",
            "1279/1279 [==============================] - 0s 136us/step - loss: 0.7507 - accuracy: 0.6912 - val_loss: 0.9977 - val_accuracy: 0.6344\n",
            "Epoch 35/200\n",
            "1279/1279 [==============================] - 0s 132us/step - loss: 0.7453 - accuracy: 0.6826 - val_loss: 1.0024 - val_accuracy: 0.6344\n",
            "Epoch 36/200\n",
            "1279/1279 [==============================] - 0s 132us/step - loss: 0.7434 - accuracy: 0.6880 - val_loss: 0.9925 - val_accuracy: 0.6500\n",
            "Epoch 37/200\n",
            "1279/1279 [==============================] - 0s 139us/step - loss: 0.7360 - accuracy: 0.6943 - val_loss: 1.0016 - val_accuracy: 0.6406\n",
            "Epoch 38/200\n",
            "1279/1279 [==============================] - 0s 128us/step - loss: 0.7310 - accuracy: 0.6959 - val_loss: 1.0146 - val_accuracy: 0.6562\n",
            "Epoch 39/200\n",
            "1279/1279 [==============================] - 0s 128us/step - loss: 0.7326 - accuracy: 0.6943 - val_loss: 1.0144 - val_accuracy: 0.6344\n",
            "Epoch 40/200\n",
            "1279/1279 [==============================] - 0s 133us/step - loss: 0.7269 - accuracy: 0.7013 - val_loss: 1.0257 - val_accuracy: 0.6375\n",
            "Epoch 41/200\n",
            "1279/1279 [==============================] - 0s 132us/step - loss: 0.7204 - accuracy: 0.7013 - val_loss: 1.0326 - val_accuracy: 0.6187\n",
            "Epoch 42/200\n",
            "1279/1279 [==============================] - 0s 136us/step - loss: 0.7215 - accuracy: 0.7060 - val_loss: 1.0208 - val_accuracy: 0.6250\n",
            "Epoch 43/200\n",
            "1279/1279 [==============================] - 0s 135us/step - loss: 0.7209 - accuracy: 0.7091 - val_loss: 1.0253 - val_accuracy: 0.6469\n",
            "Epoch 44/200\n",
            "1279/1279 [==============================] - 0s 129us/step - loss: 0.7126 - accuracy: 0.6990 - val_loss: 1.0287 - val_accuracy: 0.6344\n",
            "Epoch 45/200\n",
            "1279/1279 [==============================] - 0s 137us/step - loss: 0.7107 - accuracy: 0.7107 - val_loss: 1.0382 - val_accuracy: 0.6375\n",
            "Epoch 46/200\n",
            "1279/1279 [==============================] - 0s 131us/step - loss: 0.7026 - accuracy: 0.7068 - val_loss: 1.0342 - val_accuracy: 0.6219\n",
            "Epoch 47/200\n",
            "1279/1279 [==============================] - 0s 145us/step - loss: 0.7014 - accuracy: 0.7076 - val_loss: 1.0140 - val_accuracy: 0.6438\n",
            "Epoch 48/200\n",
            "1279/1279 [==============================] - 0s 135us/step - loss: 0.7014 - accuracy: 0.7115 - val_loss: 1.0293 - val_accuracy: 0.6344\n",
            "Epoch 49/200\n",
            "1279/1279 [==============================] - 0s 141us/step - loss: 0.6999 - accuracy: 0.7029 - val_loss: 1.0429 - val_accuracy: 0.6344\n",
            "Epoch 50/200\n",
            "1279/1279 [==============================] - 0s 148us/step - loss: 0.6933 - accuracy: 0.7177 - val_loss: 1.0364 - val_accuracy: 0.6438\n",
            "Epoch 51/200\n",
            "1279/1279 [==============================] - 0s 134us/step - loss: 0.6885 - accuracy: 0.7185 - val_loss: 1.0262 - val_accuracy: 0.6375\n",
            "Epoch 52/200\n",
            "1279/1279 [==============================] - 0s 130us/step - loss: 0.6883 - accuracy: 0.7217 - val_loss: 1.0446 - val_accuracy: 0.6250\n",
            "Epoch 53/200\n",
            "1279/1279 [==============================] - 0s 137us/step - loss: 0.6806 - accuracy: 0.7279 - val_loss: 1.0704 - val_accuracy: 0.6219\n",
            "Epoch 54/200\n",
            "1279/1279 [==============================] - 0s 136us/step - loss: 0.6777 - accuracy: 0.7240 - val_loss: 1.0521 - val_accuracy: 0.6594\n",
            "Epoch 55/200\n",
            "1279/1279 [==============================] - 0s 136us/step - loss: 0.6751 - accuracy: 0.7170 - val_loss: 1.0793 - val_accuracy: 0.6219\n",
            "Epoch 56/200\n",
            "1279/1279 [==============================] - 0s 131us/step - loss: 0.6722 - accuracy: 0.7271 - val_loss: 1.0746 - val_accuracy: 0.6125\n",
            "Epoch 57/200\n",
            "1279/1279 [==============================] - 0s 136us/step - loss: 0.6720 - accuracy: 0.7248 - val_loss: 1.1015 - val_accuracy: 0.6156\n",
            "Epoch 58/200\n",
            "1279/1279 [==============================] - 0s 130us/step - loss: 0.6642 - accuracy: 0.7201 - val_loss: 1.0564 - val_accuracy: 0.6469\n",
            "Epoch 59/200\n",
            "1279/1279 [==============================] - 0s 141us/step - loss: 0.6633 - accuracy: 0.7404 - val_loss: 1.0739 - val_accuracy: 0.6500\n",
            "Epoch 60/200\n",
            "1279/1279 [==============================] - 0s 145us/step - loss: 0.6604 - accuracy: 0.7224 - val_loss: 1.0730 - val_accuracy: 0.6313\n",
            "Epoch 61/200\n",
            "1279/1279 [==============================] - 0s 135us/step - loss: 0.6568 - accuracy: 0.7263 - val_loss: 1.0699 - val_accuracy: 0.6344\n",
            "Epoch 62/200\n",
            "1279/1279 [==============================] - 0s 140us/step - loss: 0.6507 - accuracy: 0.7365 - val_loss: 1.0813 - val_accuracy: 0.6281\n",
            "Epoch 63/200\n",
            "1279/1279 [==============================] - 0s 135us/step - loss: 0.6508 - accuracy: 0.7365 - val_loss: 1.0881 - val_accuracy: 0.6313\n",
            "Epoch 64/200\n",
            "1279/1279 [==============================] - 0s 136us/step - loss: 0.6450 - accuracy: 0.7381 - val_loss: 1.0681 - val_accuracy: 0.6406\n",
            "Epoch 65/200\n",
            "1279/1279 [==============================] - 0s 129us/step - loss: 0.6433 - accuracy: 0.7404 - val_loss: 1.0959 - val_accuracy: 0.6156\n",
            "Epoch 66/200\n",
            "1279/1279 [==============================] - 0s 149us/step - loss: 0.6429 - accuracy: 0.7373 - val_loss: 1.0806 - val_accuracy: 0.6375\n",
            "Epoch 67/200\n",
            "1279/1279 [==============================] - 0s 139us/step - loss: 0.6310 - accuracy: 0.7451 - val_loss: 1.0990 - val_accuracy: 0.6156\n",
            "Epoch 68/200\n",
            "1279/1279 [==============================] - 0s 131us/step - loss: 0.6354 - accuracy: 0.7357 - val_loss: 1.0892 - val_accuracy: 0.6344\n",
            "Epoch 69/200\n",
            "1279/1279 [==============================] - 0s 133us/step - loss: 0.6300 - accuracy: 0.7396 - val_loss: 1.1108 - val_accuracy: 0.6062\n",
            "Epoch 70/200\n",
            "1279/1279 [==============================] - 0s 137us/step - loss: 0.6292 - accuracy: 0.7428 - val_loss: 1.0941 - val_accuracy: 0.6062\n",
            "Epoch 71/200\n",
            "1279/1279 [==============================] - 0s 149us/step - loss: 0.6298 - accuracy: 0.7568 - val_loss: 1.1024 - val_accuracy: 0.6313\n",
            "Epoch 72/200\n",
            "1279/1279 [==============================] - 0s 133us/step - loss: 0.6169 - accuracy: 0.7428 - val_loss: 1.1081 - val_accuracy: 0.6219\n",
            "Epoch 73/200\n",
            "1279/1279 [==============================] - 0s 145us/step - loss: 0.6172 - accuracy: 0.7459 - val_loss: 1.1090 - val_accuracy: 0.6250\n",
            "Epoch 74/200\n",
            "1279/1279 [==============================] - 0s 132us/step - loss: 0.6104 - accuracy: 0.7545 - val_loss: 1.1254 - val_accuracy: 0.6125\n",
            "Epoch 75/200\n",
            "1279/1279 [==============================] - 0s 129us/step - loss: 0.6169 - accuracy: 0.7608 - val_loss: 1.1216 - val_accuracy: 0.6313\n",
            "Epoch 76/200\n",
            "1279/1279 [==============================] - 0s 145us/step - loss: 0.6053 - accuracy: 0.7615 - val_loss: 1.1281 - val_accuracy: 0.6187\n",
            "Epoch 77/200\n",
            "1279/1279 [==============================] - 0s 147us/step - loss: 0.6024 - accuracy: 0.7654 - val_loss: 1.1357 - val_accuracy: 0.6313\n",
            "Epoch 78/200\n",
            "1279/1279 [==============================] - 0s 133us/step - loss: 0.6037 - accuracy: 0.7561 - val_loss: 1.1470 - val_accuracy: 0.6094\n",
            "Epoch 79/200\n",
            "1279/1279 [==============================] - 0s 136us/step - loss: 0.6002 - accuracy: 0.7615 - val_loss: 1.1647 - val_accuracy: 0.6062\n",
            "Epoch 80/200\n",
            "1279/1279 [==============================] - 0s 133us/step - loss: 0.5936 - accuracy: 0.7639 - val_loss: 1.1238 - val_accuracy: 0.6187\n",
            "Epoch 81/200\n",
            "1279/1279 [==============================] - 0s 149us/step - loss: 0.5924 - accuracy: 0.7701 - val_loss: 1.1449 - val_accuracy: 0.6125\n",
            "Epoch 82/200\n",
            "1279/1279 [==============================] - 0s 135us/step - loss: 0.5879 - accuracy: 0.7639 - val_loss: 1.1644 - val_accuracy: 0.6031\n",
            "Epoch 83/200\n",
            "1279/1279 [==============================] - 0s 137us/step - loss: 0.5841 - accuracy: 0.7709 - val_loss: 1.1500 - val_accuracy: 0.6531\n",
            "Epoch 84/200\n",
            "1279/1279 [==============================] - 0s 132us/step - loss: 0.5812 - accuracy: 0.7733 - val_loss: 1.1269 - val_accuracy: 0.6250\n",
            "Epoch 85/200\n",
            "1279/1279 [==============================] - 0s 132us/step - loss: 0.5796 - accuracy: 0.7733 - val_loss: 1.1820 - val_accuracy: 0.6187\n",
            "Epoch 86/200\n",
            "1279/1279 [==============================] - 0s 129us/step - loss: 0.5790 - accuracy: 0.7701 - val_loss: 1.1501 - val_accuracy: 0.6219\n",
            "Epoch 87/200\n",
            "1279/1279 [==============================] - 0s 135us/step - loss: 0.5733 - accuracy: 0.7678 - val_loss: 1.1968 - val_accuracy: 0.6281\n",
            "Epoch 88/200\n",
            "1279/1279 [==============================] - 0s 150us/step - loss: 0.5714 - accuracy: 0.7764 - val_loss: 1.1790 - val_accuracy: 0.6406\n",
            "Epoch 89/200\n",
            "1279/1279 [==============================] - 0s 138us/step - loss: 0.5682 - accuracy: 0.7850 - val_loss: 1.1862 - val_accuracy: 0.6094\n",
            "Epoch 90/200\n",
            "1279/1279 [==============================] - 0s 143us/step - loss: 0.5641 - accuracy: 0.7873 - val_loss: 1.1769 - val_accuracy: 0.6562\n",
            "Epoch 91/200\n",
            "1279/1279 [==============================] - 0s 131us/step - loss: 0.5569 - accuracy: 0.7725 - val_loss: 1.1702 - val_accuracy: 0.6344\n",
            "Epoch 92/200\n",
            "1279/1279 [==============================] - 0s 131us/step - loss: 0.5642 - accuracy: 0.7811 - val_loss: 1.1843 - val_accuracy: 0.6375\n",
            "Epoch 93/200\n",
            "1279/1279 [==============================] - 0s 138us/step - loss: 0.5509 - accuracy: 0.7850 - val_loss: 1.1994 - val_accuracy: 0.6094\n",
            "Epoch 94/200\n",
            "1279/1279 [==============================] - 0s 143us/step - loss: 0.5563 - accuracy: 0.7858 - val_loss: 1.1799 - val_accuracy: 0.6438\n",
            "Epoch 95/200\n",
            "1279/1279 [==============================] - 0s 128us/step - loss: 0.5505 - accuracy: 0.7905 - val_loss: 1.2040 - val_accuracy: 0.6531\n",
            "Epoch 96/200\n",
            "1279/1279 [==============================] - 0s 153us/step - loss: 0.5499 - accuracy: 0.7834 - val_loss: 1.2613 - val_accuracy: 0.6094\n",
            "Epoch 97/200\n",
            "1279/1279 [==============================] - 0s 128us/step - loss: 0.5472 - accuracy: 0.7811 - val_loss: 1.2254 - val_accuracy: 0.6187\n",
            "Epoch 98/200\n",
            "1279/1279 [==============================] - 0s 143us/step - loss: 0.5410 - accuracy: 0.7928 - val_loss: 1.2196 - val_accuracy: 0.6281\n",
            "Epoch 99/200\n",
            "1279/1279 [==============================] - 0s 161us/step - loss: 0.5442 - accuracy: 0.7803 - val_loss: 1.2099 - val_accuracy: 0.6281\n",
            "Epoch 100/200\n",
            "1279/1279 [==============================] - 0s 138us/step - loss: 0.5390 - accuracy: 0.7912 - val_loss: 1.2107 - val_accuracy: 0.6375\n",
            "Epoch 101/200\n",
            "1279/1279 [==============================] - 0s 137us/step - loss: 0.5343 - accuracy: 0.8022 - val_loss: 1.2393 - val_accuracy: 0.6313\n",
            "Epoch 102/200\n",
            "1279/1279 [==============================] - 0s 130us/step - loss: 0.5280 - accuracy: 0.7967 - val_loss: 1.2294 - val_accuracy: 0.6344\n",
            "Epoch 103/200\n",
            "1279/1279 [==============================] - 0s 132us/step - loss: 0.5263 - accuracy: 0.8006 - val_loss: 1.2281 - val_accuracy: 0.6187\n",
            "Epoch 104/200\n",
            "1279/1279 [==============================] - 0s 162us/step - loss: 0.5225 - accuracy: 0.8014 - val_loss: 1.2211 - val_accuracy: 0.6281\n",
            "Epoch 105/200\n",
            "1279/1279 [==============================] - 0s 151us/step - loss: 0.5276 - accuracy: 0.7967 - val_loss: 1.2447 - val_accuracy: 0.6344\n",
            "Epoch 106/200\n",
            "1279/1279 [==============================] - 0s 136us/step - loss: 0.5226 - accuracy: 0.8045 - val_loss: 1.2288 - val_accuracy: 0.6250\n",
            "Epoch 107/200\n",
            "1279/1279 [==============================] - 0s 133us/step - loss: 0.5206 - accuracy: 0.7983 - val_loss: 1.2471 - val_accuracy: 0.6375\n",
            "Epoch 108/200\n",
            "1279/1279 [==============================] - 0s 151us/step - loss: 0.5159 - accuracy: 0.7967 - val_loss: 1.2333 - val_accuracy: 0.6594\n",
            "Epoch 109/200\n",
            "1279/1279 [==============================] - 0s 131us/step - loss: 0.5150 - accuracy: 0.8022 - val_loss: 1.2573 - val_accuracy: 0.6281\n",
            "Epoch 110/200\n",
            "1279/1279 [==============================] - 0s 154us/step - loss: 0.5109 - accuracy: 0.8045 - val_loss: 1.2700 - val_accuracy: 0.6406\n",
            "Epoch 111/200\n",
            "1279/1279 [==============================] - 0s 146us/step - loss: 0.5093 - accuracy: 0.7975 - val_loss: 1.2546 - val_accuracy: 0.6562\n",
            "Epoch 112/200\n",
            "1279/1279 [==============================] - 0s 144us/step - loss: 0.5084 - accuracy: 0.8069 - val_loss: 1.2791 - val_accuracy: 0.6438\n",
            "Epoch 113/200\n",
            "1279/1279 [==============================] - 0s 132us/step - loss: 0.5083 - accuracy: 0.8038 - val_loss: 1.2855 - val_accuracy: 0.6281\n",
            "Epoch 114/200\n",
            "1279/1279 [==============================] - 0s 130us/step - loss: 0.4997 - accuracy: 0.8077 - val_loss: 1.3038 - val_accuracy: 0.6375\n",
            "Epoch 115/200\n",
            "1279/1279 [==============================] - 0s 146us/step - loss: 0.4924 - accuracy: 0.8124 - val_loss: 1.2885 - val_accuracy: 0.6375\n",
            "Epoch 116/200\n",
            "1279/1279 [==============================] - 0s 149us/step - loss: 0.5001 - accuracy: 0.7991 - val_loss: 1.2945 - val_accuracy: 0.6250\n",
            "Epoch 117/200\n",
            "1279/1279 [==============================] - 0s 134us/step - loss: 0.4920 - accuracy: 0.8163 - val_loss: 1.3159 - val_accuracy: 0.6094\n",
            "Epoch 118/200\n",
            "1279/1279 [==============================] - 0s 137us/step - loss: 0.4997 - accuracy: 0.8163 - val_loss: 1.2919 - val_accuracy: 0.6406\n",
            "Epoch 119/200\n",
            "1279/1279 [==============================] - 0s 136us/step - loss: 0.4875 - accuracy: 0.8116 - val_loss: 1.3284 - val_accuracy: 0.6250\n",
            "Epoch 120/200\n",
            "1279/1279 [==============================] - 0s 135us/step - loss: 0.4861 - accuracy: 0.8092 - val_loss: 1.2914 - val_accuracy: 0.6250\n",
            "Epoch 121/200\n",
            "1279/1279 [==============================] - 0s 174us/step - loss: 0.4895 - accuracy: 0.8178 - val_loss: 1.3191 - val_accuracy: 0.6375\n",
            "Epoch 122/200\n",
            "1279/1279 [==============================] - 0s 151us/step - loss: 0.4836 - accuracy: 0.8092 - val_loss: 1.3274 - val_accuracy: 0.6406\n",
            "Epoch 123/200\n",
            "1279/1279 [==============================] - 0s 144us/step - loss: 0.4729 - accuracy: 0.8241 - val_loss: 1.3241 - val_accuracy: 0.6313\n",
            "Epoch 124/200\n",
            "1279/1279 [==============================] - 0s 136us/step - loss: 0.4727 - accuracy: 0.8194 - val_loss: 1.3273 - val_accuracy: 0.6562\n",
            "Epoch 125/200\n",
            "1279/1279 [==============================] - 0s 145us/step - loss: 0.4720 - accuracy: 0.8217 - val_loss: 1.3402 - val_accuracy: 0.6313\n",
            "Epoch 126/200\n",
            "1279/1279 [==============================] - 0s 156us/step - loss: 0.4714 - accuracy: 0.8194 - val_loss: 1.3428 - val_accuracy: 0.6438\n",
            "Epoch 127/200\n",
            "1279/1279 [==============================] - 0s 142us/step - loss: 0.4663 - accuracy: 0.8217 - val_loss: 1.3365 - val_accuracy: 0.6562\n",
            "Epoch 128/200\n",
            "1279/1279 [==============================] - 0s 150us/step - loss: 0.4730 - accuracy: 0.8131 - val_loss: 1.3787 - val_accuracy: 0.6000\n",
            "Epoch 129/200\n",
            "1279/1279 [==============================] - 0s 137us/step - loss: 0.4857 - accuracy: 0.8139 - val_loss: 1.3251 - val_accuracy: 0.6656\n",
            "Epoch 130/200\n",
            "1279/1279 [==============================] - 0s 143us/step - loss: 0.4632 - accuracy: 0.8225 - val_loss: 1.3597 - val_accuracy: 0.6313\n",
            "Epoch 131/200\n",
            "1279/1279 [==============================] - 0s 132us/step - loss: 0.4561 - accuracy: 0.8272 - val_loss: 1.3727 - val_accuracy: 0.6438\n",
            "Epoch 132/200\n",
            "1279/1279 [==============================] - 0s 150us/step - loss: 0.4611 - accuracy: 0.8264 - val_loss: 1.3732 - val_accuracy: 0.6250\n",
            "Epoch 133/200\n",
            "1279/1279 [==============================] - 0s 138us/step - loss: 0.4612 - accuracy: 0.8366 - val_loss: 1.3593 - val_accuracy: 0.6531\n",
            "Epoch 134/200\n",
            "1279/1279 [==============================] - 0s 138us/step - loss: 0.4595 - accuracy: 0.8194 - val_loss: 1.3758 - val_accuracy: 0.6469\n",
            "Epoch 135/200\n",
            "1279/1279 [==============================] - 0s 165us/step - loss: 0.4530 - accuracy: 0.8288 - val_loss: 1.3755 - val_accuracy: 0.6375\n",
            "Epoch 136/200\n",
            "1279/1279 [==============================] - 0s 143us/step - loss: 0.4487 - accuracy: 0.8358 - val_loss: 1.3667 - val_accuracy: 0.6500\n",
            "Epoch 137/200\n",
            "1279/1279 [==============================] - 0s 159us/step - loss: 0.4531 - accuracy: 0.8397 - val_loss: 1.4167 - val_accuracy: 0.6469\n",
            "Epoch 138/200\n",
            "1279/1279 [==============================] - 0s 149us/step - loss: 0.4563 - accuracy: 0.8210 - val_loss: 1.3787 - val_accuracy: 0.6406\n",
            "Epoch 139/200\n",
            "1279/1279 [==============================] - 0s 149us/step - loss: 0.4446 - accuracy: 0.8272 - val_loss: 1.3842 - val_accuracy: 0.6594\n",
            "Epoch 140/200\n",
            "1279/1279 [==============================] - 0s 134us/step - loss: 0.4364 - accuracy: 0.8413 - val_loss: 1.4722 - val_accuracy: 0.6375\n",
            "Epoch 141/200\n",
            "1279/1279 [==============================] - 0s 139us/step - loss: 0.4383 - accuracy: 0.8272 - val_loss: 1.4781 - val_accuracy: 0.6281\n",
            "Epoch 142/200\n",
            "1279/1279 [==============================] - 0s 133us/step - loss: 0.4424 - accuracy: 0.8288 - val_loss: 1.4271 - val_accuracy: 0.6406\n",
            "Epoch 143/200\n",
            "1279/1279 [==============================] - 0s 154us/step - loss: 0.4438 - accuracy: 0.8296 - val_loss: 1.4534 - val_accuracy: 0.6469\n",
            "Epoch 144/200\n",
            "1279/1279 [==============================] - 0s 152us/step - loss: 0.4419 - accuracy: 0.8358 - val_loss: 1.4299 - val_accuracy: 0.6375\n",
            "Epoch 145/200\n",
            "1279/1279 [==============================] - 0s 136us/step - loss: 0.4353 - accuracy: 0.8413 - val_loss: 1.4770 - val_accuracy: 0.6469\n",
            "Epoch 146/200\n",
            "1279/1279 [==============================] - 0s 134us/step - loss: 0.4373 - accuracy: 0.8397 - val_loss: 1.4453 - val_accuracy: 0.6531\n",
            "Epoch 147/200\n",
            "1279/1279 [==============================] - 0s 138us/step - loss: 0.4190 - accuracy: 0.8413 - val_loss: 1.4628 - val_accuracy: 0.6344\n",
            "Epoch 148/200\n",
            "1279/1279 [==============================] - 0s 168us/step - loss: 0.4272 - accuracy: 0.8405 - val_loss: 1.4864 - val_accuracy: 0.6406\n",
            "Epoch 149/200\n",
            "1279/1279 [==============================] - 0s 136us/step - loss: 0.4323 - accuracy: 0.8358 - val_loss: 1.4721 - val_accuracy: 0.6344\n",
            "Epoch 150/200\n",
            "1279/1279 [==============================] - 0s 131us/step - loss: 0.4227 - accuracy: 0.8483 - val_loss: 1.5062 - val_accuracy: 0.6344\n",
            "Epoch 151/200\n",
            "1279/1279 [==============================] - 0s 136us/step - loss: 0.4253 - accuracy: 0.8468 - val_loss: 1.4829 - val_accuracy: 0.6594\n",
            "Epoch 152/200\n",
            "1279/1279 [==============================] - 0s 132us/step - loss: 0.4165 - accuracy: 0.8475 - val_loss: 1.5193 - val_accuracy: 0.6406\n",
            "Epoch 153/200\n",
            "1279/1279 [==============================] - 0s 142us/step - loss: 0.4243 - accuracy: 0.8366 - val_loss: 1.4928 - val_accuracy: 0.6344\n",
            "Epoch 154/200\n",
            "1279/1279 [==============================] - 0s 137us/step - loss: 0.4151 - accuracy: 0.8546 - val_loss: 1.5652 - val_accuracy: 0.6406\n",
            "Epoch 155/200\n",
            "1279/1279 [==============================] - 0s 135us/step - loss: 0.4166 - accuracy: 0.8475 - val_loss: 1.4965 - val_accuracy: 0.6375\n",
            "Epoch 156/200\n",
            "1279/1279 [==============================] - 0s 151us/step - loss: 0.4114 - accuracy: 0.8405 - val_loss: 1.5501 - val_accuracy: 0.6219\n",
            "Epoch 157/200\n",
            "1279/1279 [==============================] - 0s 145us/step - loss: 0.4226 - accuracy: 0.8397 - val_loss: 1.5363 - val_accuracy: 0.6500\n",
            "Epoch 158/200\n",
            "1279/1279 [==============================] - 0s 145us/step - loss: 0.4010 - accuracy: 0.8546 - val_loss: 1.5441 - val_accuracy: 0.6406\n",
            "Epoch 159/200\n",
            "1279/1279 [==============================] - 0s 152us/step - loss: 0.4072 - accuracy: 0.8436 - val_loss: 1.5371 - val_accuracy: 0.6375\n",
            "Epoch 160/200\n",
            "1279/1279 [==============================] - 0s 133us/step - loss: 0.4128 - accuracy: 0.8428 - val_loss: 1.5929 - val_accuracy: 0.6156\n",
            "Epoch 161/200\n",
            "1279/1279 [==============================] - 0s 137us/step - loss: 0.4054 - accuracy: 0.8530 - val_loss: 1.5812 - val_accuracy: 0.6438\n",
            "Epoch 162/200\n",
            "1279/1279 [==============================] - 0s 136us/step - loss: 0.4012 - accuracy: 0.8530 - val_loss: 1.5861 - val_accuracy: 0.6313\n",
            "Epoch 163/200\n",
            "1279/1279 [==============================] - 0s 146us/step - loss: 0.4012 - accuracy: 0.8483 - val_loss: 1.5821 - val_accuracy: 0.6438\n",
            "Epoch 164/200\n",
            "1279/1279 [==============================] - 0s 167us/step - loss: 0.3961 - accuracy: 0.8491 - val_loss: 1.6346 - val_accuracy: 0.6438\n",
            "Epoch 165/200\n",
            "1279/1279 [==============================] - 0s 154us/step - loss: 0.4012 - accuracy: 0.8499 - val_loss: 1.5964 - val_accuracy: 0.6313\n",
            "Epoch 166/200\n",
            "1279/1279 [==============================] - 0s 158us/step - loss: 0.3927 - accuracy: 0.8554 - val_loss: 1.6110 - val_accuracy: 0.6281\n",
            "Epoch 167/200\n",
            "1279/1279 [==============================] - 0s 137us/step - loss: 0.3953 - accuracy: 0.8538 - val_loss: 1.6153 - val_accuracy: 0.6438\n",
            "Epoch 168/200\n",
            "1279/1279 [==============================] - 0s 150us/step - loss: 0.3932 - accuracy: 0.8569 - val_loss: 1.5763 - val_accuracy: 0.6406\n",
            "Epoch 169/200\n",
            "1279/1279 [==============================] - 0s 148us/step - loss: 0.3864 - accuracy: 0.8538 - val_loss: 1.6355 - val_accuracy: 0.6031\n",
            "Epoch 170/200\n",
            "1279/1279 [==============================] - 0s 152us/step - loss: 0.3907 - accuracy: 0.8600 - val_loss: 1.6003 - val_accuracy: 0.6313\n",
            "Epoch 171/200\n",
            "1279/1279 [==============================] - 0s 135us/step - loss: 0.3951 - accuracy: 0.8514 - val_loss: 1.6349 - val_accuracy: 0.6531\n",
            "Epoch 172/200\n",
            "1279/1279 [==============================] - 0s 142us/step - loss: 0.3947 - accuracy: 0.8561 - val_loss: 1.6416 - val_accuracy: 0.6438\n",
            "Epoch 173/200\n",
            "1279/1279 [==============================] - 0s 135us/step - loss: 0.3834 - accuracy: 0.8507 - val_loss: 1.6769 - val_accuracy: 0.6375\n",
            "Epoch 174/200\n",
            "1279/1279 [==============================] - 0s 139us/step - loss: 0.3762 - accuracy: 0.8624 - val_loss: 1.6768 - val_accuracy: 0.6250\n",
            "Epoch 175/200\n",
            "1279/1279 [==============================] - 0s 171us/step - loss: 0.3894 - accuracy: 0.8577 - val_loss: 1.6800 - val_accuracy: 0.6344\n",
            "Epoch 176/200\n",
            "1279/1279 [==============================] - 0s 145us/step - loss: 0.3832 - accuracy: 0.8608 - val_loss: 1.6905 - val_accuracy: 0.6187\n",
            "Epoch 177/200\n",
            "1279/1279 [==============================] - 0s 141us/step - loss: 0.3744 - accuracy: 0.8640 - val_loss: 1.6634 - val_accuracy: 0.6406\n",
            "Epoch 178/200\n",
            "1279/1279 [==============================] - 0s 132us/step - loss: 0.3763 - accuracy: 0.8694 - val_loss: 1.6862 - val_accuracy: 0.6406\n",
            "Epoch 179/200\n",
            "1279/1279 [==============================] - 0s 134us/step - loss: 0.3756 - accuracy: 0.8647 - val_loss: 1.6940 - val_accuracy: 0.6406\n",
            "Epoch 180/200\n",
            "1279/1279 [==============================] - 0s 154us/step - loss: 0.3674 - accuracy: 0.8733 - val_loss: 1.6972 - val_accuracy: 0.6531\n",
            "Epoch 181/200\n",
            "1279/1279 [==============================] - 0s 149us/step - loss: 0.3746 - accuracy: 0.8624 - val_loss: 1.6870 - val_accuracy: 0.6344\n",
            "Epoch 182/200\n",
            "1279/1279 [==============================] - 0s 146us/step - loss: 0.3701 - accuracy: 0.8647 - val_loss: 1.7337 - val_accuracy: 0.6313\n",
            "Epoch 183/200\n",
            "1279/1279 [==============================] - 0s 138us/step - loss: 0.3635 - accuracy: 0.8726 - val_loss: 1.7631 - val_accuracy: 0.6219\n",
            "Epoch 184/200\n",
            "1279/1279 [==============================] - 0s 134us/step - loss: 0.3777 - accuracy: 0.8632 - val_loss: 1.7514 - val_accuracy: 0.6281\n",
            "Epoch 185/200\n",
            "1279/1279 [==============================] - 0s 135us/step - loss: 0.3698 - accuracy: 0.8694 - val_loss: 1.7532 - val_accuracy: 0.6406\n",
            "Epoch 186/200\n",
            "1279/1279 [==============================] - 0s 155us/step - loss: 0.3611 - accuracy: 0.8616 - val_loss: 1.7366 - val_accuracy: 0.6219\n",
            "Epoch 187/200\n",
            "1279/1279 [==============================] - 0s 147us/step - loss: 0.3551 - accuracy: 0.8741 - val_loss: 1.7517 - val_accuracy: 0.6406\n",
            "Epoch 188/200\n",
            "1279/1279 [==============================] - 0s 143us/step - loss: 0.3562 - accuracy: 0.8686 - val_loss: 1.7537 - val_accuracy: 0.6406\n",
            "Epoch 189/200\n",
            "1279/1279 [==============================] - 0s 133us/step - loss: 0.3584 - accuracy: 0.8694 - val_loss: 1.7969 - val_accuracy: 0.6406\n",
            "Epoch 190/200\n",
            "1279/1279 [==============================] - 0s 155us/step - loss: 0.3647 - accuracy: 0.8663 - val_loss: 1.7827 - val_accuracy: 0.6062\n",
            "Epoch 191/200\n",
            "1279/1279 [==============================] - 0s 163us/step - loss: 0.3574 - accuracy: 0.8694 - val_loss: 1.8032 - val_accuracy: 0.6500\n",
            "Epoch 192/200\n",
            "1279/1279 [==============================] - 0s 149us/step - loss: 0.3548 - accuracy: 0.8772 - val_loss: 1.8153 - val_accuracy: 0.6344\n",
            "Epoch 193/200\n",
            "1279/1279 [==============================] - 0s 138us/step - loss: 0.3529 - accuracy: 0.8726 - val_loss: 1.8240 - val_accuracy: 0.6406\n",
            "Epoch 194/200\n",
            "1279/1279 [==============================] - 0s 137us/step - loss: 0.3424 - accuracy: 0.8702 - val_loss: 1.7942 - val_accuracy: 0.6438\n",
            "Epoch 195/200\n",
            "1279/1279 [==============================] - 0s 137us/step - loss: 0.3417 - accuracy: 0.8718 - val_loss: 1.8607 - val_accuracy: 0.6219\n",
            "Epoch 196/200\n",
            "1279/1279 [==============================] - 0s 147us/step - loss: 0.3460 - accuracy: 0.8710 - val_loss: 1.8476 - val_accuracy: 0.6250\n",
            "Epoch 197/200\n",
            "1279/1279 [==============================] - 0s 141us/step - loss: 0.3412 - accuracy: 0.8796 - val_loss: 1.8932 - val_accuracy: 0.6281\n",
            "Epoch 198/200\n",
            "1279/1279 [==============================] - 0s 150us/step - loss: 0.3484 - accuracy: 0.8655 - val_loss: 1.8415 - val_accuracy: 0.6344\n",
            "Epoch 199/200\n",
            "1279/1279 [==============================] - 0s 137us/step - loss: 0.3368 - accuracy: 0.8804 - val_loss: 1.8294 - val_accuracy: 0.6125\n",
            "Epoch 200/200\n",
            "1279/1279 [==============================] - 0s 132us/step - loss: 0.3448 - accuracy: 0.8780 - val_loss: 1.8974 - val_accuracy: 0.6281\n"
          ],
          "name": "stdout"
        }
      ]
    },
    {
      "cell_type": "markdown",
      "metadata": {
        "id": "CeUET_upS8vc",
        "colab_type": "text"
      },
      "source": [
        "학습과정 그리기"
      ]
    },
    {
      "cell_type": "code",
      "metadata": {
        "id": "B29WTO9HS-gI",
        "colab_type": "code",
        "colab": {
          "base_uri": "https://localhost:8080/",
          "height": 350
        },
        "outputId": "bf578a75-77a2-4dba-91f6-346717ffe3f4"
      },
      "source": [
        "import matplotlib.pyplot as plt\n",
        "\n",
        "his_dict = history.history\n",
        "loss = his_dict['loss']\n",
        "val_loss = his_dict['val_loss'] # 검증 데이터가 있는 경우 ‘val_’ 수식어가 붙습니다.\n",
        "\n",
        "epochs = range(1, len(loss) + 1)\n",
        "fig = plt.figure(figsize = (10, 5))\n",
        "\n",
        "# 훈련 및 검증 손실 그리기\n",
        "ax1 = fig.add_subplot(1, 2, 1)\n",
        "ax1.plot(epochs, loss, color = 'blue', label = 'train_loss')\n",
        "ax1.plot(epochs, val_loss, color = 'orange', label = 'val_loss')\n",
        "ax1.set_title('train and val loss')\n",
        "ax1.set_xlabel('epochs')\n",
        "ax1.set_ylabel('loss')\n",
        "ax1.legend()\n",
        "\n",
        "acc = his_dict['accuracy']\n",
        "val_acc = his_dict['val_accuracy']\n",
        "\n",
        "# 훈련 및 검증 정확도 그리기\n",
        "ax2 = fig.add_subplot(1, 2, 2)\n",
        "ax2.plot(epochs, acc, color = 'blue', label = 'train_acc')\n",
        "ax2.plot(epochs, val_acc, color = 'orange', label = 'val_acc')\n",
        "ax2.set_title('train and val acc')\n",
        "ax2.set_xlabel('epochs')\n",
        "ax2.set_ylabel('acc')\n",
        "ax2.legend()\n",
        "\n",
        "plt.show()"
      ],
      "execution_count": null,
      "outputs": [
        {
          "output_type": "display_data",
          "data": {
            "image/png": "[encoded data removed]",
            "text/plain": [
              "<Figure size 720x360 with 2 Axes>"
            ]
          },
          "metadata": {
            "tags": [],
            "needs_background": "light"
          }
        }
      ]
    },
    {
      "cell_type": "markdown",
      "metadata": {
        "id": "eKQKevCuTFJ1",
        "colab_type": "text"
      },
      "source": [
        "모델 평가하기"
      ]
    },
    {
      "cell_type": "code",
      "metadata": {
        "id": "iD4ocZXqTFt4",
        "colab_type": "code",
        "colab": {
          "base_uri": "https://localhost:8080/",
          "height": 52
        },
        "outputId": "3208432b-535a-46be-e26a-2d51e9f6aae5"
      },
      "source": [
        "scores = model.evaluate(x_test, y_test)\n",
        "print(\"%s: %.2f%%\" %(model.metrics_names[1], scores[1]*100))"
      ],
      "execution_count": null,
      "outputs": [
        {
          "output_type": "stream",
          "text": [
            "320/320 [==============================] - 0s 45us/step\n",
            "accuracy: 62.81%\n"
          ],
          "name": "stdout"
        }
      ]
    },
    {
      "cell_type": "code",
      "metadata": {
        "id": "e8DPxAqdV5XB",
        "colab_type": "code",
        "colab": {
          "base_uri": "https://localhost:8080/",
          "height": 52
        },
        "outputId": "5684ddf4-d83a-4710-b78e-fa861249a44d"
      },
      "source": [
        "model.evaluate(x_test, y_test)"
      ],
      "execution_count": null,
      "outputs": [
        {
          "output_type": "stream",
          "text": [
            "320/320 [==============================] - 0s 61us/step\n"
          ],
          "name": "stdout"
        },
        {
          "output_type": "execute_result",
          "data": {
            "text/plain": [
              "[1.8973767399787902, 0.628125011920929]"
            ]
          },
          "metadata": {
            "tags": []
          },
          "execution_count": 17
        }
      ]
    }
  ]
}