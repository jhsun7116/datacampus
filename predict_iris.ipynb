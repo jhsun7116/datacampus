{
  "nbformat": 4,
  "nbformat_minor": 0,
  "metadata": {
    "colab": {
      "name": "0727_03_predict_iris.ipynb",
      "provenance": [],
      "collapsed_sections": []
    },
    "kernelspec": {
      "name": "python3",
      "display_name": "Python 3"
    }
  },
  "cells": [
    {
      "cell_type": "code",
      "metadata": {
        "id": "vec_cArRxn9Q",
        "colab_type": "code",
        "colab": {
          "base_uri": "https://localhost:8080/",
          "height": 71
        },
        "outputId": "47cef796-b82e-412a-aa83-f5421fc3121e"
      },
      "source": [
        "import pathlib\n",
        "\n",
        "import matplotlib.pyplot as plt\n",
        "import pandas as pd\n",
        "import numpy as np\n",
        "import seaborn as sns\n",
        "\n",
        "import tensorflow as tf\n",
        "import keras\n",
        "from keras.models import Sequential\n",
        "from keras.layers.core import Dense"
      ],
      "execution_count": null,
      "outputs": [
        {
          "output_type": "stream",
          "text": [
            "/usr/local/lib/python3.6/dist-packages/statsmodels/tools/_testing.py:19: FutureWarning: pandas.util.testing is deprecated. Use the functions in the public API at pandas.testing instead.\n",
            "  import pandas.util.testing as tm\n",
            "Using TensorFlow backend.\n"
          ],
          "name": "stderr"
        }
      ]
    },
    {
      "cell_type": "markdown",
      "metadata": {
        "id": "xnqdj9XRy35A",
        "colab_type": "text"
      },
      "source": [
        "데이터 준비하기"
      ]
    },
    {
      "cell_type": "code",
      "metadata": {
        "id": "-t68HXmYy4-o",
        "colab_type": "code",
        "colab": {
          "base_uri": "https://localhost:8080/",
          "height": 35
        },
        "outputId": "4bff35c6-7871-4320-be37-d14fc295b959"
      },
      "source": [
        "dataset_path = keras.utils.get_file(\"iris.data\", \"https://archive.ics.uci.edu/ml/machine-learning-databases/iris/iris.data\")\n",
        "dataset_path"
      ],
      "execution_count": null,
      "outputs": [
        {
          "output_type": "execute_result",
          "data": {
            "application/vnd.google.colaboratory.intrinsic+json": {
              "type": "string"
            },
            "text/plain": [
              "'/root/.keras/datasets/iris.data'"
            ]
          },
          "metadata": {
            "tags": []
          },
          "execution_count": 19
        }
      ]
    },
    {
      "cell_type": "markdown",
      "metadata": {
        "id": "W_1E_mk7zQI2",
        "colab_type": "text"
      },
      "source": [
        "데이터 확인하기 (외부에서 데이터를 받았을 경우 필수적인 부분)"
      ]
    },
    {
      "cell_type": "code",
      "metadata": {
        "id": "CcsLJSFlzRt_",
        "colab_type": "code",
        "colab": {
          "base_uri": "https://localhost:8080/",
          "height": 204
        },
        "outputId": "30d63d9c-da89-4168-b369-4b5e82193255"
      },
      "source": [
        "column_names = ['sepal length in cm','sepal width in cm','petal length in cm','petal width in cm','class']\n",
        "raw_dataset = pd.read_csv(dataset_path, names=column_names,\n",
        "                      na_values = \"?\", comment='\\t',\n",
        "                      sep=\",\", skipinitialspace=True)\n",
        "\n",
        "dataset = raw_dataset.copy()\n",
        "dataset.tail()"
      ],
      "execution_count": null,
      "outputs": [
        {
          "output_type": "execute_result",
          "data": {
            "text/html": [
              "<div>\n",
              "<style scoped>\n",
              "    .dataframe tbody tr th:only-of-type {\n",
              "        vertical-align: middle;\n",
              "    }\n",
              "\n",
              "    .dataframe tbody tr th {\n",
              "        vertical-align: top;\n",
              "    }\n",
              "\n",
              "    .dataframe thead th {\n",
              "        text-align: right;\n",
              "    }\n",
              "</style>\n",
              "<table border=\"1\" class=\"dataframe\">\n",
              "  <thead>\n",
              "    <tr style=\"text-align: right;\">\n",
              "      <th></th>\n",
              "      <th>sepal length in cm</th>\n",
              "      <th>sepal width in cm</th>\n",
              "      <th>petal length in cm</th>\n",
              "      <th>petal width in cm</th>\n",
              "      <th>class</th>\n",
              "    </tr>\n",
              "  </thead>\n",
              "  <tbody>\n",
              "    <tr>\n",
              "      <th>145</th>\n",
              "      <td>6.7</td>\n",
              "      <td>3.0</td>\n",
              "      <td>5.2</td>\n",
              "      <td>2.3</td>\n",
              "      <td>Iris-virginica</td>\n",
              "    </tr>\n",
              "    <tr>\n",
              "      <th>146</th>\n",
              "      <td>6.3</td>\n",
              "      <td>2.5</td>\n",
              "      <td>5.0</td>\n",
              "      <td>1.9</td>\n",
              "      <td>Iris-virginica</td>\n",
              "    </tr>\n",
              "    <tr>\n",
              "      <th>147</th>\n",
              "      <td>6.5</td>\n",
              "      <td>3.0</td>\n",
              "      <td>5.2</td>\n",
              "      <td>2.0</td>\n",
              "      <td>Iris-virginica</td>\n",
              "    </tr>\n",
              "    <tr>\n",
              "      <th>148</th>\n",
              "      <td>6.2</td>\n",
              "      <td>3.4</td>\n",
              "      <td>5.4</td>\n",
              "      <td>2.3</td>\n",
              "      <td>Iris-virginica</td>\n",
              "    </tr>\n",
              "    <tr>\n",
              "      <th>149</th>\n",
              "      <td>5.9</td>\n",
              "      <td>3.0</td>\n",
              "      <td>5.1</td>\n",
              "      <td>1.8</td>\n",
              "      <td>Iris-virginica</td>\n",
              "    </tr>\n",
              "  </tbody>\n",
              "</table>\n",
              "</div>"
            ],
            "text/plain": [
              "     sepal length in cm  sepal width in cm  ...  petal width in cm           class\n",
              "145                 6.7                3.0  ...                2.3  Iris-virginica\n",
              "146                 6.3                2.5  ...                1.9  Iris-virginica\n",
              "147                 6.5                3.0  ...                2.0  Iris-virginica\n",
              "148                 6.2                3.4  ...                2.3  Iris-virginica\n",
              "149                 5.9                3.0  ...                1.8  Iris-virginica\n",
              "\n",
              "[5 rows x 5 columns]"
            ]
          },
          "metadata": {
            "tags": []
          },
          "execution_count": 4
        }
      ]
    },
    {
      "cell_type": "markdown",
      "metadata": {
        "id": "_M_MsKlI4iod",
        "colab_type": "text"
      },
      "source": [
        "데이터셋 생성하기 - 입력(속성값 4개)와 출력(판정결과 1개) 변수로 분리"
      ]
    },
    {
      "cell_type": "code",
      "metadata": {
        "id": "lA_ryJ784jp1",
        "colab_type": "code",
        "colab": {
          "base_uri": "https://localhost:8080/",
          "height": 35
        },
        "outputId": "ae17f6f3-740e-4527-9800-86cb7f20d4b5"
      },
      "source": [
        "X = dataset.iloc[:, 0:4]\n",
        "y = dataset.iloc[:, 4]\n",
        "\n",
        "print(set(y))"
      ],
      "execution_count": null,
      "outputs": [
        {
          "output_type": "stream",
          "text": [
            "{'Iris-virginica', 'Iris-versicolor', 'Iris-setosa'}\n"
          ],
          "name": "stdout"
        }
      ]
    },
    {
      "cell_type": "markdown",
      "metadata": {
        "id": "zAWXJh8K5BoP",
        "colab_type": "text"
      },
      "source": [
        "레이블을 범주형 형태로 변경"
      ]
    },
    {
      "cell_type": "code",
      "metadata": {
        "id": "k5xLch8R5FPp",
        "colab_type": "code",
        "colab": {
          "base_uri": "https://localhost:8080/",
          "height": 107
        },
        "outputId": "99358e34-d378-4454-a13e-16030942b121"
      },
      "source": [
        "from sklearn.preprocessing import LabelEncoder\n",
        "from keras.utils import np_utils\n",
        "\n",
        "encoder = LabelEncoder()\n",
        "encoder.fit(y)\n",
        "Y_encodered = encoder.transform(y)\n",
        "\n",
        "print(Y_encodered)\n",
        "\n",
        "Y = np_utils.to_categorical(Y_encodered)"
      ],
      "execution_count": null,
      "outputs": [
        {
          "output_type": "stream",
          "text": [
            "[0 0 0 0 0 0 0 0 0 0 0 0 0 0 0 0 0 0 0 0 0 0 0 0 0 0 0 0 0 0 0 0 0 0 0 0 0\n",
            " 0 0 0 0 0 0 0 0 0 0 0 0 0 1 1 1 1 1 1 1 1 1 1 1 1 1 1 1 1 1 1 1 1 1 1 1 1\n",
            " 1 1 1 1 1 1 1 1 1 1 1 1 1 1 1 1 1 1 1 1 1 1 1 1 1 1 2 2 2 2 2 2 2 2 2 2 2\n",
            " 2 2 2 2 2 2 2 2 2 2 2 2 2 2 2 2 2 2 2 2 2 2 2 2 2 2 2 2 2 2 2 2 2 2 2 2 2\n",
            " 2 2]\n"
          ],
          "name": "stdout"
        }
      ]
    },
    {
      "cell_type": "code",
      "metadata": {
        "id": "w4ugR3t25RzH",
        "colab_type": "code",
        "colab": {
          "base_uri": "https://localhost:8080/",
          "height": 1000
        },
        "outputId": "05f6f601-d639-4801-b1bc-e5dba28271e5"
      },
      "source": [
        "print(Y)"
      ],
      "execution_count": null,
      "outputs": [
        {
          "output_type": "stream",
          "text": [
            "[[1. 0. 0.]\n",
            " [1. 0. 0.]\n",
            " [1. 0. 0.]\n",
            " [1. 0. 0.]\n",
            " [1. 0. 0.]\n",
            " [1. 0. 0.]\n",
            " [1. 0. 0.]\n",
            " [1. 0. 0.]\n",
            " [1. 0. 0.]\n",
            " [1. 0. 0.]\n",
            " [1. 0. 0.]\n",
            " [1. 0. 0.]\n",
            " [1. 0. 0.]\n",
            " [1. 0. 0.]\n",
            " [1. 0. 0.]\n",
            " [1. 0. 0.]\n",
            " [1. 0. 0.]\n",
            " [1. 0. 0.]\n",
            " [1. 0. 0.]\n",
            " [1. 0. 0.]\n",
            " [1. 0. 0.]\n",
            " [1. 0. 0.]\n",
            " [1. 0. 0.]\n",
            " [1. 0. 0.]\n",
            " [1. 0. 0.]\n",
            " [1. 0. 0.]\n",
            " [1. 0. 0.]\n",
            " [1. 0. 0.]\n",
            " [1. 0. 0.]\n",
            " [1. 0. 0.]\n",
            " [1. 0. 0.]\n",
            " [1. 0. 0.]\n",
            " [1. 0. 0.]\n",
            " [1. 0. 0.]\n",
            " [1. 0. 0.]\n",
            " [1. 0. 0.]\n",
            " [1. 0. 0.]\n",
            " [1. 0. 0.]\n",
            " [1. 0. 0.]\n",
            " [1. 0. 0.]\n",
            " [1. 0. 0.]\n",
            " [1. 0. 0.]\n",
            " [1. 0. 0.]\n",
            " [1. 0. 0.]\n",
            " [1. 0. 0.]\n",
            " [1. 0. 0.]\n",
            " [1. 0. 0.]\n",
            " [1. 0. 0.]\n",
            " [1. 0. 0.]\n",
            " [1. 0. 0.]\n",
            " [0. 1. 0.]\n",
            " [0. 1. 0.]\n",
            " [0. 1. 0.]\n",
            " [0. 1. 0.]\n",
            " [0. 1. 0.]\n",
            " [0. 1. 0.]\n",
            " [0. 1. 0.]\n",
            " [0. 1. 0.]\n",
            " [0. 1. 0.]\n",
            " [0. 1. 0.]\n",
            " [0. 1. 0.]\n",
            " [0. 1. 0.]\n",
            " [0. 1. 0.]\n",
            " [0. 1. 0.]\n",
            " [0. 1. 0.]\n",
            " [0. 1. 0.]\n",
            " [0. 1. 0.]\n",
            " [0. 1. 0.]\n",
            " [0. 1. 0.]\n",
            " [0. 1. 0.]\n",
            " [0. 1. 0.]\n",
            " [0. 1. 0.]\n",
            " [0. 1. 0.]\n",
            " [0. 1. 0.]\n",
            " [0. 1. 0.]\n",
            " [0. 1. 0.]\n",
            " [0. 1. 0.]\n",
            " [0. 1. 0.]\n",
            " [0. 1. 0.]\n",
            " [0. 1. 0.]\n",
            " [0. 1. 0.]\n",
            " [0. 1. 0.]\n",
            " [0. 1. 0.]\n",
            " [0. 1. 0.]\n",
            " [0. 1. 0.]\n",
            " [0. 1. 0.]\n",
            " [0. 1. 0.]\n",
            " [0. 1. 0.]\n",
            " [0. 1. 0.]\n",
            " [0. 1. 0.]\n",
            " [0. 1. 0.]\n",
            " [0. 1. 0.]\n",
            " [0. 1. 0.]\n",
            " [0. 1. 0.]\n",
            " [0. 1. 0.]\n",
            " [0. 1. 0.]\n",
            " [0. 1. 0.]\n",
            " [0. 1. 0.]\n",
            " [0. 1. 0.]\n",
            " [0. 1. 0.]\n",
            " [0. 0. 1.]\n",
            " [0. 0. 1.]\n",
            " [0. 0. 1.]\n",
            " [0. 0. 1.]\n",
            " [0. 0. 1.]\n",
            " [0. 0. 1.]\n",
            " [0. 0. 1.]\n",
            " [0. 0. 1.]\n",
            " [0. 0. 1.]\n",
            " [0. 0. 1.]\n",
            " [0. 0. 1.]\n",
            " [0. 0. 1.]\n",
            " [0. 0. 1.]\n",
            " [0. 0. 1.]\n",
            " [0. 0. 1.]\n",
            " [0. 0. 1.]\n",
            " [0. 0. 1.]\n",
            " [0. 0. 1.]\n",
            " [0. 0. 1.]\n",
            " [0. 0. 1.]\n",
            " [0. 0. 1.]\n",
            " [0. 0. 1.]\n",
            " [0. 0. 1.]\n",
            " [0. 0. 1.]\n",
            " [0. 0. 1.]\n",
            " [0. 0. 1.]\n",
            " [0. 0. 1.]\n",
            " [0. 0. 1.]\n",
            " [0. 0. 1.]\n",
            " [0. 0. 1.]\n",
            " [0. 0. 1.]\n",
            " [0. 0. 1.]\n",
            " [0. 0. 1.]\n",
            " [0. 0. 1.]\n",
            " [0. 0. 1.]\n",
            " [0. 0. 1.]\n",
            " [0. 0. 1.]\n",
            " [0. 0. 1.]\n",
            " [0. 0. 1.]\n",
            " [0. 0. 1.]\n",
            " [0. 0. 1.]\n",
            " [0. 0. 1.]\n",
            " [0. 0. 1.]\n",
            " [0. 0. 1.]\n",
            " [0. 0. 1.]\n",
            " [0. 0. 1.]\n",
            " [0. 0. 1.]\n",
            " [0. 0. 1.]\n",
            " [0. 0. 1.]\n",
            " [0. 0. 1.]]\n"
          ],
          "name": "stdout"
        }
      ]
    },
    {
      "cell_type": "markdown",
      "metadata": {
        "id": "-ISZE1lv5dt8",
        "colab_type": "text"
      },
      "source": [
        "학습/데이터 8:2 비율로 분리하기"
      ]
    },
    {
      "cell_type": "code",
      "metadata": {
        "id": "7o7rLFsw5fDg",
        "colab_type": "code",
        "colab": {
          "base_uri": "https://localhost:8080/",
          "height": 53
        },
        "outputId": "4867c5c6-e355-4ea9-937d-b13105f5570e"
      },
      "source": [
        "from sklearn.model_selection import train_test_split\n",
        "\n",
        "X_train, X_test, y_train, y_test = train_test_split(X, Y, test_size=0.2)\n",
        "\n",
        "print(X_train.shape)\n",
        "print(y_train.shape)"
      ],
      "execution_count": null,
      "outputs": [
        {
          "output_type": "stream",
          "text": [
            "(120, 4)\n",
            "(120, 3)\n"
          ],
          "name": "stdout"
        }
      ]
    },
    {
      "cell_type": "markdown",
      "metadata": {
        "id": "zz4EJhVQ5ukQ",
        "colab_type": "text"
      },
      "source": [
        "모델 구성하기"
      ]
    },
    {
      "cell_type": "code",
      "metadata": {
        "id": "UJ975Auw51A5",
        "colab_type": "code",
        "colab": {}
      },
      "source": [
        "model = Sequential()\n",
        "\n",
        "model.add(Dense(16, input_shape=(4,), activation='relu'))\n",
        "model.add(Dense(3, activation='softmax')) # 다중분류니까 소프트맥스를 사용"
      ],
      "execution_count": null,
      "outputs": []
    },
    {
      "cell_type": "markdown",
      "metadata": {
        "id": "4vodu2ua6qHk",
        "colab_type": "text"
      },
      "source": [
        "모델 설정하기"
      ]
    },
    {
      "cell_type": "code",
      "metadata": {
        "id": "2oiZwJqA6qzT",
        "colab_type": "code",
        "colab": {}
      },
      "source": [
        "model.compile(loss='categorical_crossentropy', optimizer='adam',\n",
        "              metrics=['accuracy'])"
      ],
      "execution_count": null,
      "outputs": []
    },
    {
      "cell_type": "markdown",
      "metadata": {
        "id": "68Nomt886yMw",
        "colab_type": "text"
      },
      "source": [
        "모델 학습하기"
      ]
    },
    {
      "cell_type": "code",
      "metadata": {
        "id": "VQf1ll9v60v_",
        "colab_type": "code",
        "colab": {
          "base_uri": "https://localhost:8080/",
          "height": 1000
        },
        "outputId": "f7861d63-3093-492f-fe0a-8c829c78ae0c"
      },
      "source": [
        "history = model.fit(X_train, y_train,\n",
        "                    epochs=200, \n",
        "                    batch_size=10,\n",
        "                    validation_data = (X_test, y_test))"
      ],
      "execution_count": null,
      "outputs": [
        {
          "output_type": "stream",
          "text": [
            "Train on 120 samples, validate on 30 samples\n",
            "Epoch 1/200\n",
            "120/120 [==============================] - 0s 629us/step - loss: 2.2339 - accuracy: 0.3583 - val_loss: 2.3727 - val_accuracy: 0.2333\n",
            "Epoch 2/200\n",
            "120/120 [==============================] - 0s 139us/step - loss: 1.9708 - accuracy: 0.3583 - val_loss: 2.0899 - val_accuracy: 0.2333\n",
            "Epoch 3/200\n",
            "120/120 [==============================] - 0s 136us/step - loss: 1.7710 - accuracy: 0.3667 - val_loss: 1.8549 - val_accuracy: 0.2333\n",
            "Epoch 4/200\n",
            "120/120 [==============================] - 0s 132us/step - loss: 1.5864 - accuracy: 0.4000 - val_loss: 1.6692 - val_accuracy: 0.2667\n",
            "Epoch 5/200\n",
            "120/120 [==============================] - 0s 144us/step - loss: 1.4337 - accuracy: 0.5083 - val_loss: 1.5092 - val_accuracy: 0.3333\n",
            "Epoch 6/200\n",
            "120/120 [==============================] - 0s 145us/step - loss: 1.2893 - accuracy: 0.5333 - val_loss: 1.3732 - val_accuracy: 0.3333\n",
            "Epoch 7/200\n",
            "120/120 [==============================] - 0s 136us/step - loss: 1.1731 - accuracy: 0.5333 - val_loss: 1.2384 - val_accuracy: 0.4000\n",
            "Epoch 8/200\n",
            "120/120 [==============================] - 0s 147us/step - loss: 1.0634 - accuracy: 0.5500 - val_loss: 1.1382 - val_accuracy: 0.4000\n",
            "Epoch 9/200\n",
            "120/120 [==============================] - 0s 137us/step - loss: 0.9850 - accuracy: 0.5500 - val_loss: 1.0584 - val_accuracy: 0.4000\n",
            "Epoch 10/200\n",
            "120/120 [==============================] - 0s 138us/step - loss: 0.9244 - accuracy: 0.5500 - val_loss: 1.0063 - val_accuracy: 0.3333\n",
            "Epoch 11/200\n",
            "120/120 [==============================] - 0s 159us/step - loss: 0.8759 - accuracy: 0.5333 - val_loss: 0.9628 - val_accuracy: 0.3333\n",
            "Epoch 12/200\n",
            "120/120 [==============================] - 0s 145us/step - loss: 0.8410 - accuracy: 0.5167 - val_loss: 0.9327 - val_accuracy: 0.3000\n",
            "Epoch 13/200\n",
            "120/120 [==============================] - 0s 132us/step - loss: 0.8108 - accuracy: 0.5000 - val_loss: 0.8948 - val_accuracy: 0.3000\n",
            "Epoch 14/200\n",
            "120/120 [==============================] - 0s 145us/step - loss: 0.7815 - accuracy: 0.4833 - val_loss: 0.8759 - val_accuracy: 0.2667\n",
            "Epoch 15/200\n",
            "120/120 [==============================] - 0s 153us/step - loss: 0.7566 - accuracy: 0.4917 - val_loss: 0.8527 - val_accuracy: 0.3333\n",
            "Epoch 16/200\n",
            "120/120 [==============================] - 0s 134us/step - loss: 0.7357 - accuracy: 0.6250 - val_loss: 0.8313 - val_accuracy: 0.6000\n",
            "Epoch 17/200\n",
            "120/120 [==============================] - 0s 131us/step - loss: 0.7169 - accuracy: 0.8000 - val_loss: 0.8074 - val_accuracy: 0.6333\n",
            "Epoch 18/200\n",
            "120/120 [==============================] - 0s 143us/step - loss: 0.6993 - accuracy: 0.8000 - val_loss: 0.7938 - val_accuracy: 0.6333\n",
            "Epoch 19/200\n",
            "120/120 [==============================] - 0s 143us/step - loss: 0.6811 - accuracy: 0.7833 - val_loss: 0.7795 - val_accuracy: 0.6333\n",
            "Epoch 20/200\n",
            "120/120 [==============================] - 0s 132us/step - loss: 0.6658 - accuracy: 0.7917 - val_loss: 0.7611 - val_accuracy: 0.6333\n",
            "Epoch 21/200\n",
            "120/120 [==============================] - 0s 140us/step - loss: 0.6514 - accuracy: 0.8167 - val_loss: 0.7445 - val_accuracy: 0.6667\n",
            "Epoch 22/200\n",
            "120/120 [==============================] - 0s 142us/step - loss: 0.6378 - accuracy: 0.8250 - val_loss: 0.7332 - val_accuracy: 0.6667\n",
            "Epoch 23/200\n",
            "120/120 [==============================] - 0s 150us/step - loss: 0.6244 - accuracy: 0.8333 - val_loss: 0.7151 - val_accuracy: 0.6667\n",
            "Epoch 24/200\n",
            "120/120 [==============================] - 0s 142us/step - loss: 0.6117 - accuracy: 0.8500 - val_loss: 0.7012 - val_accuracy: 0.6667\n",
            "Epoch 25/200\n",
            "120/120 [==============================] - 0s 141us/step - loss: 0.6005 - accuracy: 0.8583 - val_loss: 0.6844 - val_accuracy: 0.7333\n",
            "Epoch 26/200\n",
            "120/120 [==============================] - 0s 138us/step - loss: 0.5880 - accuracy: 0.8583 - val_loss: 0.6735 - val_accuracy: 0.7333\n",
            "Epoch 27/200\n",
            "120/120 [==============================] - 0s 155us/step - loss: 0.5760 - accuracy: 0.8583 - val_loss: 0.6670 - val_accuracy: 0.7000\n",
            "Epoch 28/200\n",
            "120/120 [==============================] - 0s 157us/step - loss: 0.5658 - accuracy: 0.8583 - val_loss: 0.6537 - val_accuracy: 0.7333\n",
            "Epoch 29/200\n",
            "120/120 [==============================] - 0s 140us/step - loss: 0.5550 - accuracy: 0.8583 - val_loss: 0.6377 - val_accuracy: 0.7667\n",
            "Epoch 30/200\n",
            "120/120 [==============================] - 0s 134us/step - loss: 0.5446 - accuracy: 0.8750 - val_loss: 0.6281 - val_accuracy: 0.7667\n",
            "Epoch 31/200\n",
            "120/120 [==============================] - 0s 134us/step - loss: 0.5340 - accuracy: 0.8750 - val_loss: 0.6199 - val_accuracy: 0.7667\n",
            "Epoch 32/200\n",
            "120/120 [==============================] - 0s 157us/step - loss: 0.5251 - accuracy: 0.8750 - val_loss: 0.6039 - val_accuracy: 0.8000\n",
            "Epoch 33/200\n",
            "120/120 [==============================] - 0s 131us/step - loss: 0.5154 - accuracy: 0.8833 - val_loss: 0.5990 - val_accuracy: 0.8000\n",
            "Epoch 34/200\n",
            "120/120 [==============================] - 0s 131us/step - loss: 0.5082 - accuracy: 0.8917 - val_loss: 0.5807 - val_accuracy: 0.8000\n",
            "Epoch 35/200\n",
            "120/120 [==============================] - 0s 129us/step - loss: 0.4986 - accuracy: 0.8833 - val_loss: 0.5870 - val_accuracy: 0.7667\n",
            "Epoch 36/200\n",
            "120/120 [==============================] - 0s 143us/step - loss: 0.4890 - accuracy: 0.8750 - val_loss: 0.5689 - val_accuracy: 0.8000\n",
            "Epoch 37/200\n",
            "120/120 [==============================] - 0s 176us/step - loss: 0.4805 - accuracy: 0.9000 - val_loss: 0.5514 - val_accuracy: 0.8333\n",
            "Epoch 38/200\n",
            "120/120 [==============================] - 0s 137us/step - loss: 0.4736 - accuracy: 0.9083 - val_loss: 0.5525 - val_accuracy: 0.8000\n",
            "Epoch 39/200\n",
            "120/120 [==============================] - 0s 155us/step - loss: 0.4652 - accuracy: 0.9000 - val_loss: 0.5399 - val_accuracy: 0.8333\n",
            "Epoch 40/200\n",
            "120/120 [==============================] - 0s 175us/step - loss: 0.4568 - accuracy: 0.9083 - val_loss: 0.5338 - val_accuracy: 0.8333\n",
            "Epoch 41/200\n",
            "120/120 [==============================] - 0s 132us/step - loss: 0.4502 - accuracy: 0.9083 - val_loss: 0.5209 - val_accuracy: 0.8333\n",
            "Epoch 42/200\n",
            "120/120 [==============================] - 0s 144us/step - loss: 0.4428 - accuracy: 0.9167 - val_loss: 0.5134 - val_accuracy: 0.8333\n",
            "Epoch 43/200\n",
            "120/120 [==============================] - 0s 147us/step - loss: 0.4353 - accuracy: 0.9083 - val_loss: 0.5144 - val_accuracy: 0.8333\n",
            "Epoch 44/200\n",
            "120/120 [==============================] - 0s 144us/step - loss: 0.4301 - accuracy: 0.9167 - val_loss: 0.4991 - val_accuracy: 0.8333\n",
            "Epoch 45/200\n",
            "120/120 [==============================] - 0s 138us/step - loss: 0.4222 - accuracy: 0.9167 - val_loss: 0.4958 - val_accuracy: 0.8333\n",
            "Epoch 46/200\n",
            "120/120 [==============================] - 0s 139us/step - loss: 0.4176 - accuracy: 0.9083 - val_loss: 0.4929 - val_accuracy: 0.8333\n",
            "Epoch 47/200\n",
            "120/120 [==============================] - 0s 122us/step - loss: 0.4096 - accuracy: 0.9083 - val_loss: 0.4760 - val_accuracy: 0.8333\n",
            "Epoch 48/200\n",
            "120/120 [==============================] - 0s 140us/step - loss: 0.4037 - accuracy: 0.9250 - val_loss: 0.4705 - val_accuracy: 0.8333\n",
            "Epoch 49/200\n",
            "120/120 [==============================] - 0s 134us/step - loss: 0.3988 - accuracy: 0.9500 - val_loss: 0.4624 - val_accuracy: 0.8333\n",
            "Epoch 50/200\n",
            "120/120 [==============================] - 0s 137us/step - loss: 0.3924 - accuracy: 0.9167 - val_loss: 0.4695 - val_accuracy: 0.8333\n",
            "Epoch 51/200\n",
            "120/120 [==============================] - 0s 136us/step - loss: 0.3866 - accuracy: 0.9167 - val_loss: 0.4581 - val_accuracy: 0.8333\n",
            "Epoch 52/200\n",
            "120/120 [==============================] - 0s 144us/step - loss: 0.3811 - accuracy: 0.9417 - val_loss: 0.4454 - val_accuracy: 0.8667\n",
            "Epoch 53/200\n",
            "120/120 [==============================] - 0s 138us/step - loss: 0.3772 - accuracy: 0.9250 - val_loss: 0.4447 - val_accuracy: 0.8333\n",
            "Epoch 54/200\n",
            "120/120 [==============================] - 0s 142us/step - loss: 0.3712 - accuracy: 0.9500 - val_loss: 0.4350 - val_accuracy: 0.8667\n",
            "Epoch 55/200\n",
            "120/120 [==============================] - 0s 129us/step - loss: 0.3657 - accuracy: 0.9500 - val_loss: 0.4346 - val_accuracy: 0.8333\n",
            "Epoch 56/200\n",
            "120/120 [==============================] - 0s 131us/step - loss: 0.3612 - accuracy: 0.9333 - val_loss: 0.4303 - val_accuracy: 0.8333\n",
            "Epoch 57/200\n",
            "120/120 [==============================] - 0s 132us/step - loss: 0.3576 - accuracy: 0.9667 - val_loss: 0.4172 - val_accuracy: 0.9000\n",
            "Epoch 58/200\n",
            "120/120 [==============================] - 0s 132us/step - loss: 0.3522 - accuracy: 0.9333 - val_loss: 0.4247 - val_accuracy: 0.8333\n",
            "Epoch 59/200\n",
            "120/120 [==============================] - 0s 133us/step - loss: 0.3495 - accuracy: 0.9667 - val_loss: 0.4060 - val_accuracy: 0.9000\n",
            "Epoch 60/200\n",
            "120/120 [==============================] - 0s 134us/step - loss: 0.3436 - accuracy: 0.9417 - val_loss: 0.4160 - val_accuracy: 0.8333\n",
            "Epoch 61/200\n",
            "120/120 [==============================] - 0s 144us/step - loss: 0.3382 - accuracy: 0.9500 - val_loss: 0.4046 - val_accuracy: 0.8667\n",
            "Epoch 62/200\n",
            "120/120 [==============================] - 0s 136us/step - loss: 0.3343 - accuracy: 0.9667 - val_loss: 0.3966 - val_accuracy: 0.9000\n",
            "Epoch 63/200\n",
            "120/120 [==============================] - 0s 139us/step - loss: 0.3327 - accuracy: 0.9500 - val_loss: 0.4043 - val_accuracy: 0.8333\n",
            "Epoch 64/200\n",
            "120/120 [==============================] - 0s 139us/step - loss: 0.3262 - accuracy: 0.9583 - val_loss: 0.3870 - val_accuracy: 0.9000\n",
            "Epoch 65/200\n",
            "120/120 [==============================] - 0s 152us/step - loss: 0.3225 - accuracy: 0.9667 - val_loss: 0.3809 - val_accuracy: 0.9000\n",
            "Epoch 66/200\n",
            "120/120 [==============================] - 0s 147us/step - loss: 0.3204 - accuracy: 0.9500 - val_loss: 0.3917 - val_accuracy: 0.8667\n",
            "Epoch 67/200\n",
            "120/120 [==============================] - 0s 150us/step - loss: 0.3163 - accuracy: 0.9583 - val_loss: 0.3704 - val_accuracy: 0.9000\n",
            "Epoch 68/200\n",
            "120/120 [==============================] - 0s 143us/step - loss: 0.3106 - accuracy: 0.9667 - val_loss: 0.3716 - val_accuracy: 0.9000\n",
            "Epoch 69/200\n",
            "120/120 [==============================] - 0s 141us/step - loss: 0.3068 - accuracy: 0.9667 - val_loss: 0.3736 - val_accuracy: 0.9000\n",
            "Epoch 70/200\n",
            "120/120 [==============================] - 0s 159us/step - loss: 0.3036 - accuracy: 0.9667 - val_loss: 0.3671 - val_accuracy: 0.9000\n",
            "Epoch 71/200\n",
            "120/120 [==============================] - 0s 151us/step - loss: 0.2997 - accuracy: 0.9667 - val_loss: 0.3660 - val_accuracy: 0.9000\n",
            "Epoch 72/200\n",
            "120/120 [==============================] - 0s 136us/step - loss: 0.2970 - accuracy: 0.9667 - val_loss: 0.3616 - val_accuracy: 0.9000\n",
            "Epoch 73/200\n",
            "120/120 [==============================] - 0s 131us/step - loss: 0.2936 - accuracy: 0.9750 - val_loss: 0.3564 - val_accuracy: 0.9000\n",
            "Epoch 74/200\n",
            "120/120 [==============================] - 0s 126us/step - loss: 0.2895 - accuracy: 0.9667 - val_loss: 0.3582 - val_accuracy: 0.9000\n",
            "Epoch 75/200\n",
            "120/120 [==============================] - 0s 142us/step - loss: 0.2867 - accuracy: 0.9667 - val_loss: 0.3533 - val_accuracy: 0.9000\n",
            "Epoch 76/200\n",
            "120/120 [==============================] - 0s 138us/step - loss: 0.2835 - accuracy: 0.9667 - val_loss: 0.3495 - val_accuracy: 0.9000\n",
            "Epoch 77/200\n",
            "120/120 [==============================] - 0s 147us/step - loss: 0.2812 - accuracy: 0.9750 - val_loss: 0.3409 - val_accuracy: 0.9000\n",
            "Epoch 78/200\n",
            "120/120 [==============================] - 0s 149us/step - loss: 0.2782 - accuracy: 0.9750 - val_loss: 0.3457 - val_accuracy: 0.9000\n",
            "Epoch 79/200\n",
            "120/120 [==============================] - 0s 140us/step - loss: 0.2747 - accuracy: 0.9667 - val_loss: 0.3392 - val_accuracy: 0.9000\n",
            "Epoch 80/200\n",
            "120/120 [==============================] - 0s 145us/step - loss: 0.2722 - accuracy: 0.9750 - val_loss: 0.3376 - val_accuracy: 0.9000\n",
            "Epoch 81/200\n",
            "120/120 [==============================] - 0s 192us/step - loss: 0.2684 - accuracy: 0.9833 - val_loss: 0.3302 - val_accuracy: 0.9000\n",
            "Epoch 82/200\n",
            "120/120 [==============================] - 0s 131us/step - loss: 0.2660 - accuracy: 0.9833 - val_loss: 0.3259 - val_accuracy: 0.9000\n",
            "Epoch 83/200\n",
            "120/120 [==============================] - 0s 141us/step - loss: 0.2632 - accuracy: 0.9833 - val_loss: 0.3311 - val_accuracy: 0.9000\n",
            "Epoch 84/200\n",
            "120/120 [==============================] - 0s 141us/step - loss: 0.2604 - accuracy: 0.9833 - val_loss: 0.3234 - val_accuracy: 0.9000\n",
            "Epoch 85/200\n",
            "120/120 [==============================] - 0s 146us/step - loss: 0.2579 - accuracy: 0.9833 - val_loss: 0.3174 - val_accuracy: 0.9000\n",
            "Epoch 86/200\n",
            "120/120 [==============================] - 0s 149us/step - loss: 0.2557 - accuracy: 0.9833 - val_loss: 0.3238 - val_accuracy: 0.9000\n",
            "Epoch 87/200\n",
            "120/120 [==============================] - 0s 150us/step - loss: 0.2524 - accuracy: 0.9833 - val_loss: 0.3155 - val_accuracy: 0.9000\n",
            "Epoch 88/200\n",
            "120/120 [==============================] - 0s 137us/step - loss: 0.2505 - accuracy: 0.9833 - val_loss: 0.3134 - val_accuracy: 0.9000\n",
            "Epoch 89/200\n",
            "120/120 [==============================] - 0s 148us/step - loss: 0.2475 - accuracy: 0.9833 - val_loss: 0.3091 - val_accuracy: 0.9000\n",
            "Epoch 90/200\n",
            "120/120 [==============================] - 0s 135us/step - loss: 0.2463 - accuracy: 0.9833 - val_loss: 0.3020 - val_accuracy: 0.9333\n",
            "Epoch 91/200\n",
            "120/120 [==============================] - 0s 142us/step - loss: 0.2424 - accuracy: 0.9833 - val_loss: 0.3072 - val_accuracy: 0.9000\n",
            "Epoch 92/200\n",
            "120/120 [==============================] - 0s 137us/step - loss: 0.2411 - accuracy: 0.9833 - val_loss: 0.3115 - val_accuracy: 0.9000\n",
            "Epoch 93/200\n",
            "120/120 [==============================] - 0s 143us/step - loss: 0.2418 - accuracy: 0.9833 - val_loss: 0.2961 - val_accuracy: 0.9333\n",
            "Epoch 94/200\n",
            "120/120 [==============================] - 0s 131us/step - loss: 0.2354 - accuracy: 0.9833 - val_loss: 0.3019 - val_accuracy: 0.9000\n",
            "Epoch 95/200\n",
            "120/120 [==============================] - 0s 187us/step - loss: 0.2335 - accuracy: 0.9833 - val_loss: 0.2951 - val_accuracy: 0.9000\n",
            "Epoch 96/200\n",
            "120/120 [==============================] - 0s 135us/step - loss: 0.2313 - accuracy: 0.9833 - val_loss: 0.2936 - val_accuracy: 0.9000\n",
            "Epoch 97/200\n",
            "120/120 [==============================] - 0s 135us/step - loss: 0.2303 - accuracy: 0.9833 - val_loss: 0.2976 - val_accuracy: 0.9000\n",
            "Epoch 98/200\n",
            "120/120 [==============================] - 0s 137us/step - loss: 0.2279 - accuracy: 0.9833 - val_loss: 0.2885 - val_accuracy: 0.9000\n",
            "Epoch 99/200\n",
            "120/120 [==============================] - 0s 174us/step - loss: 0.2252 - accuracy: 0.9833 - val_loss: 0.2842 - val_accuracy: 0.9333\n",
            "Epoch 100/200\n",
            "120/120 [==============================] - 0s 133us/step - loss: 0.2242 - accuracy: 0.9833 - val_loss: 0.2926 - val_accuracy: 0.9000\n",
            "Epoch 101/200\n",
            "120/120 [==============================] - 0s 136us/step - loss: 0.2209 - accuracy: 0.9833 - val_loss: 0.2777 - val_accuracy: 0.9333\n",
            "Epoch 102/200\n",
            "120/120 [==============================] - 0s 152us/step - loss: 0.2197 - accuracy: 0.9833 - val_loss: 0.2785 - val_accuracy: 0.9333\n",
            "Epoch 103/200\n",
            "120/120 [==============================] - 0s 139us/step - loss: 0.2170 - accuracy: 0.9833 - val_loss: 0.2845 - val_accuracy: 0.9000\n",
            "Epoch 104/200\n",
            "120/120 [==============================] - 0s 133us/step - loss: 0.2149 - accuracy: 0.9833 - val_loss: 0.2769 - val_accuracy: 0.9000\n",
            "Epoch 105/200\n",
            "120/120 [==============================] - 0s 137us/step - loss: 0.2143 - accuracy: 0.9833 - val_loss: 0.2721 - val_accuracy: 0.9333\n",
            "Epoch 106/200\n",
            "120/120 [==============================] - 0s 147us/step - loss: 0.2121 - accuracy: 0.9833 - val_loss: 0.2764 - val_accuracy: 0.9000\n",
            "Epoch 107/200\n",
            "120/120 [==============================] - 0s 165us/step - loss: 0.2090 - accuracy: 0.9833 - val_loss: 0.2724 - val_accuracy: 0.9000\n",
            "Epoch 108/200\n",
            "120/120 [==============================] - 0s 147us/step - loss: 0.2074 - accuracy: 0.9833 - val_loss: 0.2688 - val_accuracy: 0.9333\n",
            "Epoch 109/200\n",
            "120/120 [==============================] - 0s 139us/step - loss: 0.2064 - accuracy: 0.9833 - val_loss: 0.2677 - val_accuracy: 0.9333\n",
            "Epoch 110/200\n",
            "120/120 [==============================] - 0s 143us/step - loss: 0.2041 - accuracy: 0.9833 - val_loss: 0.2723 - val_accuracy: 0.9000\n",
            "Epoch 111/200\n",
            "120/120 [==============================] - 0s 151us/step - loss: 0.2029 - accuracy: 0.9833 - val_loss: 0.2602 - val_accuracy: 0.9333\n",
            "Epoch 112/200\n",
            "120/120 [==============================] - 0s 135us/step - loss: 0.2013 - accuracy: 0.9833 - val_loss: 0.2635 - val_accuracy: 0.9333\n",
            "Epoch 113/200\n",
            "120/120 [==============================] - 0s 141us/step - loss: 0.1998 - accuracy: 0.9833 - val_loss: 0.2689 - val_accuracy: 0.9000\n",
            "Epoch 114/200\n",
            "120/120 [==============================] - 0s 136us/step - loss: 0.1984 - accuracy: 0.9833 - val_loss: 0.2516 - val_accuracy: 0.9333\n",
            "Epoch 115/200\n",
            "120/120 [==============================] - 0s 147us/step - loss: 0.1981 - accuracy: 0.9833 - val_loss: 0.2517 - val_accuracy: 0.9333\n",
            "Epoch 116/200\n",
            "120/120 [==============================] - 0s 135us/step - loss: 0.1946 - accuracy: 0.9833 - val_loss: 0.2685 - val_accuracy: 0.9000\n",
            "Epoch 117/200\n",
            "120/120 [==============================] - 0s 138us/step - loss: 0.1934 - accuracy: 0.9833 - val_loss: 0.2595 - val_accuracy: 0.9000\n",
            "Epoch 118/200\n",
            "120/120 [==============================] - 0s 131us/step - loss: 0.1926 - accuracy: 0.9833 - val_loss: 0.2456 - val_accuracy: 0.9333\n",
            "Epoch 119/200\n",
            "120/120 [==============================] - 0s 141us/step - loss: 0.1888 - accuracy: 0.9833 - val_loss: 0.2536 - val_accuracy: 0.9333\n",
            "Epoch 120/200\n",
            "120/120 [==============================] - 0s 130us/step - loss: 0.1881 - accuracy: 0.9833 - val_loss: 0.2512 - val_accuracy: 0.9333\n",
            "Epoch 121/200\n",
            "120/120 [==============================] - 0s 127us/step - loss: 0.1866 - accuracy: 0.9833 - val_loss: 0.2469 - val_accuracy: 0.9333\n",
            "Epoch 122/200\n",
            "120/120 [==============================] - 0s 133us/step - loss: 0.1847 - accuracy: 0.9833 - val_loss: 0.2460 - val_accuracy: 0.9333\n",
            "Epoch 123/200\n",
            "120/120 [==============================] - 0s 136us/step - loss: 0.1831 - accuracy: 0.9833 - val_loss: 0.2502 - val_accuracy: 0.9000\n",
            "Epoch 124/200\n",
            "120/120 [==============================] - 0s 135us/step - loss: 0.1823 - accuracy: 0.9833 - val_loss: 0.2467 - val_accuracy: 0.9333\n",
            "Epoch 125/200\n",
            "120/120 [==============================] - 0s 131us/step - loss: 0.1801 - accuracy: 0.9833 - val_loss: 0.2393 - val_accuracy: 0.9333\n",
            "Epoch 126/200\n",
            "120/120 [==============================] - 0s 139us/step - loss: 0.1799 - accuracy: 0.9833 - val_loss: 0.2461 - val_accuracy: 0.9000\n",
            "Epoch 127/200\n",
            "120/120 [==============================] - 0s 132us/step - loss: 0.1772 - accuracy: 0.9833 - val_loss: 0.2406 - val_accuracy: 0.9333\n",
            "Epoch 128/200\n",
            "120/120 [==============================] - 0s 149us/step - loss: 0.1770 - accuracy: 0.9833 - val_loss: 0.2340 - val_accuracy: 0.9333\n",
            "Epoch 129/200\n",
            "120/120 [==============================] - 0s 136us/step - loss: 0.1747 - accuracy: 0.9833 - val_loss: 0.2357 - val_accuracy: 0.9333\n",
            "Epoch 130/200\n",
            "120/120 [==============================] - 0s 168us/step - loss: 0.1737 - accuracy: 0.9833 - val_loss: 0.2368 - val_accuracy: 0.9333\n",
            "Epoch 131/200\n",
            "120/120 [==============================] - 0s 150us/step - loss: 0.1721 - accuracy: 0.9833 - val_loss: 0.2334 - val_accuracy: 0.9333\n",
            "Epoch 132/200\n",
            "120/120 [==============================] - 0s 158us/step - loss: 0.1723 - accuracy: 0.9833 - val_loss: 0.2361 - val_accuracy: 0.9333\n",
            "Epoch 133/200\n",
            "120/120 [==============================] - 0s 147us/step - loss: 0.1694 - accuracy: 0.9833 - val_loss: 0.2282 - val_accuracy: 0.9333\n",
            "Epoch 134/200\n",
            "120/120 [==============================] - 0s 134us/step - loss: 0.1689 - accuracy: 0.9833 - val_loss: 0.2284 - val_accuracy: 0.9333\n",
            "Epoch 135/200\n",
            "120/120 [==============================] - 0s 133us/step - loss: 0.1673 - accuracy: 0.9833 - val_loss: 0.2251 - val_accuracy: 0.9333\n",
            "Epoch 136/200\n",
            "120/120 [==============================] - 0s 132us/step - loss: 0.1697 - accuracy: 0.9833 - val_loss: 0.2372 - val_accuracy: 0.9000\n",
            "Epoch 137/200\n",
            "120/120 [==============================] - 0s 145us/step - loss: 0.1654 - accuracy: 0.9833 - val_loss: 0.2222 - val_accuracy: 0.9333\n",
            "Epoch 138/200\n",
            "120/120 [==============================] - 0s 139us/step - loss: 0.1638 - accuracy: 0.9833 - val_loss: 0.2241 - val_accuracy: 0.9333\n",
            "Epoch 139/200\n",
            "120/120 [==============================] - 0s 141us/step - loss: 0.1626 - accuracy: 0.9833 - val_loss: 0.2268 - val_accuracy: 0.9333\n",
            "Epoch 140/200\n",
            "120/120 [==============================] - 0s 151us/step - loss: 0.1618 - accuracy: 0.9833 - val_loss: 0.2255 - val_accuracy: 0.9333\n",
            "Epoch 141/200\n",
            "120/120 [==============================] - 0s 174us/step - loss: 0.1604 - accuracy: 0.9833 - val_loss: 0.2221 - val_accuracy: 0.9333\n",
            "Epoch 142/200\n",
            "120/120 [==============================] - 0s 136us/step - loss: 0.1594 - accuracy: 0.9833 - val_loss: 0.2244 - val_accuracy: 0.9333\n",
            "Epoch 143/200\n",
            "120/120 [==============================] - 0s 131us/step - loss: 0.1581 - accuracy: 0.9833 - val_loss: 0.2200 - val_accuracy: 0.9333\n",
            "Epoch 144/200\n",
            "120/120 [==============================] - 0s 132us/step - loss: 0.1569 - accuracy: 0.9833 - val_loss: 0.2194 - val_accuracy: 0.9333\n",
            "Epoch 145/200\n",
            "120/120 [==============================] - 0s 142us/step - loss: 0.1569 - accuracy: 0.9833 - val_loss: 0.2150 - val_accuracy: 0.9333\n",
            "Epoch 146/200\n",
            "120/120 [==============================] - 0s 141us/step - loss: 0.1558 - accuracy: 0.9833 - val_loss: 0.2186 - val_accuracy: 0.9333\n",
            "Epoch 147/200\n",
            "120/120 [==============================] - 0s 151us/step - loss: 0.1540 - accuracy: 0.9833 - val_loss: 0.2156 - val_accuracy: 0.9333\n",
            "Epoch 148/200\n",
            "120/120 [==============================] - 0s 147us/step - loss: 0.1532 - accuracy: 0.9833 - val_loss: 0.2160 - val_accuracy: 0.9333\n",
            "Epoch 149/200\n",
            "120/120 [==============================] - 0s 135us/step - loss: 0.1523 - accuracy: 0.9833 - val_loss: 0.2120 - val_accuracy: 0.9333\n",
            "Epoch 150/200\n",
            "120/120 [==============================] - 0s 131us/step - loss: 0.1516 - accuracy: 0.9833 - val_loss: 0.2075 - val_accuracy: 0.9333\n",
            "Epoch 151/200\n",
            "120/120 [==============================] - 0s 168us/step - loss: 0.1503 - accuracy: 0.9833 - val_loss: 0.2149 - val_accuracy: 0.9333\n",
            "Epoch 152/200\n",
            "120/120 [==============================] - 0s 153us/step - loss: 0.1498 - accuracy: 0.9833 - val_loss: 0.2092 - val_accuracy: 0.9333\n",
            "Epoch 153/200\n",
            "120/120 [==============================] - 0s 164us/step - loss: 0.1480 - accuracy: 0.9833 - val_loss: 0.2133 - val_accuracy: 0.9333\n",
            "Epoch 154/200\n",
            "120/120 [==============================] - 0s 144us/step - loss: 0.1476 - accuracy: 0.9833 - val_loss: 0.2074 - val_accuracy: 0.9333\n",
            "Epoch 155/200\n",
            "120/120 [==============================] - 0s 147us/step - loss: 0.1467 - accuracy: 0.9833 - val_loss: 0.2078 - val_accuracy: 0.9333\n",
            "Epoch 156/200\n",
            "120/120 [==============================] - 0s 138us/step - loss: 0.1480 - accuracy: 0.9833 - val_loss: 0.2162 - val_accuracy: 0.9000\n",
            "Epoch 157/200\n",
            "120/120 [==============================] - 0s 160us/step - loss: 0.1471 - accuracy: 0.9833 - val_loss: 0.1967 - val_accuracy: 0.9667\n",
            "Epoch 158/200\n",
            "120/120 [==============================] - 0s 175us/step - loss: 0.1453 - accuracy: 0.9833 - val_loss: 0.2111 - val_accuracy: 0.9333\n",
            "Epoch 159/200\n",
            "120/120 [==============================] - 0s 154us/step - loss: 0.1443 - accuracy: 0.9833 - val_loss: 0.2012 - val_accuracy: 0.9333\n",
            "Epoch 160/200\n",
            "120/120 [==============================] - 0s 146us/step - loss: 0.1462 - accuracy: 0.9833 - val_loss: 0.2149 - val_accuracy: 0.9000\n",
            "Epoch 161/200\n",
            "120/120 [==============================] - 0s 141us/step - loss: 0.1407 - accuracy: 0.9833 - val_loss: 0.1976 - val_accuracy: 0.9667\n",
            "Epoch 162/200\n",
            "120/120 [==============================] - 0s 146us/step - loss: 0.1423 - accuracy: 0.9833 - val_loss: 0.1958 - val_accuracy: 0.9667\n",
            "Epoch 163/200\n",
            "120/120 [==============================] - 0s 134us/step - loss: 0.1396 - accuracy: 0.9833 - val_loss: 0.2081 - val_accuracy: 0.9333\n",
            "Epoch 164/200\n",
            "120/120 [==============================] - 0s 133us/step - loss: 0.1384 - accuracy: 0.9833 - val_loss: 0.2036 - val_accuracy: 0.9333\n",
            "Epoch 165/200\n",
            "120/120 [==============================] - 0s 144us/step - loss: 0.1380 - accuracy: 0.9833 - val_loss: 0.1968 - val_accuracy: 0.9667\n",
            "Epoch 166/200\n",
            "120/120 [==============================] - 0s 144us/step - loss: 0.1372 - accuracy: 0.9833 - val_loss: 0.1970 - val_accuracy: 0.9333\n",
            "Epoch 167/200\n",
            "120/120 [==============================] - 0s 137us/step - loss: 0.1361 - accuracy: 0.9833 - val_loss: 0.2017 - val_accuracy: 0.9333\n",
            "Epoch 168/200\n",
            "120/120 [==============================] - 0s 147us/step - loss: 0.1355 - accuracy: 0.9833 - val_loss: 0.2001 - val_accuracy: 0.9333\n",
            "Epoch 169/200\n",
            "120/120 [==============================] - 0s 147us/step - loss: 0.1344 - accuracy: 0.9833 - val_loss: 0.1991 - val_accuracy: 0.9333\n",
            "Epoch 170/200\n",
            "120/120 [==============================] - 0s 137us/step - loss: 0.1357 - accuracy: 0.9833 - val_loss: 0.1880 - val_accuracy: 0.9667\n",
            "Epoch 171/200\n",
            "120/120 [==============================] - 0s 153us/step - loss: 0.1328 - accuracy: 0.9833 - val_loss: 0.1997 - val_accuracy: 0.9333\n",
            "Epoch 172/200\n",
            "120/120 [==============================] - 0s 156us/step - loss: 0.1327 - accuracy: 0.9833 - val_loss: 0.1943 - val_accuracy: 0.9333\n",
            "Epoch 173/200\n",
            "120/120 [==============================] - 0s 139us/step - loss: 0.1336 - accuracy: 0.9833 - val_loss: 0.1987 - val_accuracy: 0.9333\n",
            "Epoch 174/200\n",
            "120/120 [==============================] - 0s 149us/step - loss: 0.1301 - accuracy: 0.9833 - val_loss: 0.1877 - val_accuracy: 0.9667\n",
            "Epoch 175/200\n",
            "120/120 [==============================] - 0s 146us/step - loss: 0.1305 - accuracy: 0.9833 - val_loss: 0.1917 - val_accuracy: 0.9333\n",
            "Epoch 176/200\n",
            "120/120 [==============================] - 0s 133us/step - loss: 0.1300 - accuracy: 0.9833 - val_loss: 0.1934 - val_accuracy: 0.9333\n",
            "Epoch 177/200\n",
            "120/120 [==============================] - 0s 147us/step - loss: 0.1289 - accuracy: 0.9833 - val_loss: 0.1887 - val_accuracy: 0.9667\n",
            "Epoch 178/200\n",
            "120/120 [==============================] - 0s 149us/step - loss: 0.1280 - accuracy: 0.9833 - val_loss: 0.1850 - val_accuracy: 0.9667\n",
            "Epoch 179/200\n",
            "120/120 [==============================] - 0s 135us/step - loss: 0.1272 - accuracy: 0.9833 - val_loss: 0.1890 - val_accuracy: 0.9667\n",
            "Epoch 180/200\n",
            "120/120 [==============================] - 0s 151us/step - loss: 0.1262 - accuracy: 0.9833 - val_loss: 0.1895 - val_accuracy: 0.9333\n",
            "Epoch 181/200\n",
            "120/120 [==============================] - 0s 140us/step - loss: 0.1271 - accuracy: 0.9833 - val_loss: 0.1940 - val_accuracy: 0.9333\n",
            "Epoch 182/200\n",
            "120/120 [==============================] - 0s 132us/step - loss: 0.1263 - accuracy: 0.9833 - val_loss: 0.1817 - val_accuracy: 0.9667\n",
            "Epoch 183/200\n",
            "120/120 [==============================] - 0s 124us/step - loss: 0.1253 - accuracy: 0.9833 - val_loss: 0.1888 - val_accuracy: 0.9333\n",
            "Epoch 184/200\n",
            "120/120 [==============================] - 0s 160us/step - loss: 0.1251 - accuracy: 0.9833 - val_loss: 0.1829 - val_accuracy: 0.9667\n",
            "Epoch 185/200\n",
            "120/120 [==============================] - 0s 145us/step - loss: 0.1251 - accuracy: 0.9833 - val_loss: 0.1788 - val_accuracy: 0.9667\n",
            "Epoch 186/200\n",
            "120/120 [==============================] - 0s 150us/step - loss: 0.1230 - accuracy: 0.9833 - val_loss: 0.1919 - val_accuracy: 0.9333\n",
            "Epoch 187/200\n",
            "120/120 [==============================] - 0s 146us/step - loss: 0.1220 - accuracy: 0.9833 - val_loss: 0.1856 - val_accuracy: 0.9333\n",
            "Epoch 188/200\n",
            "120/120 [==============================] - 0s 144us/step - loss: 0.1225 - accuracy: 0.9833 - val_loss: 0.1819 - val_accuracy: 0.9667\n",
            "Epoch 189/200\n",
            "120/120 [==============================] - 0s 150us/step - loss: 0.1211 - accuracy: 0.9833 - val_loss: 0.1798 - val_accuracy: 0.9667\n",
            "Epoch 190/200\n",
            "120/120 [==============================] - 0s 138us/step - loss: 0.1205 - accuracy: 0.9833 - val_loss: 0.1881 - val_accuracy: 0.9333\n",
            "Epoch 191/200\n",
            "120/120 [==============================] - 0s 146us/step - loss: 0.1201 - accuracy: 0.9833 - val_loss: 0.1855 - val_accuracy: 0.9333\n",
            "Epoch 192/200\n",
            "120/120 [==============================] - 0s 136us/step - loss: 0.1204 - accuracy: 0.9833 - val_loss: 0.1718 - val_accuracy: 0.9667\n",
            "Epoch 193/200\n",
            "120/120 [==============================] - 0s 138us/step - loss: 0.1187 - accuracy: 0.9833 - val_loss: 0.1808 - val_accuracy: 0.9667\n",
            "Epoch 194/200\n",
            "120/120 [==============================] - 0s 134us/step - loss: 0.1182 - accuracy: 0.9833 - val_loss: 0.1834 - val_accuracy: 0.9333\n",
            "Epoch 195/200\n",
            "120/120 [==============================] - 0s 145us/step - loss: 0.1175 - accuracy: 0.9833 - val_loss: 0.1776 - val_accuracy: 0.9667\n",
            "Epoch 196/200\n",
            "120/120 [==============================] - 0s 134us/step - loss: 0.1174 - accuracy: 0.9833 - val_loss: 0.1789 - val_accuracy: 0.9667\n",
            "Epoch 197/200\n",
            "120/120 [==============================] - 0s 167us/step - loss: 0.1160 - accuracy: 0.9833 - val_loss: 0.1792 - val_accuracy: 0.9667\n",
            "Epoch 198/200\n",
            "120/120 [==============================] - 0s 137us/step - loss: 0.1167 - accuracy: 0.9833 - val_loss: 0.1825 - val_accuracy: 0.9333\n",
            "Epoch 199/200\n",
            "120/120 [==============================] - 0s 150us/step - loss: 0.1145 - accuracy: 0.9833 - val_loss: 0.1758 - val_accuracy: 0.9667\n",
            "Epoch 200/200\n",
            "120/120 [==============================] - 0s 137us/step - loss: 0.1142 - accuracy: 0.9833 - val_loss: 0.1718 - val_accuracy: 0.9667\n"
          ],
          "name": "stdout"
        }
      ]
    },
    {
      "cell_type": "markdown",
      "metadata": {
        "id": "1zMiHHnT6_H6",
        "colab_type": "text"
      },
      "source": [
        "학습 결과 그려보기"
      ]
    },
    {
      "cell_type": "code",
      "metadata": {
        "id": "Chz7ff2q7ABg",
        "colab_type": "code",
        "colab": {
          "base_uri": "https://localhost:8080/",
          "height": 350
        },
        "outputId": "7f1f6d31-e7b9-4b06-f81d-528443fb1476"
      },
      "source": [
        "import matplotlib.pyplot as plt\n",
        "\n",
        "his_dict = history.history\n",
        "loss = his_dict['loss']\n",
        "val_loss = his_dict['val_loss'] # 검증 데이터가 있는 경우 ‘val_’ 수식어가 붙습니다.\n",
        "\n",
        "epochs = range(1, len(loss) + 1)\n",
        "fig = plt.figure(figsize = (10, 5))\n",
        "\n",
        "# 훈련 및 검증 손실 그리기\n",
        "ax1 = fig.add_subplot(1, 2, 1)\n",
        "ax1.plot(epochs, loss, color = 'blue', label = 'train_loss')\n",
        "ax1.plot(epochs, val_loss, color = 'orange', label = 'val_loss')\n",
        "ax1.set_title('train and val loss')\n",
        "ax1.set_xlabel('epochs')\n",
        "ax1.set_ylabel('loss')\n",
        "ax1.legend()\n",
        "\n",
        "acc = his_dict['accuracy']\n",
        "val_acc = his_dict['val_accuracy']\n",
        "\n",
        "# 훈련 및 검증 정확도 그리기\n",
        "ax2 = fig.add_subplot(1, 2, 2)\n",
        "ax2.plot(epochs, acc, color = 'blue', label = 'train_acc')\n",
        "ax2.plot(epochs, val_acc, color = 'orange', label = 'val_acc')\n",
        "ax2.set_title('train and val acc')\n",
        "ax2.set_xlabel('epochs')\n",
        "ax2.set_ylabel('acc')\n",
        "ax2.legend()\n",
        "\n",
        "plt.show()"
      ],
      "execution_count": null,
      "outputs": [
        {
          "output_type": "display_data",
          "data": {
            "image/png": "[encoded data removed]",
            "text/plain": [
              "<Figure size 720x360 with 2 Axes>"
            ]
          },
          "metadata": {
            "tags": [],
            "needs_background": "light"
          }
        }
      ]
    },
    {
      "cell_type": "markdown",
      "metadata": {
        "id": "quFgJddF7Kp9",
        "colab_type": "text"
      },
      "source": [
        "모델 평가하기"
      ]
    },
    {
      "cell_type": "code",
      "metadata": {
        "id": "stoUDFEJ7LXM",
        "colab_type": "code",
        "colab": {
          "base_uri": "https://localhost:8080/",
          "height": 53
        },
        "outputId": "2def581e-0501-4c30-d2f3-8d960a275fb8"
      },
      "source": [
        "scores = model.evaluate(X_test, y_test)\n",
        "print(\"%s: %.2f%%\" %(model.metrics_names[1], scores[1]*100))"
      ],
      "execution_count": null,
      "outputs": [
        {
          "output_type": "stream",
          "text": [
            "\r30/30 [==============================] - 0s 38us/step\n",
            "accuracy: 96.67%\n"
          ],
          "name": "stdout"
        }
      ]
    }
  ]
}