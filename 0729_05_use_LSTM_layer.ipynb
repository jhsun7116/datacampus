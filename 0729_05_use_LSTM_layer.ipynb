{
  "nbformat": 4,
  "nbformat_minor": 0,
  "metadata": {
    "colab": {
      "name": "0729_05_use_LSTM_layer.ipynb",
      "provenance": []
    },
    "kernelspec": {
      "name": "python3",
      "display_name": "Python 3"
    },
    "accelerator": "GPU"
  },
  "cells": [
    {
      "cell_type": "markdown",
      "metadata": {
        "id": "4UnS14khDqOb",
        "colab_type": "text"
      },
      "source": [
        "IMDB 데이터셋으로 LSTM 학습시키기"
      ]
    },
    {
      "cell_type": "code",
      "metadata": {
        "id": "BQQGoWOJDL-R",
        "colab_type": "code",
        "colab": {
          "base_uri": "https://localhost:8080/",
          "height": 106
        },
        "outputId": "cc54f670-73b9-493b-d03b-fdc80361e374"
      },
      "source": [
        "from tensorflow.keras.datasets import imdb\n",
        "\n",
        "num_words = 10000\n",
        "(X_train, y_train), (X_test, y_test) = imdb.load_data(num_words=num_words)\n",
        "\n",
        "print(X_train.shape, y_train.shape)\n",
        "print(X_test.shape, y_test.shape)\n",
        "\n",
        "from tensorflow.keras.preprocessing.sequence import pad_sequences\n",
        "\n",
        "max_len = 350\n",
        "\n",
        "pad_X_train = pad_sequences(X_train, maxlen=max_len)\n",
        "pad_X_test = pad_sequences(X_test, maxlen=max_len)\n",
        "\n",
        "print(len(pad_X_train[0]))\n",
        "\n",
        "from tensorflow.keras.models import Sequential\n",
        "from tensorflow.keras.layers import LSTM, Dense, Embedding  \n",
        "\n",
        "model = Sequential()\n",
        "model.add(Embedding(input_dim = num_words, output_dim = 32))\n",
        "model.add(LSTM(64, return_sequences = True))\n",
        "model.add(LSTM(64, return_sequences = True))#넓게 받아서 줄여줄 수 있다. 넓게 받는건 오류가 안나는데 좁으면 오류가 난다.\n",
        "model.add(LSTM(32))\n",
        "model.add(Dense(1, activation = 'sigmoid'))\n",
        "\n",
        "model.compile(optimizer='adam',\n",
        "             loss = 'binary_crossentropy',\n",
        "             metrics = ['acc'])\n"
      ],
      "execution_count": null,
      "outputs": [
        {
          "output_type": "stream",
          "text": [
            "Downloading data from https://storage.googleapis.com/tensorflow/tf-keras-datasets/imdb.npz\n",
            "17465344/17464789 [==============================] - 0s 0us/step\n",
            "(25000,) (25000,)\n",
            "(25000,) (25000,)\n",
            "350\n"
          ],
          "name": "stdout"
        }
      ]
    },
    {
      "cell_type": "markdown",
      "metadata": {
        "id": "jTJc29X1DuV4",
        "colab_type": "text"
      },
      "source": [
        "학습 시키기"
      ]
    },
    {
      "cell_type": "code",
      "metadata": {
        "id": "ZsreYfRTDvaD",
        "colab_type": "code",
        "colab": {
          "base_uri": "https://localhost:8080/",
          "height": 550
        },
        "outputId": "de80cb46-bd64-4da2-c220-af1fdedd4db7"
      },
      "source": [
        "history = model.fit(pad_X_train, y_train, \n",
        "                    batch_size = 32, epochs = 15, \n",
        "                    validation_split = 0.2)"
      ],
      "execution_count": null,
      "outputs": [
        {
          "output_type": "stream",
          "text": [
            "Epoch 1/15\n",
            "625/625 [==============================] - 28s 44ms/step - loss: 0.5980 - acc: 0.6793 - val_loss: 0.6755 - val_acc: 0.5524\n",
            "Epoch 2/15\n",
            "625/625 [==============================] - 27s 43ms/step - loss: 0.4997 - acc: 0.7591 - val_loss: 0.4107 - val_acc: 0.8232\n",
            "Epoch 3/15\n",
            "625/625 [==============================] - 27s 43ms/step - loss: 0.3211 - acc: 0.8695 - val_loss: 0.4004 - val_acc: 0.8340\n",
            "Epoch 4/15\n",
            "625/625 [==============================] - 27s 43ms/step - loss: 0.2343 - acc: 0.9100 - val_loss: 0.3273 - val_acc: 0.8584\n",
            "Epoch 5/15\n",
            "625/625 [==============================] - 27s 43ms/step - loss: 0.1876 - acc: 0.9311 - val_loss: 0.3337 - val_acc: 0.8674\n",
            "Epoch 6/15\n",
            "625/625 [==============================] - 27s 43ms/step - loss: 0.1803 - acc: 0.9342 - val_loss: 0.3806 - val_acc: 0.8630\n",
            "Epoch 7/15\n",
            "625/625 [==============================] - 27s 43ms/step - loss: 0.1427 - acc: 0.9503 - val_loss: 0.3869 - val_acc: 0.8644\n",
            "Epoch 8/15\n",
            "625/625 [==============================] - 27s 43ms/step - loss: 0.1120 - acc: 0.9634 - val_loss: 0.4265 - val_acc: 0.8518\n",
            "Epoch 9/15\n",
            "625/625 [==============================] - 27s 43ms/step - loss: 0.0933 - acc: 0.9709 - val_loss: 0.4670 - val_acc: 0.8460\n",
            "Epoch 10/15\n",
            "625/625 [==============================] - 27s 44ms/step - loss: 0.0787 - acc: 0.9756 - val_loss: 0.4838 - val_acc: 0.8598\n",
            "Epoch 11/15\n",
            "625/625 [==============================] - 27s 43ms/step - loss: 0.0687 - acc: 0.9803 - val_loss: 0.5643 - val_acc: 0.8336\n",
            "Epoch 12/15\n",
            "625/625 [==============================] - 27s 43ms/step - loss: 0.0565 - acc: 0.9843 - val_loss: 0.5072 - val_acc: 0.8506\n",
            "Epoch 13/15\n",
            "625/625 [==============================] - 27s 43ms/step - loss: 0.0551 - acc: 0.9841 - val_loss: 0.4845 - val_acc: 0.8606\n",
            "Epoch 14/15\n",
            "625/625 [==============================] - 27s 43ms/step - loss: 0.0442 - acc: 0.9865 - val_loss: 0.5410 - val_acc: 0.8588\n",
            "Epoch 15/15\n",
            "625/625 [==============================] - 27s 43ms/step - loss: 0.0375 - acc: 0.9903 - val_loss: 0.6035 - val_acc: 0.8536\n"
          ],
          "name": "stdout"
        }
      ]
    },
    {
      "cell_type": "markdown",
      "metadata": {
        "id": "s5oFd-gYEg6B",
        "colab_type": "text"
      },
      "source": [
        "학습 과정 그리기"
      ]
    },
    {
      "cell_type": "code",
      "metadata": {
        "id": "5Twl0q_2Ehrk",
        "colab_type": "code",
        "colab": {
          "base_uri": "https://localhost:8080/",
          "height": 350
        },
        "outputId": "6723c07f-f118-4114-e158-c8f7f0df914a"
      },
      "source": [
        "import matplotlib.pyplot as plt\n",
        "\n",
        "his_dict = history.history\n",
        "loss = his_dict['loss']\n",
        "val_loss = his_dict['val_loss'] \n",
        "\n",
        "epochs = range(1, len(loss) + 1)\n",
        "fig = plt.figure(figsize = (10, 5))\n",
        "\n",
        "# 훈련 및 검증 손실 그리기\n",
        "ax1 = fig.add_subplot(1, 2, 1)\n",
        "ax1.plot(epochs, loss, color = 'blue', label = 'train_loss')\n",
        "ax1.plot(epochs, val_loss, color = 'orange', label = 'val_loss')\n",
        "ax1.set_title('train and val loss')\n",
        "ax1.set_xlabel('epochs')\n",
        "ax1.set_ylabel('loss')\n",
        "ax1.legend()\n",
        "\n",
        "acc = his_dict['acc']\n",
        "val_acc = his_dict['val_acc']\n",
        "\n",
        "# 훈련 및 검증 정확도 그리기\n",
        "ax2 = fig.add_subplot(1, 2, 2)\n",
        "ax2.plot(epochs, acc, color = 'blue', label = 'train_acc')\n",
        "ax2.plot(epochs, val_acc, color = 'orange', label = 'val_acc')\n",
        "ax2.set_title('train and val acc')\n",
        "ax2.set_xlabel('epochs')\n",
        "ax2.set_ylabel('acc')\n",
        "ax2.legend()\n",
        "\n",
        "plt.show()"
      ],
      "execution_count": null,
      "outputs": [
        {
          "output_type": "display_data",
          "data": {
            "image/png": "[encoded data removed]",
            "text/plain": [
              "<Figure size 720x360 with 2 Axes>"
            ]
          },
          "metadata": {
            "tags": [],
            "needs_background": "light"
          }
        }
      ]
    },
    {
      "cell_type": "markdown",
      "metadata": {
        "id": "da4kXF8fGCMV",
        "colab_type": "text"
      },
      "source": [
        "모델 평가하기"
      ]
    },
    {
      "cell_type": "code",
      "metadata": {
        "id": "f9sbqsXrGCwH",
        "colab_type": "code",
        "colab": {
          "base_uri": "https://localhost:8080/",
          "height": 52
        },
        "outputId": "6e38d815-8b5c-4d99-cfbf-687201597f65"
      },
      "source": [
        "model.evaluate(pad_X_test, y_test)"
      ],
      "execution_count": null,
      "outputs": [
        {
          "output_type": "stream",
          "text": [
            "782/782 [==============================] - 14s 18ms/step - loss: 0.6779 - acc: 0.8380\n"
          ],
          "name": "stdout"
        },
        {
          "output_type": "execute_result",
          "data": {
            "text/plain": [
              "[0.677906334400177, 0.8380399942398071]"
            ]
          },
          "metadata": {
            "tags": []
          },
          "execution_count": 4
        }
      ]
    }
  ]
}